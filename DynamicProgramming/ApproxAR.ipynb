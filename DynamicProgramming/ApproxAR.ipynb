{
 "cells": [
  {
   "cell_type": "markdown",
   "metadata": {},
   "source": [
    "# Approximating Autoregressive Processes\n",
    "### by [Jason DeBacker](http://jasondebacker.com), November 2017\n",
    "This Jupyter notebook was written using Python 3.6. To execute all the code here, one will need a the Python script `ar1_approx.py` to be located in the directory with this notebook.\n",
    "\n",
    "Consider the AR(1) process given by:\n",
    "\n",
    "$$ z_{t+1} = \\rho z_{t} + (1-\\rho)\\mu + \\varepsilon_{t}, $$\n",
    "\n",
    "where $\\varepsilon_{t}\\sim N(0,\\sigma_{\\varepsilon})$.  \n",
    "\n",
    "With such a process, $z$ can take on any value on the real line.  The distribution of $z$ looks like:"
   ]
  },
  {
   "cell_type": "code",
   "execution_count": 1,
   "metadata": {},
   "outputs": [
    {
     "data": {
      "text/plain": [
<<<<<<< HEAD
       "<matplotlib.axes._subplots.AxesSubplot at 0x1a0c8ea240>"
=======
       "<matplotlib.axes._subplots.AxesSubplot at 0x1a10be9390>"
>>>>>>> upstream/master
      ]
     },
     "execution_count": 1,
     "metadata": {},
     "output_type": "execute_result"
    },
    {
     "data": {
<<<<<<< HEAD
      "image/png": "iVBORw0KGgoAAAANSUhEUgAAAXcAAAD8CAYAAACMwORRAAAABHNCSVQICAgIfAhkiAAAAAlwSFlz\nAAALEgAACxIB0t1+/AAAADl0RVh0U29mdHdhcmUAbWF0cGxvdGxpYiB2ZXJzaW9uIDIuMS4wLCBo\ndHRwOi8vbWF0cGxvdGxpYi5vcmcvpW3flQAAIABJREFUeJzt3Xl4VHe9P/D3ZyaZ7PtKFrKz76QQ\nlm5KLdUW2tuqrdXbWrX6aB/1eu/PW+/S+7Pe3p/Lfbzqz96fVu19qlZrba3FlpZu0BZogACBEhIg\nJIEsQPaEEJLM8vn9MTMY0kAmyUzOzJn363nyMOfMYc5nIPPOyed8z/eIqoKIiMzFYnQBRETkfwx3\nIiITYrgTEZkQw52IyIQY7kREJsRwJyIyIYY7EZEJMdyJiEyI4U5EZEIRRu04PT1dCwsLjdo9EVFI\n2r9/f6eqZky0nWHhXlhYiKqqKqN2T0QUkkTklC/bsS1DRGRCDHciIhNiuBMRmRDDnYjIhBjuREQm\nxHAnIjIhhjsRkQkx3InGUFU4nC6jyyCaFsMuYiIKJl0Dw/jh68ex9f0zOD/kgMOlWF+aji/fUII1\nJWkQEaNLJJoUhjuFvd9UnsL3X6nDoN2JTUtzMCspGk5V/OlAKz71yz24tiwdP/v0SsRF8eNCoYPf\nrRTWntzZiEdfOopry9Lxb7ctRGlm/KXn/m7DHDy95zT+Y2st7ntyL/7ns9cgITrSwGqJfMeeO4Wt\n5/e34NGXjmLjwmz8z/3XXBbsABAdacXn1hfhJ3cvR3VzLz7zq724MOwwqFqiyWG4U1ja29iNbz5/\nGOtL0/Hje5Yhwnrlj8LHlszCTz+1AodaevHdV+pmsEqiqWO4U9gZsjvx8POHkZMcjZ99ZiWiIqwT\n/p2Ni7LxuXVF+E3lKbx7omMGqiSaHoY7hZ3Ht9ejofMC/uOOxYifxEnSf7h5Lkoy4vDN5w6j76I9\ngBUSTR/DncJK3dl+/L8dJ/E3K3JxbdmE9zu4THSkFT/8xDK0nx/G919le4aCG8Odwsq3txxFYkwk\n/uVjC6b095fmJ+Pe1bPxh33NON016OfqiPyH4U5hY29jN95r6MKXbyhBapxtyq/zlRtLYbUIfvzm\nCT9WR+RfDHcKGz958wTS4224d3XBtF4nKzEaf7umAC8cbEF9+4CfqiPyL4Y7hYX9p7qxs74TD15X\njBjbxKNjJvKl60sQHWnFj9447ofqiPyP4U5h4Sdv1iM1zoZPV0zvqN0rLT4K968txMvvn0FT5wW/\nvCaRPzHcyfTqzvbj7eMd+Nz6IsTa/Dfjxn1rC2EVwW8rfboZPdGMYriT6T1deRq2CAs+tWq2X183\nKzEaGxdl49mqZgyOcFoCCi4MdzK1C8MOvHCwFbcunoWUaYyQuZL71haif8iBF6vb/P7aRNPhU7iL\nyEYROSYi9SLy8BW2+YSIHBWRGhH5nX/LJJqaF6vbMDDswL0V/j1q9yovSMH8WYl4ancTVDUg+yCa\nignDXUSsAB4HcAuABQDuEZEFY7YpA/AtAOtUdSGArwegVqJJUVU8vecU5mUnYMXslIDsQ0Rw35oC\n1J09j72N3QHZB9FU+HLkvgpAvao2qOoIgGcAbB6zzRcAPK6qPQCgqu3+LZNo8qqbe1HT1o97KwoC\neielzctyER8Vgef2twRsH0ST5Uu45wJoHrXc4lk32hwAc0Rkl4hUisjG8V5IRB4UkSoRqero4Mx6\nFFjP7W9BTKQVty/LCeh+YmxW3LIoG68cOYuLI86A7ovIV/46oRoBoAzADQDuAfALEUkeu5GqPqGq\n5apanpExuUmbiCZjxOHCy++fwU0Lsmbk7kl3rMjFwLADb9SeC/i+iHzhS7i3AsgftZznWTdaC4At\nqmpX1UYAx+EOeyJDvHuiA72Ddty+PLBH7V4VRWmYlRSNFw6O/WgQGcOXcN8HoExEikTEBuBuAFvG\nbPNnuI/aISLpcLdpGvxYJ9GkvFjdhpTYyElP6ztVFotg87JcvH28A50DwzOyT6KrmTDcVdUB4CEA\n2wDUAnhWVWtE5FER2eTZbBuALhE5CmA7gP+lql2BKproai4MO/D60XP46OJZiLzK7fP87Y7luXC6\nFC8d4ph3Mp5P12Kr6lYAW8ese2TUYwXwDc8XkaFeP3oOF+1ObF429rx/YM3NTsCCWYn4c3Ub7l9X\nNKP7JhqLV6iS6bxY3Yrc5BiUFwRmbPvV3Lp0Fqqbe9HWe3HG9000GsOdTKV/yI6d9Z342JJZsFgC\nN7b9SjYuzAYAbKs5O+P7JhqN4U6msr2uHXan4mZPyM604ox4zMmKx6tHGO5kLIY7mcprNeeQkRCF\n5fkfuMxixmxcNAv7mro5aoYMxXAn0xiyO7HjWDtuWpBlSEvGa+PCbLjUfWKXyCgMdzKNXfWduDDi\nNKwl4zV/VgJmp8ayNUOGYriTaWyrOYuEqAisKU4ztA4RwcZF2dh9shN9F+2G1kLhi+FOpuBwuvBG\nbTtunJcJW4Tx39Y3L8yC3al4+zgnyCNjGP8pIPKDA6d70X1hBB9ZmGV0KQCAZfkpSImNxPY6zn5N\nxmC4kym8VdeOCIvg+jnBMduo1SK4YW4mdhxrh9PFOzTRzGO4kynsONaOawpTZ2R6X1/dOC8TPYN2\nVDf3GF0KhSGGO4W8tt6LqDt7HjfOC46jdq/ryzJgtQjeYmuGDMBwp5DnPWl5w9xMgyu5XFJsJFYW\npOCtOp5UpZnHcKeQt72uHbnJMSjLjDe6lA/40LxM1J7px5k+TiRGM4vhTiFt2OHErvpO3DA3I6A3\nwZ6qD81z/zaxnUfvNMMY7hTSqpp6cGHEiRuDrCXjVZYZj9zkGGw/xr47zSyGO4W07XXtsFktWFtq\n7FWpVyIiuG5OBipPdsHudBldDoURhjuFtHdPdOKaohTE2ny6qZghritLx/lhBw419xpdCoURhjuF\nrPbzQzh27jzWlwbXEMix1pakwyLAO5yKgGYQw51C1nsn3fdgX1+abnAlV5cUG4ml+cl450Sn0aVQ\nGGG4U8jaeaITSTGRWJCTaHQpE7q2LAOHW3rROzhidCkUJhjuFJJUFbvqO7G2JA1WA2/M4avr56TD\npcCu+i6jS6Ew4VO4i8hGETkmIvUi8vA4z98vIh0iUu35+rz/SyX6q6auQbT1DWFdkLdkvJbmJSMh\nKgLvnmDfnWbGhEMMRMQK4HEANwFoAbBPRLao6tExm/5BVR8KQI1EH7Cz3t2/DvZ+u1eEZ7jmO8c7\noKpBecEVmYsvR+6rANSraoOqjgB4BsDmwJZFdHW7TnQiNzkGBWmxRpfis/VlGWjrG8KprkGjS6Ew\n4Eu45wJoHrXc4lk31p0iclhEnhORfL9URzQOp0ux+2Qn1pWmhdQRsPf2f7tPsu9OgeevE6p/AVCo\nqksAvA7gqfE2EpEHRaRKRKo6Oth7pKmpaetD/5AjZPrtXiUZcchMiMLukxwSSYHnS7i3Ahh9JJ7n\nWXeJqnap6rBn8ZcAVo73Qqr6hKqWq2p5RkZwX3hCwcvbb19bElrhLiJYW5KGyoYuqPLuTBRYvoT7\nPgBlIlIkIjYAdwPYMnoDEZk1anETgFr/lUh0uV31nZiXnYCMhCijS5m0NSVp6BwYwYn2AaNLIZOb\nMNxV1QHgIQDb4A7tZ1W1RkQeFZFNns2+KiI1InIIwFcB3B+ogim8Ddmd2NfUE3ItGS/vbxu769ma\nocDyabYlVd0KYOuYdY+MevwtAN/yb2lEH7T/VA9GHK6QGQI5Vn5qLPJSYvBeQxfuX1dkdDlkYrxC\nlULKzvpORFgEq4pSjS5lytx99264XOy7U+Aw3Cmk7KrvxPLZyYiLCt4pfieypiQNfRftOHqm3+hS\nyMQY7hQyegdH8H5rX8j2273WFLvrf4/j3SmAGO4UMt472QXV0Jly4Eqyk6JRnBHH8e4UUAx3Chnv\nNXQh1mbF0vxko0uZtjXFadjb2M1b71HAMNwpZOxp6MbKghREWkP/23ZtSToujDjxfmuf0aWQSYX+\np4TCQtfAMI6dO4+K4uC8EfZkVRS7R/uw706BwnCnkLC3sRsATBPuafFRmJedwHCngGG4U0iobOhC\nTKQVS/KSjC7Fb9aUpGFfUzeGHU6jSyETYrhTSNjT2I3yQnP0273WlqRj2OHCwdO9RpdCJmSeTwqZ\nVveFEdSdNU+/3WtVUSoswr47BQbDnYLe3kZ3+K0O4SkHxpMUE4lFuUkMdwoIhjsFvcqGbkRHWrAk\nL/THt4+1pjgN1c29GLKz707+xXCnoFfZ0IXyglTYIsz37bq6OBUjThcOnO4xuhQyGfN9WshUei71\n283VkvEqL3T33Ssbuo0uhUyG4U5BbY9nfPtqk51M9UqMjsTCnCTsaWDfnfyL4U5BbU9jl6ffbp7x\n7WNVFKfiIPvu5GcMdwpqlZ75ZKIirEaXEjCri9Iw4nChupnj3cl/GO4UtHoHR1B3th+ri8zZkvG6\npigVIu4Tx0T+wnCnoLW3sRuq5plP5kqSYiKxMCcRe3hSlfyI4U5Bq7KhG1ERFizNN2+/3Wt1URoO\nnO5h3538huFOQauyoQsrZpu73+5VUZyGYYcLh9h3Jz9huFNQ6hu0o/Zsv+lbMl6rCt19d+/QT6Lp\n8incRWSjiBwTkXoRefgq290pIioi5f4rkcLR3iZ3v321SS9eGispNhLzsxN5UpX8ZsJwFxErgMcB\n3AJgAYB7RGTBONslAPgagD3+LpLCT2VDF6IiLFhmgvul+mp1cSoOnO7h/O7kF74cua8CUK+qDao6\nAuAZAJvH2e47AL4HYMiP9VGYqmzowvLZyYiONH+/3auiOA1DdhcOt/C+qjR9voR7LoDmUcstnnWX\niMgKAPmq+vLVXkhEHhSRKhGp6ujomHSxFB76Ltpx9Ez49Nu9VhW6W1CcioD8YdonVEXEAuCHAP5+\nom1V9QlVLVfV8oyMjOnumkxqX5iMbx8rJc6GedkJnESM/MKXcG8FkD9qOc+zzisBwCIAO0SkCUAF\ngC08qUpTVdnQBVuY9du9KorTsP9UD0YcLqNLoRDnS7jvA1AmIkUiYgNwN4At3idVtU9V01W1UFUL\nAVQC2KSqVQGpmExvT2M3lueHV7/dq6I4FRftTrzfyvHuND0ThruqOgA8BGAbgFoAz6pqjYg8KiKb\nAl0ghZe+i3bUtPWFXUvGa5VnHh22Zmi6InzZSFW3Atg6Zt0jV9j2humXReGqqqkbrjAa3z5WapwN\nc7MSUNnQha/cWGp0ORTCeIUqBZU9jd2wWS1YMTvF6FIMU1Gciv2nemB3su9OU8dwp6BS2dCFZWE2\nvn2s1cVpGBxx4v1WjnenqWO4U9DoH7LjSGv49tu9VhW5W1KcioCmg+FOQWN/Uw9cClQUhWe/3Ss9\nPgplmfGc352mheFOQaOyoQs2qwXLw7jf7lVRnIaqpm442HenKWK4U9CobOjCsvxkxNjCt9/utbo4\nFRdGnDjS1m90KRSiGO4UFM4P2XGkrT9sh0COtfrSeHf23WlqGO4UFKpO9cDp0rA/meqVkRCF0sx4\nTiJGU8Zwp6BQ2dCFSKuE9fj2sVYXpWJfUw/77jQlDHcKCpUN3Viax377aBXFaRgYdqCGfXeaAoY7\nGW5g2MHx7ePwnn/Y08jWDE0ew50MV9XUzX77ODITolGcEcdJxGhKGO5kuMqGbkRYBCsKwm/+9oms\nLkrDvkb3Dz+iyWC4k+H2NHZhaX4yYm0+TVIaViqKU3F+2IGj7LvTJDHcyVAXhh043NKHCo5vH5e3\nVcW+O00Ww50MxfHtV5eVGI2i9DhezESTxnAnQ+1p6EKERbCygOPbr2R1USr2su9Ok8RwJ0NVNnRh\nSV4S++1XUVGchv4hB2rPsO9OvmO4k2EGR7z9drZkrsb77/PeSbZmyHcMdzLM/lM9cLgUqxnuV5Wd\n5B7vvutkp9GlUAhhuJNhdp9099vL2W+f0PrSdOxt7MaIg/PMkG8Y7mSYXfWdWDE7BXFR7LdPZG1J\nOgZHnKhu7jW6FAoRPoW7iGwUkWMiUi8iD4/z/JdE5H0RqRaRnSKywP+lkpn0Do7g/dY+rCtNN7qU\nkLCmOA0Wcf9AJPLFhOEuIlYAjwO4BcACAPeME96/U9XFqroMwPcB/NDvlZKpvHeyC6rA+jL2232R\nFBuJxblJDHfymS9H7qsA1Ktqg6qOAHgGwObRG6jq6DFacQA4IJeuamd9J+KjIrAkj/PJ+GpdaTqq\nm3sxMOwwuhQKAb6Eey6A5lHLLZ51lxGRr4jISbiP3L/qn/LIrHbVd6KiOBWRVp728dW60nQ4XIq9\nnIqAfOC3T5aqPq6qJQD+EcC/jLeNiDwoIlUiUtXR0eGvXVOIae4eRFPXINaWsN8+GSsLUhAVYcGu\neoY7TcyXcG8FkD9qOc+z7kqeAXD7eE+o6hOqWq6q5RkZGb5XSaay2zNee30Zw30yoiOtKC9MYd+d\nfOJLuO8DUCYiRSJiA3A3gC2jNxCRslGLHwNwwn8lktnsrO9CRkIUyjLjjS4l5KwrTUfd2fPoOD9s\ndCkU5CYMd1V1AHgIwDYAtQCeVdUaEXlURDZ5NntIRGpEpBrANwDcF7CKKaS5XIrd9Z1YX5oOETG6\nnJCzztPK2s2rVWkCPl09oqpbAWwds+6RUY+/5ue6yKTqzp5H14URjm+fokW5SUiMjsDu+i5sXvaB\ncQ1El3CoAs0ob794XSnHt0+F1SJYU5KGnfWdUOWIY7oyhjvNqF0nO1GSEYdZSTFGlxKy1pemo7X3\nIk53DxpdCgUxhjvNmBGHC3saurGeLZlp8ba0dnLUDF0Fw51mzMHTPbhod7LfPk1F6XGYlRSN3Rzv\nTlfBcKcZs6u+ExYBKkrYb58OEcG60nTsPtkJF2+9R1fAcKcZs7O+E0vzk5EYHWl0KSFvfWk6egbt\nqGnjrfdofAx3mhH9Q3Ycauljv91PvFf3vnOC03jQ+BjuNCN213fB6VL22/0kPT4Ki3OT8PYxhjuN\nj+FOM+Lt4+1IiIrASt5Sz2+un5OB/ad70HfRbnQpFIQY7hRwqoodxzqwrjSdU/z60fVzM+D0TOdA\nNBY/aRRwJ9oHcKZvCNfP5Uyg/rQ8PxkJ0RF4+zhbM/RBDHcKuB3H2gEANzDc/SrCasH60nS8fbyD\nUxHQBzDcKeB2HOvA3KwETjkQANfPycCZviGcaB8wuhQKMgx3CqiBYQf2NXXzqD1Arpvj/nf1/nZE\n5MVwp4DaXd8Ju1PZbw+QnOQYzMtOwFt1DHe6HMOdAmrH8Q7E2awoL0g1uhTT+tC8TOxr4pBIuhzD\nnQJGVfFWbTuuLcuALYLfaoHy4fmZcLqUo2boMvzEUcDUtPXjbP8QPjw/0+hSTG1ZfgpS42x4q/ac\n0aVQEGG4U8C8UXsOIsCN8xjugWS1CG6Ym4EdxzvgcLqMLoeCBMOdAubN2nasmJ2C9Pgoo0sxvQ3z\ns9A7aMeB071Gl0JBguFOAXG2bwjvt/axJTNDri1LR4RF8GYdWzPkxnCngPCGzIb5WQZXEh4SoiOx\nujgVb9ZySCS5+RTuIrJRRI6JSL2IPDzO898QkaMiclhE3hSRAv+XSqHkzdp25KfGoCwz3uhSwsaG\n+Vmobx9AQwevViUfwl1ErAAeB3ALgAUA7hGRBWM2OwigXFWXAHgOwPf9XSiFjsERB3bVd+LD87Ig\nIkaXEzY+sjAbALCthq0Z8u3IfRWAelVtUNURAM8A2Dx6A1XdrqqDnsVKAHn+LZNCyY5jHRh2uHCz\nJ2xoZuQmx2BJXhK21Zw1uhQKAr6Eey6A5lHLLZ51V/I5AK9MpygKba8cOYu0OBtWFfGq1Jl288Js\nVDf34mzfkNGlkMH8ekJVRD4NoBzAD67w/IMiUiUiVR0dvJrOjIbsTrxVew4fWZgFq4UtmZl280L3\nCezXjvLoPdz5Eu6tAPJHLed51l1GRDYA+GcAm1R1eLwXUtUnVLVcVcszMjiRlBntqu/EhREnWzIG\nKc1MQElGHFsz5FO47wNQJiJFImIDcDeALaM3EJHlAH4Od7BzLFYYe/XIWSRER2BtCW+EbZSbF2aj\nsqEbPRdGjC6FDDRhuKuqA8BDALYBqAXwrKrWiMijIrLJs9kPAMQD+KOIVIvIliu8HJmY3enC67Xn\nsGF+FicKM9DGRdlwuhSvc66ZsBbhy0aquhXA1jHrHhn1eIOf66IQtKehG72DdmxcxJaMkRbnJiE/\nNQYvHT6DT5TnT/wXyJR4eEV+89LhNsTarLiujOdTjCQiuHVJDnbVd6KbrZmwxXAnvxhxuPDKkbP4\nyIIsxNisRpcT9m5bkgOnS/HKkTNGl0IGYbiTX7xzvAN9F+3YvOxql0DQTJk/KwHFGXH4y6E2o0sh\ngzDcyS+2HGpDSmwk1pdxlEwwEBHctiQHexq70d7PC5rCEcOdpm1wxIHXj57DLYtnIdLKb6lgcdvS\nWVAFXn6frZlwxE8iTdsbte24aHdi09Ico0uhUUozEzB/ViJerGZrJhwx3GnatlS3ITsxGqsKOZdM\nsLljeQ6qm3txktMAhx2GO01L58Awdhxrx6ZlObBwLpmgc/uyXFgEeH5/i9Gl0AxjuNO0/PlgKxwu\nxcdXcpbnYJSZGI3r5mTghYOtcLrU6HJoBjHcacpUFc/tb8HS/GSUZSUYXQ5dwV0r83Cmbwjvnewy\nuhSaQQx3mrKatn7UnT2Pu3jUHtQ2zM9CYnQEnj/A1kw4YbjTlP2xqhm2CAs2LeEomWAWHWnFrUtz\n8MqRMzg/ZDe6HJohDHeakmGHEy8easPNC7ORFBtpdDk0gU+U52PI7uKwyDDCcKcpefXIWfQO2nki\nNUQszUvCwpxEPL3nNFR5YjUcMNxpSn5beQoFabFYX8rpBkKBiODe1QWoPdOPg829RpdDM4DhTpNW\ne6Yf+5p68OnVBRzbHkI2LctBfFQEnq48bXQpNAMY7jRpv608hagIC0fJhJj4qAjcvjwHLx1uQ+8g\n53k3O4Y7Tcr5ITteONiK25bmICXOZnQ5NEmfWlWAYYcLz/GKVdNjuNOk/OlAKwZHnPhMRYHRpdAU\nLMhJxDWFKfifXU1wOF1Gl0MBxHAnnzldiid3NWJpfjKW5icbXQ5N0eevLUZr70Vsq+ENtM2M4U4+\ne63mLE51DeKL1xUbXQpNw4b5WShMi8Uv3m3gsEgTY7iTT1QVP3unAQVpsbh5YbbR5dA0WC2CB9YX\nobq5F/tP9RhdDgUIw518srexG4eae/H59UWwcvhjyLtrZR6SYiLxi3cbjC6FAsSncBeRjSJyTETq\nReThcZ6/TkQOiIhDRO7yf5lktCfeaUBqnA13rcw3uhTyg1hbBD5TUYDXjp7DiXPnjS6HAmDCcBcR\nK4DHAdwCYAGAe0RkwZjNTgO4H8Dv/F0gGe9Iax/erGvHfWsKEWOzGl0O+ckD64sQG2nFT96qN7oU\nCgBfjtxXAahX1QZVHQHwDIDNozdQ1SZVPQyAY6tM6EdvnEBidATuX1dodCnkR6lxNty3thAvHW7j\n0bsJ+RLuuQCaRy23eNZNmog8KCJVIlLV0dExlZegGXaouRdv1J7DF64tRlIMZ380m89fW4wYHr2b\n0oyeUFXVJ1S1XFXLMzIyZnLXNEX/9cZxJMdG4rPri4wuhQKAR+/m5Uu4twIYfRYtz7OOTG7/qW7s\nONaBL15XgvioCKPLoQD5wrXFiLdF4Huv1hldCvmRL+G+D0CZiBSJiA3A3QC2BLYsMprLpfjOS7XI\nSIjCfWs51YCZpcbZ8OUbS/FGbTt2n+w0uhzykwnDXVUdAB4CsA1ALYBnVbVGRB4VkU0AICLXiEgL\ngI8D+LmI1ASyaAq8LYfaUN3ci2/ePBexNh61m91n1xUiNzkGj71cC5eLV62agU89d1XdqqpzVLVE\nVR/zrHtEVbd4Hu9T1TxVjVPVNFVdGMiiKbAGRxz47it1WJybhDtXcFrfcBAdacU3N85FTVs//nSQ\nXVcz4BWq9AE/e7sBZ/uH8MhtC3gzjjCyaWkOluUn47uv1KFvkDfSDnUMd7pMffsAfrbjJG5bmoNr\nClONLodmkIjg329fhJ7BEXyXJ1dDHsOdLnG5FA8/fxgxNiseuXXsRcgUDhblJuGBdYX4/d7T2NfU\nbXQ5NA0Md7rkt3tOoepUD/711gXISIgyuhwyyN/dNAe5yTH41p/ex7DDaXQ5NEUMdwIANHcP4nuv\n1OHasnTcuWJKFyCTScTaIvDYHYtQ3z6A7796zOhyaIoY7gS704WHfn8QFovg//zNYojwJGq4u2Fu\nJv52TQF+tbMRbx/nVCGhiOFO+M9tx3CouRffu3MJ8lJijS6HgsQ/fXQ+5mTF4++fPYTOgWGjy6FJ\nYriHue117fj5Ow24d/VsfHTxLKPLoSASHWnFT+5Zjv4hO776+4Ow84baIYXhHsZOnDuPr/7+IObP\nSsS/cnQMjWNediL+447F2H2yC4+9XGt0OTQJvK48THUNDOOBp/YhKtKKX95XjuhI3oSDxnfXyjzU\nnenHL3c2Ym52Au5ZNdvoksgHDPcwNDjiwBd/sx/t/cN45sEK5CbHGF0SBbmHb5mH4+0D+Jc/H0F6\nfBRuWpBldEk0AbZlwsyQ3Ykv/LoKB0734L8+uQzLZ6cYXRKFgAirBY9/ajkW5STiK08fwM4TnD0y\n2DHcw8iQ3Ykv/mY/dp/swg/uWsoTqDQpCdGReOqBVShKj8MXfl3F6YGDHMM9TPQN2vG3T+7F28c7\n8N2/WYw7V3K2R5q85FgbfvP5VchLicH9T+7Dq0fOGF0SXQHDPQy09Azizp/txsHTPfjx3cvwyWt4\nQoymLjMhGn/80hosyk3El58+gF+/1wRVzgEfbBjuJvf28Q5s+ukunOsfwlMPrMLmZZxagKYvOdaG\npz9fgQ/Ny8QjL9bgH/54GBdHOA9NMGG4m5Td6cIPttXhvif3IiM+Ci98eR3WlqQbXRaZSIzNiic+\nU46vbyjDnw624I7/3oXaM/1Gl0UeDHcTOni6B7f+ZCce334SnyjPw5+/sg6lmfFGl0UmZLEIvr5h\nDp68/xp0Dgxj00934sdvnMCIg1ezGk2M6pWVl5drVVWVIfs2q3P9Q/jRGyfwzL7TyEqIxnduX8Tx\nyDRjui+M4Nt/qcGL1W0oSo/hfVjIAAAHPElEQVTDw7fMw0cWZHEiOj8Tkf2qWj7hdgz30HeufwhP\n7mrEU7ub4HQpPl1RgG/cNAcJ0ZFGl0ZhaPuxdjz2ci3q2wewsiAFX7mxBDfOzWTI+wnD3eRUFftP\n9eB3e0/jL4fa4HApNi/NwTdumovZaZzZkYzlcLrwh6pm/Pf2k2jtvYi5WQn4dMVsbFqWi6QYHnRM\nB8PdhFQVNW39eO3oOWypbkVT1yBibVZ8ojwfn11XiIK0OKNLJLqM3enCXw614RfvNqL2TD+iIizY\nsCALGxdm48Z5mYiP4gwok+XXcBeRjQB+DMAK4Jeq+t0xz0cB+DWAlQC6AHxSVZuu9poM94nZnS7U\nnTmP/ae6UXWqB/uaunGufxgiwOqiVNy5Ig+3LJ7FDwgFPVXFkdZ+/KHqNF49chadAyOItAqW56dg\nbWkaVhakYGFOElLjbEaXGvT8Fu4iYgVwHMBNAFoA7ANwj6oeHbXNlwEsUdUvicjdAO5Q1U9e7XUZ\n7n91ccSJ1t5BnOy4gMbOC2jsuICGzgEcae3HRbt77HB2YjRWFqbg+jkZ+PC8TKTF8x6nFJqcLndL\n8c3ac9h1shM1bf3wxlBOUjQW5CRhYU4iCtNjkZcSi7yUGGQmRMNqYc8e8D3cfTnkWwWgXlUbPC/8\nDIDNAI6O2mYzgP/tefwcgJ+KiGiQXrbmLUsV0NHLl9b99fnL/oTCpe5+ot2psDtdcDgVI04XHC4X\n7A6F3eWC3eHCkMOFgSEHLgw7cH7Y/af3cd9FOzrOD6Pz/DA6zg/j/LDjsvrS420oTIvDJ6/Jx8qC\nFKwsSEEOZ24kk7BaBKuKUrGqKBWAe2qMmrY+HGnrQ01bP4609uHNunMYnR6RVkFWYjTS4mxIjbMh\nJc6G1FgbkmIiEWOzItYWgVib1fPY/RUVYUWk1YIIqyDCIoiwWhBhEVgtgkiLBVbPeovnRK8IIABE\nxPMnPOtD84eKL+GeC6B51HILgNVX2kZVHSLSByANgN9nFvrVzkb85zb3TXsVeimgPSsurfMsQlUv\nPW/0j5qoCAsSoiOQGB2J9IQozM9JxHXxUchMjEJOUgyK0uNQmB7HE04UVpJiI7G2NB1rS/96kd2Q\n3Ym23oto6fF+DaKt9yK6B+3oHBjB8XMD6BkcweAMXhU7OvwBXPoBIHA/IZdtJ7jaz4RHbl2AuwM8\nL/6MNmtF5EEAD3oWB0RkKrdWT0cAfmgYxEzvBTDX++F7CU6meC/3fAe4Z+rvpcCXjXwJ91YA+aOW\n8zzrxtumRUQiACTBfWL1Mqr6BIAnfCnsSkSkypd+Uygw03sBzPV++F6CE9+L73yZfmAfgDIRKRIR\nG4C7AWwZs80WAPd5Ht8F4K1g7bcTEYWDCY/cPT30hwBsg3so5JOqWiMijwKoUtUtAH4F4DciUg+g\nG+4fAEREZBCfeu6quhXA1jHrHhn1eAjAx/1b2hVNq60TZMz0XgBzvR++l+DE9+Ijw65QJSKiwOGU\nv0REJhSS4S4i3xGRwyJSLSKviUiO0TVNlYj8QETqPO/nBRFJNrqmqRKRj4tIjYi4RCQkRzSIyEYR\nOSYi9SLysNH1TIeIPCki7SJyxOhapkNE8kVku4gc9Xx/fc3omqZDRKJFZK+IHPK8n28HZD+h2JYR\nkURV7fc8/iqABar6JYPLmhIR+Qjco4scIvI9AFDVfzS4rCkRkfkAXAB+DuAfVDWk5pfwZaqNUCIi\n1wEYAPBrVV1kdD1TJSKzAMxS1QMikgBgP4DbQ/j/RQDEqeqAiEQC2Anga6pa6c/9hOSRuzfYPeIw\n6iLVUKOqr6mqd/6BSrivIwhJqlqrqlO5MC1YXJpqQ1VHAHin2ghJqvoO3KPXQpqqnlHVA57H5wHU\nwn1VfEhStwHPYqTny+8ZFpLhDgAi8piINAO4F8AjE20fIh4A8IrRRYSx8abaCNkQMSMRKQSwHMAe\nYyuZHhGxikg1gHYAr6uq399P0Ia7iLwhIkfG+doMAKr6z6qaD+BpAA8ZW+3VTfRePNv8MwAH3O8n\naPnyXogCQUTiATwP4OtjfnsPOarqVNVlcP+mvkpE/N42C9qJwFV1g4+bPg33GPx/C2A50zLRexGR\n+wHcCuDDwX5l7yT+X0KRL1NtkAE8vennATytqn8yuh5/UdVeEdkOYCMAv574Dtoj96sRkbJRi5sB\n1BlVy3R5boTyTQCbVHXQ6HrCnC9TbdAM85yA/BWAWlX9odH1TJeIZHhHxYlIDNwn8P2eYaE6WuZ5\nAHPhHplxCsCXVDUkj7A8UzZE4a8TrVWG8MifOwD8XwAZAHoBVKvqzcZWNTki8lEAP8Jfp9p4zOCS\npkxEfg/gBrhnHzwH4N9U9VeGFjUFIrIewLsA3of7Mw8A/+S5cj7kiMgSAE/B/T1mAfCsqj7q9/2E\nYrgTEdHVhWRbhoiIro7hTkRkQgx3IiITYrgTEZkQw52IyIQY7kREJsRwJyIyIYY7EZEJ/X/0uC1J\nvaN4jAAAAABJRU5ErkJggg==\n",
      "text/plain": [
       "<matplotlib.figure.Figure at 0x1071eb5f8>"
=======
      "image/png": "iVBORw0KGgoAAAANSUhEUgAAAXcAAAD8CAYAAACMwORRAAAABHNCSVQICAgIfAhkiAAAAAlwSFlz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\nof8PPNJUAwKp/D0AAAAASUVORK5CYII=\n",
      "text/plain": [
       "<matplotlib.figure.Figure at 0x10b4f0828>"
>>>>>>> upstream/master
      ]
     },
     "metadata": {},
     "output_type": "display_data"
    }
   ],
   "source": [
    "# import packages\n",
    "import matplotlib.pyplot as plt\n",
    "import seaborn as sns\n",
    "import numpy as np\n",
    "\n",
    "# to print plots inline\n",
    "%matplotlib inline\n",
    "\n",
    "# set our parameters\n",
    "rho = 0.8\n",
    "mu = 0.0\n",
    "sigma_eps = 0.2\n",
    "\n",
    "# draw our shocks\n",
    "num_draws = 100000 # number of shocks to draw\n",
    "eps = np.random.normal(0.0, sigma_eps, size=(num_draws))\n",
    "\n",
    "# Compute z\n",
    "z = np.empty(num_draws)\n",
    "z[0] = 0.0 + eps[0]\n",
    "for i in range(1, num_draws):\n",
    "    z[i] = rho * z[i - 1] + (1 - rho) * mu + eps[i]\n",
    "    \n",
    "\n",
    "# plot distribution of z\n",
    "# sns.distplot(z, hist=False)\n",
    "sns.kdeplot(np.array(z), bw=0.5)"
   ]
  },
  {
   "cell_type": "markdown",
   "metadata": {},
   "source": [
    "The distribution of $z$ should have variance = $\\sigma_{z}^{2} = \\frac{\\sigma_{\\epsilon}^{2}}{(1-\\rho)}$.  Let's check: "
   ]
  },
  {
   "cell_type": "code",
   "execution_count": 2,
   "metadata": {},
   "outputs": [
    {
     "name": "stdout",
     "output_type": "stream",
     "text": [
      "Theoretical sigma_z =  0.3333333333333334\n",
<<<<<<< HEAD
      "Simulated sigma_z =  0.333460107121\n"
=======
      "Simulated sigma_z =  0.334553348427\n"
>>>>>>> upstream/master
     ]
    }
   ],
   "source": [
    "# theory says:\n",
    "sigma_z = sigma_eps / ((1 - rho ** 2) ** (1 / 2))\n",
    "print('Theoretical sigma_z = ', sigma_z)\n",
    "\n",
    "# from our simulation:\n",
    "sigma_z_simul = z.std()\n",
    "print('Simulated sigma_z = ', sigma_z_simul)"
   ]
  },
  {
   "cell_type": "markdown",
   "metadata": {},
   "source": [
    "Pretty close.  And it will get closer as you increase `N`.  \n",
    "\n",
    "For the computational solution to our dynamic programming problem, we'll want to approximate this continuous distribution with something over a finite grid.  There are a number of methods to do this (see Adda and Cooper (2003, pp. 56-59), Tauchen and Hussey (1991), and Rouwenhorst (1995) for some approaches).  What all of these approaches have in common is that they approximate the autoregressive process with a Markov process (technically a Markov chain, since it's over a finite grid). Generally, the approach is to divide the real line over which $z$ is defined into a finite set of intervals.  These approaches then compute the probabilities of transitioning between one interval and another to match the autoregressive processs.\n",
    "\n",
    "## 1. Adda-Cooper (2003) method\n",
    "\n",
    "Let us illustrate the general approach of these approximation methods through the Adda and Cooper (2003, pp. 56-59) (henceforth AC) method.  \n",
    "\n",
    "AC start by dividing the real line into intervals.  In particular, they divide the real line into intervals such that $z_{t}$ has an equal probability of falling into any of the intervals.  Since $\\varepsilon$ is distributed normally, the cut-off points given by $\\left\\{z^{i}\\right\\}_{i=0}^{N}$ for these intervals are defined by:\n",
    "\n",
    "$$ \\Phi\\left(\\frac{z^{i+1}-\\mu}{\\sigma_{z}}\\right) - \\Phi\\left(\\frac{z^{i}-\\mu}{\\sigma_{z}}\\right) = \\frac{1}{N}, $$\n",
    "\n",
    "where $N$ are the number of grid points in our discretized grid space and $\\Phi(\\cdot)$ is the cumulative density function of the standard normal distribution.  Solving this recursively we find that each cut-off point is given by:\n",
    "\n",
    "$$ z^{i} = \\sigma_{z} \\Phi^{-1}\\left(\\frac{i-1}{N}\\right) + \\mu $$ "
   ]
  },
  {
   "cell_type": "code",
<<<<<<< HEAD
   "execution_count": 3,
=======
   "execution_count": 4,
>>>>>>> upstream/master
   "metadata": {},
   "outputs": [
    {
     "name": "stdout",
     "output_type": "stream",
     "text": [
<<<<<<< HEAD
      "Cut-off values =  [       -inf -0.28054041 -0.08444903  0.08444903  0.28054041         inf]\n"
=======
      "Cut-off values =  [       -inf -0.32247386 -0.14357577  0.          0.14357577  0.32247386\n",
      "         inf]\n"
>>>>>>> upstream/master
     ]
    }
   ],
   "source": [
    "# import packages\n",
    "from scipy.stats import norm\n",
    "\n",
    "# Compute cut-off values\n",
<<<<<<< HEAD
    "N = 5  # number of grid points (will have one more cut-off point than this)\n",
=======
    "N = 6  # number of grid points (will have one more cut-off point than this)\n",
>>>>>>> upstream/master
    "z_cutoffs = (sigma_z * norm.ppf(np.arange(N + 1) / N)) + mu\n",
    "print('Cut-off values = ', z_cutoffs)"
   ]
  },
  {
   "cell_type": "markdown",
   "metadata": {},
   "source": [
    "Now that we've defined the intervals through these cut-off values, we'll next want to compute the average value of $z$ in each of these intervals.  These values will be our grid points.  Let $z_{p}^{i}$ be grid point $i$ and define $z_{p}^{i}$ as the mean value of $z_{t}$ conditional on $z_{t}\\in\\left[z^{i},z^{i+1}\\right]$.  That is:\n",
    "\n",
    "$$ z_{p}^{i} = E\\left(z_{t}|z_{t}\\in \\left[z^{i},z^{i+1}\\right] \\right) = \\sigma_{z} \\frac{\\phi((z^{i}-\\mu)/\\sigma_z) - \\phi((z^{i+1}-\\mu)/\\sigma_z)}{\\Phi((z^{i+1}-\\mu)/\\sigma_z) - \\Phi((z^{i}-\\mu)/\\sigma_z)} + \\mu $$\n",
    "\n",
    "Simplifying:\n",
    "\n",
    "$$ z_{p}^{i} = N \\sigma_z \\left(\\phi\\left(\\frac{z^{i}-\\mu}{\\sigma_z}\\right) - \\phi\\left(\\frac{z^{i+1}-\\mu}{\\sigma_z}\\right) \\right) + \\mu $$"
   ]
  },
  {
   "cell_type": "code",
<<<<<<< HEAD
   "execution_count": 4,
=======
   "execution_count": 5,
>>>>>>> upstream/master
   "metadata": {},
   "outputs": [
    {
     "name": "stdout",
     "output_type": "stream",
     "text": [
<<<<<<< HEAD
      "Grid points =  [-0.4666032  -0.17730102  0.          0.17730102  0.4666032 ]\n"
=======
      "Grid points =  [-0.49970188 -0.22749767 -0.07068501  0.07068501  0.22749767  0.49970188]\n"
>>>>>>> upstream/master
     ]
    }
   ],
   "source": [
    "# compute grid points for z\n",
    "z_grid = ((N * sigma_z * (norm.pdf((z_cutoffs[:-1] - mu) / sigma_z)\n",
    "                              - norm.pdf((z_cutoffs[1:] - mu) / sigma_z)))\n",
    "              + mu)\n",
    "print('Grid points = ', z_grid)"
   ]
  },
  {
   "cell_type": "markdown",
   "metadata": {},
   "source": [
    "Now we have our grid points.  Next, we need to determine the transitions between these grid points.  We want these transition probabilities to be such they they match the autocorrelation in the AR(1) process we are modeling using a first over Markov process.\n",
    "\n",
    "Define the probability of transitioning between grid point i and grid point j as: \n",
    "\n",
    "$$ \\pi_{i,j} = P\\left( z_{t} \\in \\left[z^{j},z^{j+1} \\right] | z_{t-1} \\in \\left[z^{i},z^{i+1} \\right] \\right) $$\n",
    "\n",
    "Using the fact that $\\varepsilon \\sim N(0,\\sigma_{\\varepsilon})$, we have:\n",
    "\n",
    "$$ \\pi_{i,j} = \\frac{N}{\\sqrt{2\\pi\\sigma_{z}^{2}}} \\int_{z^{i}}^{z^{i+1}} e^{-(\\varepsilon - \\mu)^{2}/(2\\sigma_{z}^{2})} \\left[ \\Phi\\left(\\frac{z^{j+1} - \\mu(1-\\rho) - \\rho\\mu}{\\sigma_{\\varepsilon}}\\right) - \\Phi\\left(\\frac{z^{j} - \\mu(1-\\rho) - \\rho\\mu}{\\sigma_{\\varepsilon}}\\right) \\right] d\\varepsilon $$\n",
    "\n",
    "To find each $\\pi_{i,j}$, we ned to evaluate this integral.  We'll do so numerically."
   ]
  },
  {
   "cell_type": "code",
   "execution_count": 6,
   "metadata": {},
   "outputs": [
    {
     "name": "stdout",
     "output_type": "stream",
     "text": [
<<<<<<< HEAD
      "Transition matrix =  [[ 0.6451699   0.2493449   0.08427477  0.01962582  0.00158461]\n",
      " [ 0.2493449   0.36080372  0.25500759  0.11521796  0.01962582]\n",
      " [ 0.08427477  0.25500759  0.32143528  0.25500759  0.08427477]\n",
      " [ 0.01962582  0.11521796  0.25500759  0.36080372  0.2493449 ]\n",
      " [ 0.00158461  0.01962582  0.08427477  0.2493449   0.6451699 ]]\n",
      "pi sums =  [ 1.  1.  1.  1.  1.] [ 1.  1.  1.  1.  1.]\n"
=======
      "Transition matrix =  [[  6.21534363e-01   2.45714957e-01   9.47998691e-02   3.07524088e-02\n",
      "    6.70803763e-03   4.90364801e-04]\n",
      " [  2.45714957e-01   3.28840718e-01   2.39055185e-01   1.31029599e-01\n",
      "    4.86515032e-02   6.70803763e-03]\n",
      " [  9.47998691e-02   2.39055185e-01   2.75986603e-01   2.28376335e-01\n",
      "    1.31029599e-01   3.07524088e-02]\n",
      " [  3.07524088e-02   1.31029599e-01   2.28376335e-01   2.75986603e-01\n",
      "    2.39055185e-01   9.47998691e-02]\n",
      " [  6.70803763e-03   4.86515032e-02   1.31029599e-01   2.39055185e-01\n",
      "    3.28840718e-01   2.45714957e-01]\n",
      " [  4.90364801e-04   6.70803763e-03   3.07524088e-02   9.47998691e-02\n",
      "    2.45714957e-01   6.21534363e-01]]\n",
      "pi sums =  [ 1.  1.  1.  1.  1.  1.] [ 1.  1.  1.  1.  1.  1.]\n"
>>>>>>> upstream/master
     ]
    }
   ],
   "source": [
    "# import packages\n",
    "import scipy.integrate as integrate\n",
    "\n",
    "# define function that we will integrate over\n",
    "def integrand(x, sigma_z, sigma_eps, rho, mu, z_j, z_jp1):\n",
    "    val = (np.exp((-1 * ((x - mu) ** 2)) / (2 * (sigma_z ** 2)))\n",
    "            * (norm.cdf((z_jp1 - (mu * (1 - rho)) - (rho * x)) / sigma_eps)\n",
    "               - norm.cdf((z_j - (mu * (1 - rho)) - (rho * x)) / sigma_eps)))\n",
    "    \n",
    "    return val\n",
    "\n",
    "# compute transition probabilities\n",
    "pi = np.empty((N, N))\n",
    "for i in range(N):\n",
    "    for j in range(N):\n",
    "        results = integrate.quad(integrand, z_cutoffs[i], z_cutoffs[i + 1],\n",
    "                                 args = (sigma_z, sigma_eps, rho, mu,\n",
    "                                         z_cutoffs[j], z_cutoffs[j + 1]))\n",
    "        pi[i,j] = (N / np.sqrt(2 * np.pi * sigma_z ** 2)) * results[0]\n",
    "        \n",
    "print('Transition matrix = ', pi)\n",
    "print('pi sums = ', pi.sum(axis=0), pi.sum(axis=1))"
   ]
  },
  {
   "cell_type": "markdown",
   "metadata": {},
   "source": [
    "We've now found \n",
    "\n",
    "$$ \\pi_{i,j} = P(z_{t}=z_{p}^{j}|z_{t-1}=z_{p}^{i}) $$\n",
    "\n",
    "Let's see how well this Markov process approximates the AR(1) above..."
   ]
  },
  {
   "cell_type": "code",
<<<<<<< HEAD
   "execution_count": 9,
=======
   "execution_count": 7,
>>>>>>> upstream/master
   "metadata": {},
   "outputs": [
    {
     "data": {
      "text/plain": [
<<<<<<< HEAD
       "<matplotlib.axes._subplots.AxesSubplot at 0x1a0d124a58>"
      ]
     },
     "execution_count": 9,
=======
       "<matplotlib.axes._subplots.AxesSubplot at 0x10b4e6860>"
      ]
     },
     "execution_count": 7,
>>>>>>> upstream/master
     "metadata": {},
     "output_type": "execute_result"
    },
    {
     "data": {
<<<<<<< HEAD
      "image/png": "iVBORw0KGgoAAAANSUhEUgAAAXQAAAD8CAYAAABn919SAAAABHNCSVQICAgIfAhkiAAAAAlwSFlz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\nGHRJqoRBl6RK/D8X/qGKMh87JQAAAABJRU5ErkJggg==\n",
      "text/plain": [
       "<matplotlib.figure.Figure at 0x10713c048>"
=======
      "image/png": "iVBORw0KGgoAAAANSUhEUgAAAW4AAAD8CAYAAABXe05zAAAABHNCSVQICAgIfAhkiAAAAAlwSFlz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\nuCWpMga3JFXG4JakyhjcklQZg1uSKvP/ZF5VkQ5SS78AAAAASUVORK5CYII=\n",
      "text/plain": [
       "<matplotlib.figure.Figure at 0x10b4e6438>"
>>>>>>> upstream/master
      ]
     },
     "metadata": {},
     "output_type": "display_data"
    }
   ],
   "source": [
    "# Simulate the Markov process - will make this a function so can call later\n",
    "def sim_markov(z_grid, pi, num_draws):\n",
    "    # draw some random numbers on [0, 1]\n",
    "    u = np.random.uniform(size=num_draws)\n",
    "\n",
    "    # Do simulations\n",
    "    z_discrete = np.empty(num_draws)  # this will be a vector of values \n",
    "    # we land on in the discretized grid for z\n",
    "    N = z_grid.shape[0]\n",
    "    oldind = int(np.ceil((N - 1) / 2)) # set initial value to median of grid\n",
    "    z_discrete[0] = z_grid[oldind]  \n",
    "    for i in range(1, num_draws):\n",
    "        sum_p = 0\n",
    "        ind = 0\n",
    "        while sum_p < u[i]:\n",
    "            sum_p = sum_p + pi[ind, oldind]\n",
    "#             print('inds =  ', ind, oldind)\n",
    "            ind += 1\n",
    "        if ind > 0:\n",
    "            ind -= 1\n",
    "        z_discrete[i] = z_grid[ind]\n",
    "        oldind = ind\n",
    "                            \n",
    "    return z_discrete\n",
    "\n",
    "\n",
    "# Call simulation function to get simulated values\n",
    "z_discrete = sim_markov(z_grid, np.transpose(pi), num_draws)\n",
    "                            \n",
    "                            \n",
    "# Plot AR(1) and Markov approximation\n",
    "sns.distplot(z_discrete, hist=True, kde=False, norm_hist=True)\n",
    "sns.kdeplot(np.array(z), bw=0.5)"
   ]
  },
  {
   "cell_type": "markdown",
   "metadata": {},
   "source": [
    " ## 2.  Comparing methods\n",
    "    \n",
    "Working through the Adda-Cooper method was illustrative of how these approximations work.  Now let's compare across a few methods.  \n",
    "\n",
    "## 2.1 Rouwenhorst (1995)\n",
    "\n",
    "The Rouwenhorst method will choose equally spaced grid points and assign probabilities to those points in such a way as to match the distribution of $z$.  For an explaination of this method see [these notes](http://people.virginia.edu/~ey2d/markov.pdf)."
   ]
  },
  {
   "cell_type": "code",
<<<<<<< HEAD
   "execution_count": 19,
=======
   "execution_count": 8,
>>>>>>> upstream/master
   "metadata": {},
   "outputs": [
    {
     "data": {
      "text/plain": [
<<<<<<< HEAD
       "<matplotlib.axes._subplots.AxesSubplot at 0x1c11d27860>"
      ]
     },
     "execution_count": 19,
=======
       "<matplotlib.axes._subplots.AxesSubplot at 0x1a11283668>"
      ]
     },
     "execution_count": 8,
>>>>>>> upstream/master
     "metadata": {},
     "output_type": "execute_result"
    },
    {
     "data": {
<<<<<<< HEAD
      "image/png": "iVBORw0KGgoAAAANSUhEUgAAAW4AAAD8CAYAAABXe05zAAAABHNCSVQICAgIfAhkiAAAAAlwSFlz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\ng1uSCvP/91RY2MAkVR0AAAAASUVORK5CYII=\n",
      "text/plain": [
       "<matplotlib.figure.Figure at 0x1a0d0c34e0>"
=======
      "image/png": "iVBORw0KGgoAAAANSUhEUgAAAW4AAAD8CAYAAABXe05zAAAABHNCSVQICAgIfAhkiAAAAAlwSFlz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\nUmEMbkkqjMEtSYUxuCWpMP8P5gJYM024z+gAAAAASUVORK5CYII=\n",
      "text/plain": [
       "<matplotlib.figure.Figure at 0x1a10d93d30>"
>>>>>>> upstream/master
      ]
     },
     "metadata": {},
     "output_type": "display_data"
    }
   ],
   "source": [
    "# import module with Markov approximation methods\n",
<<<<<<< HEAD
    "import sys\n",
    "sys.path.append('../Code')\n",
    "import ar1_approx as ar1\n",
    "\n",
    "# Use Rouwenhorst (1995) method\n",
    "N = 7\n",
=======
    "import ar1_approx as ar1\n",
    "\n",
    "# Use Rouwenhorst (1995) method\n",
    "N = 8\n",
>>>>>>> upstream/master
    "num_sigma = 4\n",
    "step = (num_sigma * sigma_z) / (N / 2)\n",
    "pi_R, z_grid_R = ar1.rouwen(rho, mu, step, N)\n",
    "z_discrete_R = sim_markov(z_grid_R, pi_R, num_draws)\n",
    "\n",
    "# Plot AR(1) and Markov approximation\n",
    "sns.distplot(z_discrete_R, hist=True, kde=False, norm_hist=True)\n",
    "sns.kdeplot(np.array(z), bw=0.5)"
   ]
  },
  {
   "cell_type": "markdown",
   "metadata": {},
   "source": [
    "### 2.2 Tauchen and Hussey (1991)\n",
    "\n",
    "Tauchen (1986) and Tauchen and Hussey (1991) also provide a method to approximate an AR(1) process with a Markov chain.  Like Rouwenhorst (1995), these methods also create an evenly spaced grid. However, their approx to computing the transition probabilities across these grid points differs.  [These notes](http://www.fperri.net/TEACHING/macrotheory08/numerical.pdf) provide a detailed description of the approximation method used."
   ]
  },
  {
   "cell_type": "code",
<<<<<<< HEAD
   "execution_count": 20,
=======
   "execution_count": 10,
>>>>>>> upstream/master
   "metadata": {},
   "outputs": [
    {
     "data": {
      "text/plain": [
<<<<<<< HEAD
       "<matplotlib.axes._subplots.AxesSubplot at 0x1c121f5828>"
      ]
     },
     "execution_count": 20,
=======
       "<matplotlib.axes._subplots.AxesSubplot at 0x1a1175d940>"
      ]
     },
     "execution_count": 10,
>>>>>>> upstream/master
     "metadata": {},
     "output_type": "execute_result"
    },
    {
     "data": {
<<<<<<< HEAD
      "image/png": "iVBORw0KGgoAAAANSUhEUgAAAW4AAAD8CAYAAABXe05zAAAABHNCSVQICAgIfAhkiAAAAAlwSFlz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\nuCWpMIZbkgpjuCWpMP8PM6CogZgSvuQAAAAASUVORK5CYII=\n",
      "text/plain": [
       "<matplotlib.figure.Figure at 0x1c1220d5f8>"
=======
      "image/png": "iVBORw0KGgoAAAANSUhEUgAAAW4AAAD8CAYAAABXe05zAAAABHNCSVQICAgIfAhkiAAAAAlwSFlz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\n88QAAAAASUVORK5CYII=\n",
      "text/plain": [
       "<matplotlib.figure.Figure at 0x10b4f02e8>"
>>>>>>> upstream/master
      ]
     },
     "metadata": {},
     "output_type": "display_data"
    }
   ],
   "source": [
    "# Use Tauchen and Hussey (1991) method\n",
    "wgt = 0.5 + rho / 4\n",
    "baseSigma = wgt * sigma_eps + (1 - wgt) * sigma_z \n",
<<<<<<< HEAD
    "N_TH = 7\n",
=======
    "N_TH = 8\n",
>>>>>>> upstream/master
    "z_grid_TH, pi_TH = ar1.tauchenhussey(N_TH, mu, rho, sigma_eps, baseSigma)\n",
    "z_discrete_TH = sim_markov(z_grid_TH[0], np.transpose(pi_TH), num_draws)\n",
    "\n",
    "# Plot AR(1) and Markov approximation\n",
    "sns.distplot(z_discrete_TH, hist=True, kde=False, norm_hist=True)\n",
    "sns.kdeplot(np.array(z), bw=0.5)"
   ]
  },
  {
   "cell_type": "markdown",
   "metadata": {},
   "source": [
    "One caution here, if `N>8`, the results get a bit weird with represted values for in the $z$ grid and an asymetric distribution when simulated.  I'm not sure why grid points are repeated in thh $z$ grid, but I will look into this."
   ]
  },
  {
   "cell_type": "code",
<<<<<<< HEAD
   "execution_count": 21,
=======
   "execution_count": 11,
>>>>>>> upstream/master
   "metadata": {},
   "outputs": [
    {
     "data": {
      "text/plain": [
<<<<<<< HEAD
       "<matplotlib.axes._subplots.AxesSubplot at 0x1c123326d8>"
      ]
     },
     "execution_count": 21,
=======
       "<matplotlib.axes._subplots.AxesSubplot at 0x1a117af2e8>"
      ]
     },
     "execution_count": 11,
>>>>>>> upstream/master
     "metadata": {},
     "output_type": "execute_result"
    },
    {
     "data": {
<<<<<<< HEAD
      "image/png": "iVBORw0KGgoAAAANSUhEUgAAAW4AAAD8CAYAAABXe05zAAAABHNCSVQICAgIfAhkiAAAAAlwSFlz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\nbkmqjMEtSZUxuCWpMv8PHqcid7ruNPkAAAAASUVORK5CYII=\n",
      "text/plain": [
       "<matplotlib.figure.Figure at 0x1071eb4a8>"
=======
      "image/png": "iVBORw0KGgoAAAANSUhEUgAAAW4AAAD8CAYAAABXe05zAAAABHNCSVQICAgIfAhkiAAAAAlwSFlz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\nCtTzRAAAAABJRU5ErkJggg==\n",
      "text/plain": [
       "<matplotlib.figure.Figure at 0x1a1138c710>"
>>>>>>> upstream/master
      ]
     },
     "metadata": {},
     "output_type": "display_data"
    }
   ],
   "source": [
    "# Use Adda and Cooper (2003) method\n",
    "z_grid_AC, pi_AC = ar1.addacooper(N, mu, rho, sigma_eps)\n",
    "z_discrete_AC = sim_markov(z_grid_AC, np.transpose(pi_AC), num_draws)\n",
    "\n",
    "# Plot AR(1) and Markov approximation\n",
    "sns.distplot(z_discrete_AC, hist=True, kde=False, norm_hist=True)\n",
    "sns.kdeplot(np.array(z), bw=0.5)"
   ]
  },
  {
   "cell_type": "markdown",
   "metadata": {},
   "source": [
    "### Summary\n",
    "Three 3 plots are highly illustrative of the approaches these different methods take.  Rouwenhorst (1995) chooses and evenly spaced grid over $z$ and then fits the transition matrix over these points to produced the normal distribution found in the stationary distribution of $z$. Adda and Cooper (2003) break the the real line up into intervals with equal probability density and we see this in the density that results from the Markov process.  Tauchen and Hussey (1991) is somewhat between the other two methods in this repsect.  The grid for $z$ is not evenly spaced, but the probability density of any particular grid point varies in the stationary distribution.\n",
    "\n",
    "Also notice how the range of values in the $z$ grid changes across methods.  The Rouwenhorst (1995) and Tauchen and Hussey (1991) methods allow you to set this range with `step` and `baseSigma`, respectively.\n",
    "\n",
    "You can play around with `N`, $\\rho$, $\\sigma_{\\varepsilon}$, and see how these approximations perform.  For a rigorous comparison of these approaches, please see Kopecky and Suen (2010).  They find that the Rouwenhorst (1995) method outperforms the others when $\\rho$ is close to one.  You might consider the peristence and variability in the shocks to your autoregressive process when choosing the most appropriate method for your problem."
   ]
  },
  {
   "cell_type": "markdown",
   "metadata": {},
   "source": [
    "## QuantEcon package\n",
    "\n",
    "The QuantEcon package for Python also offers several approximation methods.  Below, I illustrate the Tauchen (1986) method as availabe in `quantecon.tauchen`, but both the Tauchen (1986) and Rouwenhorst (1995) methods are available in `quantecon.markov.approximation`."
   ]
  },
  {
   "cell_type": "code",
<<<<<<< HEAD
   "execution_count": 22,
=======
   "execution_count": 12,
>>>>>>> upstream/master
   "metadata": {},
   "outputs": [
    {
     "data": {
      "text/plain": [
<<<<<<< HEAD
       "<matplotlib.axes._subplots.AxesSubplot at 0x1a1189ec50>"
      ]
     },
     "execution_count": 22,
=======
       "<matplotlib.axes._subplots.AxesSubplot at 0x1a1625cb00>"
      ]
     },
     "execution_count": 12,
>>>>>>> upstream/master
     "metadata": {},
     "output_type": "execute_result"
    },
    {
     "data": {
<<<<<<< HEAD
      "image/png": "iVBORw0KGgoAAAANSUhEUgAAAW4AAAD8CAYAAABXe05zAAAABHNCSVQICAgIfAhkiAAAAAlwSFlz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\n",
      "text/plain": [
       "<matplotlib.figure.Figure at 0x1a117aafd0>"
=======
      "image/png": "iVBORw0KGgoAAAANSUhEUgAAAW4AAAD8CAYAAABXe05zAAAABHNCSVQICAgIfAhkiAAAAAlwSFlz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\nfJ8AAAAASUVORK5CYII=\n",
      "text/plain": [
       "<matplotlib.figure.Figure at 0x1a117d7588>"
>>>>>>> upstream/master
      ]
     },
     "metadata": {},
     "output_type": "display_data"
    }
   ],
   "source": [
    "# Try the Tauchen method from QuantEcon\n",
    "from quantecon import tauchen\n",
    "\n",
    "qe_result = tauchen(rho, sigma_eps, 3, N)\n",
    "pi_QE = qe_result.P\n",
    "z_grid_QE = np.linspace(-3*sigma_z, 3*sigma_z, N) # why can't this be returned from call to function??\n",
    "z_discrete_QE = sim_markov(z_grid_QE, np.transpose(pi_QE), num_draws)\n",
    "\n",
    "# Plot AR(1) and Markov approximation\n",
    "sns.distplot(z_discrete_QE, hist=True, kde=False, norm_hist=True)\n",
    "sns.kdeplot(np.array(z), bw=0.5)"
   ]
  },
  {
   "cell_type": "markdown",
   "metadata": {},
   "source": [
    "Note that I'm not sure why the QuantEcon methods only returns the transition matrix... maybe becuase it's simply a linear spaced grid over the specied range of the distribution.  I also wise that the methods in `quantecon.markov.approximation` would allow one to specify the range of the grid points (i.e. the number of standard deviations from the mean to include in the grid), but they do not."
   ]
  },
  {
   "cell_type": "markdown",
   "metadata": {},
   "source": [
    "## 3. References\n",
    "* Adda, Jerome and Russell Cooper, *Dynamic Economics: Quantitative Methods and Applications*, MIT Press (2003).\n",
    "* Kopecky, Karen and Richard Suen, \"Finite State Markov-chain Approximations to Highly Persistent Processes\", *Review of Economic Dynamics*, 13:3, pp. 701-714 (July 2010)\n",
    "* Rouwenhorst, K Geert, \"Asset Pricing Implications of Equilibrium Business Cycle Models\", in *Frontiers of Business Cycle Research* (Thomas F. Cooley Ed.), Princeton University Press (1995).\n",
    "* Tauchen, George, \"Finite state markov-chain approximations to univariate and vector autoregressions\", *Economics Letters*, 20:2, pp. 177-181, (1986).\n",
    "* Tauchen, George and Robert Hussey, \"Quadrature-Based Methods for Obtaining Approximate Solutions to Nonlinear Asset Pricing Models\", *Econometrica*, 59:2, pp. 371-396, (1991)."
   ]
  },
  {
   "cell_type": "code",
   "execution_count": null,
   "metadata": {
    "collapsed": true
   },
   "outputs": [],
   "source": []
  }
 ],
 "metadata": {
  "kernelspec": {
   "display_name": "Python 3",
   "language": "python",
   "name": "python3"
  },
  "language_info": {
   "codemirror_mode": {
    "name": "ipython",
    "version": 3
   },
   "file_extension": ".py",
   "mimetype": "text/x-python",
   "name": "python",
   "nbconvert_exporter": "python",
   "pygments_lexer": "ipython3",
   "version": "3.6.2"
  }
 },
 "nbformat": 4,
 "nbformat_minor": 2
}
