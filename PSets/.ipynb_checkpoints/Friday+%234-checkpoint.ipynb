{
 "cells": [
  {
   "cell_type": "code",
   "execution_count": 2,
   "metadata": {
    "collapsed": true
   },
   "outputs": [],
   "source": [
    "import pandas as pd\n",
    "import numpy as np\n",
    "import scipy.optimize as opt\n",
    "import time\n",
    "import math\n",
    "from statsmodels.iolib.summary2 import summary_col"
   ]
  },
  {
   "cell_type": "code",
   "execution_count": 3,
   "metadata": {},
   "outputs": [
    {
     "data": {
      "text/html": [
       "<div>\n",
       "<style>\n",
       "    .dataframe thead tr:only-child th {\n",
       "        text-align: right;\n",
       "    }\n",
       "\n",
       "    .dataframe thead th {\n",
       "        text-align: left;\n",
       "    }\n",
       "\n",
       "    .dataframe tbody tr th {\n",
       "        vertical-align: top;\n",
       "    }\n",
       "</style>\n",
       "<table border=\"1\" class=\"dataframe\">\n",
       "  <thead>\n",
       "    <tr style=\"text-align: right;\">\n",
       "      <th></th>\n",
       "      <th>id68</th>\n",
       "      <th>year</th>\n",
       "      <th>intid</th>\n",
       "      <th>hannhrs</th>\n",
       "      <th>wannhrs</th>\n",
       "      <th>hlabinc</th>\n",
       "      <th>wlabinc</th>\n",
       "      <th>nochild</th>\n",
       "      <th>wrace</th>\n",
       "      <th>hrace</th>\n",
       "      <th>...</th>\n",
       "      <th>redpregovinc</th>\n",
       "      <th>hsex</th>\n",
       "      <th>wsex</th>\n",
       "      <th>age</th>\n",
       "      <th>wage</th>\n",
       "      <th>hpersno</th>\n",
       "      <th>wpersno</th>\n",
       "      <th>hyrsed</th>\n",
       "      <th>wyrsed</th>\n",
       "      <th>pce</th>\n",
       "    </tr>\n",
       "  </thead>\n",
       "  <tbody>\n",
       "    <tr>\n",
       "      <th>count</th>\n",
       "      <td>123786.000000</td>\n",
       "      <td>123786.000000</td>\n",
       "      <td>123786.000000</td>\n",
       "      <td>123786.000000</td>\n",
       "      <td>123786.000000</td>\n",
       "      <td>9.023300e+04</td>\n",
       "      <td>48496.000000</td>\n",
       "      <td>123786.000000</td>\n",
       "      <td>90603.000000</td>\n",
       "      <td>123656.000000</td>\n",
       "      <td>...</td>\n",
       "      <td>1.237860e+05</td>\n",
       "      <td>123786.000000</td>\n",
       "      <td>80758.0</td>\n",
       "      <td>123786.000000</td>\n",
       "      <td>80758.000000</td>\n",
       "      <td>123786.000000</td>\n",
       "      <td>80758.000000</td>\n",
       "      <td>122809.000000</td>\n",
       "      <td>80091.000000</td>\n",
       "      <td>123786.000000</td>\n",
       "    </tr>\n",
       "    <tr>\n",
       "      <th>mean</th>\n",
       "      <td>1494.639475</td>\n",
       "      <td>1984.831273</td>\n",
       "      <td>3271.379429</td>\n",
       "      <td>1679.269897</td>\n",
       "      <td>633.026917</td>\n",
       "      <td>4.211505e+04</td>\n",
       "      <td>22026.289062</td>\n",
       "      <td>0.843771</td>\n",
       "      <td>1.098220</td>\n",
       "      <td>1.129731</td>\n",
       "      <td>...</td>\n",
       "      <td>3.012258e+04</td>\n",
       "      <td>1.233072</td>\n",
       "      <td>2.0</td>\n",
       "      <td>45.545547</td>\n",
       "      <td>41.390785</td>\n",
       "      <td>39.620201</td>\n",
       "      <td>55.346169</td>\n",
       "      <td>12.666091</td>\n",
       "      <td>12.720081</td>\n",
       "      <td>0.557690</td>\n",
       "    </tr>\n",
       "    <tr>\n",
       "      <th>std</th>\n",
       "      <td>838.901790</td>\n",
       "      <td>9.836212</td>\n",
       "      <td>2277.056058</td>\n",
       "      <td>1061.704712</td>\n",
       "      <td>878.422791</td>\n",
       "      <td>4.670424e+04</td>\n",
       "      <td>21336.107422</td>\n",
       "      <td>1.182829</td>\n",
       "      <td>0.356161</td>\n",
       "      <td>0.394627</td>\n",
       "      <td>...</td>\n",
       "      <td>4.588795e+04</td>\n",
       "      <td>0.422940</td>\n",
       "      <td>0.0</td>\n",
       "      <td>17.623671</td>\n",
       "      <td>14.786721</td>\n",
       "      <td>69.003265</td>\n",
       "      <td>77.864296</td>\n",
       "      <td>2.917721</td>\n",
       "      <td>2.422607</td>\n",
       "      <td>0.265198</td>\n",
       "    </tr>\n",
       "    <tr>\n",
       "      <th>min</th>\n",
       "      <td>1.000000</td>\n",
       "      <td>1967.000000</td>\n",
       "      <td>1.000000</td>\n",
       "      <td>0.000000</td>\n",
       "      <td>0.000000</td>\n",
       "      <td>6.353981e-01</td>\n",
       "      <td>1.192780</td>\n",
       "      <td>0.000000</td>\n",
       "      <td>1.000000</td>\n",
       "      <td>1.000000</td>\n",
       "      <td>...</td>\n",
       "      <td>-1.324040e+05</td>\n",
       "      <td>1.000000</td>\n",
       "      <td>2.0</td>\n",
       "      <td>16.000000</td>\n",
       "      <td>13.000000</td>\n",
       "      <td>1.000000</td>\n",
       "      <td>1.000000</td>\n",
       "      <td>1.000000</td>\n",
       "      <td>1.000000</td>\n",
       "      <td>0.000000</td>\n",
       "    </tr>\n",
       "    <tr>\n",
       "      <th>25%</th>\n",
       "      <td>772.000000</td>\n",
       "      <td>1977.000000</td>\n",
       "      <td>1444.000000</td>\n",
       "      <td>832.000000</td>\n",
       "      <td>0.000000</td>\n",
       "      <td>1.979858e+04</td>\n",
       "      <td>8016.246948</td>\n",
       "      <td>0.000000</td>\n",
       "      <td>1.000000</td>\n",
       "      <td>1.000000</td>\n",
       "      <td>...</td>\n",
       "      <td>7.700000e+03</td>\n",
       "      <td>1.000000</td>\n",
       "      <td>2.0</td>\n",
       "      <td>31.000000</td>\n",
       "      <td>29.000000</td>\n",
       "      <td>1.000000</td>\n",
       "      <td>2.000000</td>\n",
       "      <td>12.000000</td>\n",
       "      <td>12.000000</td>\n",
       "      <td>0.362158</td>\n",
       "    </tr>\n",
       "    <tr>\n",
       "      <th>50%</th>\n",
       "      <td>1517.000000</td>\n",
       "      <td>1985.000000</td>\n",
       "      <td>2984.000000</td>\n",
       "      <td>1976.000000</td>\n",
       "      <td>0.000000</td>\n",
       "      <td>3.460022e+04</td>\n",
       "      <td>18122.412109</td>\n",
       "      <td>0.000000</td>\n",
       "      <td>1.000000</td>\n",
       "      <td>1.000000</td>\n",
       "      <td>...</td>\n",
       "      <td>1.900000e+04</td>\n",
       "      <td>1.000000</td>\n",
       "      <td>2.0</td>\n",
       "      <td>42.000000</td>\n",
       "      <td>39.000000</td>\n",
       "      <td>3.000000</td>\n",
       "      <td>3.000000</td>\n",
       "      <td>12.000000</td>\n",
       "      <td>12.000000</td>\n",
       "      <td>0.599887</td>\n",
       "    </tr>\n",
       "    <tr>\n",
       "      <th>75%</th>\n",
       "      <td>2224.000000</td>\n",
       "      <td>1993.000000</td>\n",
       "      <td>4763.000000</td>\n",
       "      <td>2350.000000</td>\n",
       "      <td>1454.000000</td>\n",
       "      <td>5.267309e+04</td>\n",
       "      <td>30256.060547</td>\n",
       "      <td>2.000000</td>\n",
       "      <td>1.000000</td>\n",
       "      <td>1.000000</td>\n",
       "      <td>...</td>\n",
       "      <td>3.910775e+04</td>\n",
       "      <td>1.000000</td>\n",
       "      <td>2.0</td>\n",
       "      <td>58.000000</td>\n",
       "      <td>51.000000</td>\n",
       "      <td>22.000000</td>\n",
       "      <td>170.000000</td>\n",
       "      <td>15.000000</td>\n",
       "      <td>14.000000</td>\n",
       "      <td>0.786908</td>\n",
       "    </tr>\n",
       "    <tr>\n",
       "      <th>max</th>\n",
       "      <td>2930.000000</td>\n",
       "      <td>2002.000000</td>\n",
       "      <td>16968.000000</td>\n",
       "      <td>7800.000000</td>\n",
       "      <td>5840.000000</td>\n",
       "      <td>3.771521e+06</td>\n",
       "      <td>856942.062500</td>\n",
       "      <td>11.000000</td>\n",
       "      <td>8.000000</td>\n",
       "      <td>8.000000</td>\n",
       "      <td>...</td>\n",
       "      <td>3.660000e+06</td>\n",
       "      <td>2.000000</td>\n",
       "      <td>2.0</td>\n",
       "      <td>102.000000</td>\n",
       "      <td>95.000000</td>\n",
       "      <td>227.000000</td>\n",
       "      <td>231.000000</td>\n",
       "      <td>17.000000</td>\n",
       "      <td>17.000000</td>\n",
       "      <td>0.928007</td>\n",
       "    </tr>\n",
       "  </tbody>\n",
       "</table>\n",
       "<p>8 rows × 51 columns</p>\n",
       "</div>"
      ],
      "text/plain": [
       "                id68           year          intid        hannhrs  \\\n",
       "count  123786.000000  123786.000000  123786.000000  123786.000000   \n",
       "mean     1494.639475    1984.831273    3271.379429    1679.269897   \n",
       "std       838.901790       9.836212    2277.056058    1061.704712   \n",
       "min         1.000000    1967.000000       1.000000       0.000000   \n",
       "25%       772.000000    1977.000000    1444.000000     832.000000   \n",
       "50%      1517.000000    1985.000000    2984.000000    1976.000000   \n",
       "75%      2224.000000    1993.000000    4763.000000    2350.000000   \n",
       "max      2930.000000    2002.000000   16968.000000    7800.000000   \n",
       "\n",
       "             wannhrs       hlabinc        wlabinc        nochild  \\\n",
       "count  123786.000000  9.023300e+04   48496.000000  123786.000000   \n",
       "mean      633.026917  4.211505e+04   22026.289062       0.843771   \n",
       "std       878.422791  4.670424e+04   21336.107422       1.182829   \n",
       "min         0.000000  6.353981e-01       1.192780       0.000000   \n",
       "25%         0.000000  1.979858e+04    8016.246948       0.000000   \n",
       "50%         0.000000  3.460022e+04   18122.412109       0.000000   \n",
       "75%      1454.000000  5.267309e+04   30256.060547       2.000000   \n",
       "max      5840.000000  3.771521e+06  856942.062500      11.000000   \n",
       "\n",
       "              wrace          hrace      ...        redpregovinc  \\\n",
       "count  90603.000000  123656.000000      ...        1.237860e+05   \n",
       "mean       1.098220       1.129731      ...        3.012258e+04   \n",
       "std        0.356161       0.394627      ...        4.588795e+04   \n",
       "min        1.000000       1.000000      ...       -1.324040e+05   \n",
       "25%        1.000000       1.000000      ...        7.700000e+03   \n",
       "50%        1.000000       1.000000      ...        1.900000e+04   \n",
       "75%        1.000000       1.000000      ...        3.910775e+04   \n",
       "max        8.000000       8.000000      ...        3.660000e+06   \n",
       "\n",
       "                hsex     wsex            age          wage        hpersno  \\\n",
       "count  123786.000000  80758.0  123786.000000  80758.000000  123786.000000   \n",
       "mean        1.233072      2.0      45.545547     41.390785      39.620201   \n",
       "std         0.422940      0.0      17.623671     14.786721      69.003265   \n",
       "min         1.000000      2.0      16.000000     13.000000       1.000000   \n",
       "25%         1.000000      2.0      31.000000     29.000000       1.000000   \n",
       "50%         1.000000      2.0      42.000000     39.000000       3.000000   \n",
       "75%         1.000000      2.0      58.000000     51.000000      22.000000   \n",
       "max         2.000000      2.0     102.000000     95.000000     227.000000   \n",
       "\n",
       "            wpersno         hyrsed        wyrsed            pce  \n",
       "count  80758.000000  122809.000000  80091.000000  123786.000000  \n",
       "mean      55.346169      12.666091     12.720081       0.557690  \n",
       "std       77.864296       2.917721      2.422607       0.265198  \n",
       "min        1.000000       1.000000      1.000000       0.000000  \n",
       "25%        2.000000      12.000000     12.000000       0.362158  \n",
       "50%        3.000000      12.000000     12.000000       0.599887  \n",
       "75%      170.000000      15.000000     14.000000       0.786908  \n",
       "max      231.000000      17.000000     17.000000       0.928007  \n",
       "\n",
       "[8 rows x 51 columns]"
      ]
     },
     "execution_count": 3,
     "metadata": {},
     "output_type": "execute_result"
    }
   ],
   "source": [
    "df1=pd.read_stata('PS3_data.dta')\n",
    "df1.describe()"
   ]
  },
  {
   "cell_type": "code",
   "execution_count": 5,
   "metadata": {},
   "outputs": [],
   "source": [
    "df1 = df1[df1.hlabinc.isnull() !=True] #drop if missing hlabinc\n",
    "df1 = df1[df1.hannhrs.isnull() !=True] #drop if missing hannhrs\n",
    "df1 = df1[df1.age.isnull() !=True] #drop if missing age\n",
    "df1 = df1[df1.hyrsed.isnull() !=True] #drop if missing educ"
   ]
  },
  {
   "cell_type": "code",
   "execution_count": 8,
   "metadata": {},
   "outputs": [],
   "source": [
    "# Create a new column called df.hours_new  if hannhrs is greater than 0 /because whEN i CREATE WAGE i can not divide by zero..\n",
    "df1['hours_new'] = df1['hannhrs'].where(df1['hannhrs'] > 0)\n",
    "df1['wage_hours'] = df1['hlabinc']/df1['hours_new']\n",
    "df1['ln_wage_hours'] = np.log(df1['wage_hours'])   # log of wages"
   ]
  },
  {
   "cell_type": "code",
   "execution_count": 9,
   "metadata": {
    "collapsed": true
   },
   "outputs": [],
   "source": [
    "df1['const'] = 1  #add constant to the data set"
   ]
  },
  {
   "cell_type": "code",
   "execution_count": 10,
   "metadata": {
    "collapsed": true
   },
   "outputs": [],
   "source": [
    "#select only male heads of household who are between 25 and 60 years of age and earn wages > $7/hr  --> I defined new data called df2\n",
    "df2 = df1[(df1['hsex']==1) & (df1['age'] <60) & (df1['age'] > 25) & (df1['wage_hours'] > 7)] "
   ]
  },
  {
   "cell_type": "code",
   "execution_count": 11,
   "metadata": {
    "collapsed": true
   },
   "outputs": [],
   "source": [
    "race_dummy = pd.get_dummies(df2['hrace'])\n",
    "df4= pd.concat([df2, race_dummy], axis=1)"
   ]
  },
  {
   "cell_type": "code",
   "execution_count": 12,
   "metadata": {
    "collapsed": true
   },
   "outputs": [],
   "source": [
    "race_dummy = pd.get_dummies(df2['hrace'])\n",
    "df4= pd.concat([df2, race_dummy], axis=1)\n",
    "df4.rename (columns = {1.0:'White',2.0:'Black',3.0:'Others'},inplace=True)"
   ]
  },
  {
   "cell_type": "code",
   "execution_count": 23,
   "metadata": {},
   "outputs": [
    {
     "data": {
      "text/plain": [
       "count    54456.000000\n",
       "mean        39.496567\n",
       "std          9.142684\n",
       "min         26.000000\n",
       "25%         32.000000\n",
       "50%         38.000000\n",
       "75%         47.000000\n",
       "max         59.000000\n",
       "Name: age, dtype: float64"
      ]
     },
     "execution_count": 23,
     "metadata": {},
     "output_type": "execute_result"
    }
   ],
   "source": [
    "df4['age'].describe()    ##FINAL DATA IS df4"
   ]
  },
  {
   "cell_type": "code",
   "execution_count": 24,
   "metadata": {
    "collapsed": true
   },
   "outputs": [],
   "source": [
    "year1 = df4[(df4['year']==1971)]\n",
    "year2 = df4[(df4['year']==1980)]\n",
    "year3 = df4[(df4['year']==1990)]\n",
    "year3 = df4[(df4['year']==2000)]"
   ]
  },
  {
   "cell_type": "code",
   "execution_count": 27,
   "metadata": {},
   "outputs": [],
   "source": [
    "exog_variables = ['const','hyrsed', 'age', 'Black', 'Others']\n",
    "df1['const'] = 1  #add constant to the data set\n",
    "x  = np.matrix(year1[exog_variables])\n",
    "endo_variables = ['ln_wage_hours']\n",
    "y  = np.matrix(year1[endo_variables])"
   ]
  },
  {
   "cell_type": "code",
   "execution_count": 30,
   "metadata": {},
   "outputs": [
    {
     "data": {
      "text/plain": [
       "matrix([[ 1.5 ],\n",
       "        [ 0.09],\n",
       "        [ 0.05],\n",
       "        [ 1.5 ],\n",
       "        [ 0.09]])"
      ]
     },
     "execution_count": 30,
     "metadata": {},
     "output_type": "execute_result"
    }
   ],
   "source": [
    "b = np.matrix([[1.5], [0.09], [0.05], [1.5], [0.09]])\n",
    "b"
   ]
  },
  {
   "cell_type": "code",
   "execution_count": 37,
   "metadata": {},
   "outputs": [
    {
     "data": {
      "text/plain": [
       "3.141592653589793"
      ]
     },
     "execution_count": 37,
     "metadata": {},
     "output_type": "execute_result"
    }
   ],
   "source": [
    "#error terms\n",
    "e = y - x * b\n",
    "\n",
    "#standard deviation\n",
    "sigma = e.std()\n",
    "\n",
    "math.pi"
   ]
  },
  {
   "cell_type": "code",
   "execution_count": 38,
   "metadata": {
    "scrolled": true
   },
   "outputs": [
    {
     "data": {
      "text/plain": [
       "matrix([[-5822.5293041]])"
      ]
     },
     "execution_count": 38,
     "metadata": {},
     "output_type": "execute_result"
    }
   ],
   "source": [
    "mll = (-0.5 * len(year1) * np.log(2 * math.pi)) - (0.5 * len(year1) * np.log(sigma**2)) -((0.5 * (1/ sigma ** 2))*((e.T) * e))\n",
    "mll"
   ]
  },
  {
   "cell_type": "code",
   "execution_count": 54,
   "metadata": {},
   "outputs": [
    {
     "data": {
      "text/plain": [
       "matrix([[-5822.5293041]])"
      ]
     },
     "execution_count": 54,
     "metadata": {},
     "output_type": "execute_result"
    }
   ],
   "source": [
    "def maxll(b):\n",
    "\n",
    "    x  = np.matrix(year1[exog_variables])\n",
    "    y  = np.matrix(year1[endo_variables])\n",
    "    model = x * b\n",
    "    sigma = e.std()\n",
    "    \n",
    "    mll = (-0.5 * len(year1) * np.log(2 * math.pi)) - (0.5 * len(year1) * np.log(sigma**2)) -((0.5 * (1/ sigma ** 2))*((e.T) * e))\n",
    "    return mll\n",
    "\n",
    "maxll(b)"
   ]
  },
  {
   "cell_type": "code",
   "execution_count": 56,
   "metadata": {},
   "outputs": [
    {
     "ename": "TypeError",
     "evalue": "'matrix' object is not callable",
     "output_type": "error",
     "traceback": [
      "\u001b[1;31m---------------------------------------------------------------------------\u001b[0m",
      "\u001b[1;31mTypeError\u001b[0m                                 Traceback (most recent call last)",
      "\u001b[1;32m<ipython-input-56-aedc9b014f47>\u001b[0m in \u001b[0;36m<module>\u001b[1;34m()\u001b[0m\n\u001b[0;32m     10\u001b[0m \u001b[1;32mfrom\u001b[0m \u001b[0mscipy\u001b[0m\u001b[1;33m.\u001b[0m\u001b[0moptimize\u001b[0m \u001b[1;32mimport\u001b[0m \u001b[0mminimize\u001b[0m\u001b[1;33m\u001b[0m\u001b[0m\n\u001b[0;32m     11\u001b[0m res = minimize(maxll(b), var, method='BFGS',\n\u001b[1;32m---> 12\u001b[1;33m                 options={'disp': True})\n\u001b[0m",
      "\u001b[1;32mD:\\Programs\\Anacondaa\\lib\\site-packages\\scipy\\optimize\\_minimize.py\u001b[0m in \u001b[0;36mminimize\u001b[1;34m(fun, x0, args, method, jac, hess, hessp, bounds, constraints, tol, callback, options)\u001b[0m\n\u001b[0;32m    442\u001b[0m         \u001b[1;32mreturn\u001b[0m \u001b[0m_minimize_cg\u001b[0m\u001b[1;33m(\u001b[0m\u001b[0mfun\u001b[0m\u001b[1;33m,\u001b[0m \u001b[0mx0\u001b[0m\u001b[1;33m,\u001b[0m \u001b[0margs\u001b[0m\u001b[1;33m,\u001b[0m \u001b[0mjac\u001b[0m\u001b[1;33m,\u001b[0m \u001b[0mcallback\u001b[0m\u001b[1;33m,\u001b[0m \u001b[1;33m**\u001b[0m\u001b[0moptions\u001b[0m\u001b[1;33m)\u001b[0m\u001b[1;33m\u001b[0m\u001b[0m\n\u001b[0;32m    443\u001b[0m     \u001b[1;32melif\u001b[0m \u001b[0mmeth\u001b[0m \u001b[1;33m==\u001b[0m \u001b[1;34m'bfgs'\u001b[0m\u001b[1;33m:\u001b[0m\u001b[1;33m\u001b[0m\u001b[0m\n\u001b[1;32m--> 444\u001b[1;33m         \u001b[1;32mreturn\u001b[0m \u001b[0m_minimize_bfgs\u001b[0m\u001b[1;33m(\u001b[0m\u001b[0mfun\u001b[0m\u001b[1;33m,\u001b[0m \u001b[0mx0\u001b[0m\u001b[1;33m,\u001b[0m \u001b[0margs\u001b[0m\u001b[1;33m,\u001b[0m \u001b[0mjac\u001b[0m\u001b[1;33m,\u001b[0m \u001b[0mcallback\u001b[0m\u001b[1;33m,\u001b[0m \u001b[1;33m**\u001b[0m\u001b[0moptions\u001b[0m\u001b[1;33m)\u001b[0m\u001b[1;33m\u001b[0m\u001b[0m\n\u001b[0m\u001b[0;32m    445\u001b[0m     \u001b[1;32melif\u001b[0m \u001b[0mmeth\u001b[0m \u001b[1;33m==\u001b[0m \u001b[1;34m'newton-cg'\u001b[0m\u001b[1;33m:\u001b[0m\u001b[1;33m\u001b[0m\u001b[0m\n\u001b[0;32m    446\u001b[0m         return _minimize_newtoncg(fun, x0, args, jac, hess, hessp, callback,\n",
      "\u001b[1;32mD:\\Programs\\Anacondaa\\lib\\site-packages\\scipy\\optimize\\optimize.py\u001b[0m in \u001b[0;36m_minimize_bfgs\u001b[1;34m(fun, x0, args, jac, callback, gtol, norm, eps, maxiter, disp, return_all, **unknown_options)\u001b[0m\n\u001b[0;32m    911\u001b[0m     \u001b[1;32melse\u001b[0m\u001b[1;33m:\u001b[0m\u001b[1;33m\u001b[0m\u001b[0m\n\u001b[0;32m    912\u001b[0m         \u001b[0mgrad_calls\u001b[0m\u001b[1;33m,\u001b[0m \u001b[0mmyfprime\u001b[0m \u001b[1;33m=\u001b[0m \u001b[0mwrap_function\u001b[0m\u001b[1;33m(\u001b[0m\u001b[0mfprime\u001b[0m\u001b[1;33m,\u001b[0m \u001b[0margs\u001b[0m\u001b[1;33m)\u001b[0m\u001b[1;33m\u001b[0m\u001b[0m\n\u001b[1;32m--> 913\u001b[1;33m     \u001b[0mgfk\u001b[0m \u001b[1;33m=\u001b[0m \u001b[0mmyfprime\u001b[0m\u001b[1;33m(\u001b[0m\u001b[0mx0\u001b[0m\u001b[1;33m)\u001b[0m\u001b[1;33m\u001b[0m\u001b[0m\n\u001b[0m\u001b[0;32m    914\u001b[0m     \u001b[0mk\u001b[0m \u001b[1;33m=\u001b[0m \u001b[1;36m0\u001b[0m\u001b[1;33m\u001b[0m\u001b[0m\n\u001b[0;32m    915\u001b[0m     \u001b[0mN\u001b[0m \u001b[1;33m=\u001b[0m \u001b[0mlen\u001b[0m\u001b[1;33m(\u001b[0m\u001b[0mx0\u001b[0m\u001b[1;33m)\u001b[0m\u001b[1;33m\u001b[0m\u001b[0m\n",
      "\u001b[1;32mD:\\Programs\\Anacondaa\\lib\\site-packages\\scipy\\optimize\\optimize.py\u001b[0m in \u001b[0;36mfunction_wrapper\u001b[1;34m(*wrapper_args)\u001b[0m\n\u001b[0;32m    290\u001b[0m     \u001b[1;32mdef\u001b[0m \u001b[0mfunction_wrapper\u001b[0m\u001b[1;33m(\u001b[0m\u001b[1;33m*\u001b[0m\u001b[0mwrapper_args\u001b[0m\u001b[1;33m)\u001b[0m\u001b[1;33m:\u001b[0m\u001b[1;33m\u001b[0m\u001b[0m\n\u001b[0;32m    291\u001b[0m         \u001b[0mncalls\u001b[0m\u001b[1;33m[\u001b[0m\u001b[1;36m0\u001b[0m\u001b[1;33m]\u001b[0m \u001b[1;33m+=\u001b[0m \u001b[1;36m1\u001b[0m\u001b[1;33m\u001b[0m\u001b[0m\n\u001b[1;32m--> 292\u001b[1;33m         \u001b[1;32mreturn\u001b[0m \u001b[0mfunction\u001b[0m\u001b[1;33m(\u001b[0m\u001b[1;33m*\u001b[0m\u001b[1;33m(\u001b[0m\u001b[0mwrapper_args\u001b[0m \u001b[1;33m+\u001b[0m \u001b[0margs\u001b[0m\u001b[1;33m)\u001b[0m\u001b[1;33m)\u001b[0m\u001b[1;33m\u001b[0m\u001b[0m\n\u001b[0m\u001b[0;32m    293\u001b[0m \u001b[1;33m\u001b[0m\u001b[0m\n\u001b[0;32m    294\u001b[0m     \u001b[1;32mreturn\u001b[0m \u001b[0mncalls\u001b[0m\u001b[1;33m,\u001b[0m \u001b[0mfunction_wrapper\u001b[0m\u001b[1;33m\u001b[0m\u001b[0m\n",
      "\u001b[1;32mD:\\Programs\\Anacondaa\\lib\\site-packages\\scipy\\optimize\\optimize.py\u001b[0m in \u001b[0;36mapprox_fprime\u001b[1;34m(xk, f, epsilon, *args)\u001b[0m\n\u001b[0;32m    686\u001b[0m \u001b[1;33m\u001b[0m\u001b[0m\n\u001b[0;32m    687\u001b[0m     \"\"\"\n\u001b[1;32m--> 688\u001b[1;33m     \u001b[1;32mreturn\u001b[0m \u001b[0m_approx_fprime_helper\u001b[0m\u001b[1;33m(\u001b[0m\u001b[0mxk\u001b[0m\u001b[1;33m,\u001b[0m \u001b[0mf\u001b[0m\u001b[1;33m,\u001b[0m \u001b[0mepsilon\u001b[0m\u001b[1;33m,\u001b[0m \u001b[0margs\u001b[0m\u001b[1;33m=\u001b[0m\u001b[0margs\u001b[0m\u001b[1;33m)\u001b[0m\u001b[1;33m\u001b[0m\u001b[0m\n\u001b[0m\u001b[0;32m    689\u001b[0m \u001b[1;33m\u001b[0m\u001b[0m\n\u001b[0;32m    690\u001b[0m \u001b[1;33m\u001b[0m\u001b[0m\n",
      "\u001b[1;32mD:\\Programs\\Anacondaa\\lib\\site-packages\\scipy\\optimize\\optimize.py\u001b[0m in \u001b[0;36m_approx_fprime_helper\u001b[1;34m(xk, f, epsilon, args, f0)\u001b[0m\n\u001b[0;32m    620\u001b[0m     \"\"\"\n\u001b[0;32m    621\u001b[0m     \u001b[1;32mif\u001b[0m \u001b[0mf0\u001b[0m \u001b[1;32mis\u001b[0m \u001b[1;32mNone\u001b[0m\u001b[1;33m:\u001b[0m\u001b[1;33m\u001b[0m\u001b[0m\n\u001b[1;32m--> 622\u001b[1;33m         \u001b[0mf0\u001b[0m \u001b[1;33m=\u001b[0m \u001b[0mf\u001b[0m\u001b[1;33m(\u001b[0m\u001b[1;33m*\u001b[0m\u001b[1;33m(\u001b[0m\u001b[1;33m(\u001b[0m\u001b[0mxk\u001b[0m\u001b[1;33m,\u001b[0m\u001b[1;33m)\u001b[0m \u001b[1;33m+\u001b[0m \u001b[0margs\u001b[0m\u001b[1;33m)\u001b[0m\u001b[1;33m)\u001b[0m\u001b[1;33m\u001b[0m\u001b[0m\n\u001b[0m\u001b[0;32m    623\u001b[0m     \u001b[0mgrad\u001b[0m \u001b[1;33m=\u001b[0m \u001b[0mnumpy\u001b[0m\u001b[1;33m.\u001b[0m\u001b[0mzeros\u001b[0m\u001b[1;33m(\u001b[0m\u001b[1;33m(\u001b[0m\u001b[0mlen\u001b[0m\u001b[1;33m(\u001b[0m\u001b[0mxk\u001b[0m\u001b[1;33m)\u001b[0m\u001b[1;33m,\u001b[0m\u001b[1;33m)\u001b[0m\u001b[1;33m,\u001b[0m \u001b[0mfloat\u001b[0m\u001b[1;33m)\u001b[0m\u001b[1;33m\u001b[0m\u001b[0m\n\u001b[0;32m    624\u001b[0m     \u001b[0mei\u001b[0m \u001b[1;33m=\u001b[0m \u001b[0mnumpy\u001b[0m\u001b[1;33m.\u001b[0m\u001b[0mzeros\u001b[0m\u001b[1;33m(\u001b[0m\u001b[1;33m(\u001b[0m\u001b[0mlen\u001b[0m\u001b[1;33m(\u001b[0m\u001b[0mxk\u001b[0m\u001b[1;33m)\u001b[0m\u001b[1;33m,\u001b[0m\u001b[1;33m)\u001b[0m\u001b[1;33m,\u001b[0m \u001b[0mfloat\u001b[0m\u001b[1;33m)\u001b[0m\u001b[1;33m\u001b[0m\u001b[0m\n",
      "\u001b[1;32mD:\\Programs\\Anacondaa\\lib\\site-packages\\scipy\\optimize\\optimize.py\u001b[0m in \u001b[0;36mfunction_wrapper\u001b[1;34m(*wrapper_args)\u001b[0m\n\u001b[0;32m    290\u001b[0m     \u001b[1;32mdef\u001b[0m \u001b[0mfunction_wrapper\u001b[0m\u001b[1;33m(\u001b[0m\u001b[1;33m*\u001b[0m\u001b[0mwrapper_args\u001b[0m\u001b[1;33m)\u001b[0m\u001b[1;33m:\u001b[0m\u001b[1;33m\u001b[0m\u001b[0m\n\u001b[0;32m    291\u001b[0m         \u001b[0mncalls\u001b[0m\u001b[1;33m[\u001b[0m\u001b[1;36m0\u001b[0m\u001b[1;33m]\u001b[0m \u001b[1;33m+=\u001b[0m \u001b[1;36m1\u001b[0m\u001b[1;33m\u001b[0m\u001b[0m\n\u001b[1;32m--> 292\u001b[1;33m         \u001b[1;32mreturn\u001b[0m \u001b[0mfunction\u001b[0m\u001b[1;33m(\u001b[0m\u001b[1;33m*\u001b[0m\u001b[1;33m(\u001b[0m\u001b[0mwrapper_args\u001b[0m \u001b[1;33m+\u001b[0m \u001b[0margs\u001b[0m\u001b[1;33m)\u001b[0m\u001b[1;33m)\u001b[0m\u001b[1;33m\u001b[0m\u001b[0m\n\u001b[0m\u001b[0;32m    293\u001b[0m \u001b[1;33m\u001b[0m\u001b[0m\n\u001b[0;32m    294\u001b[0m     \u001b[1;32mreturn\u001b[0m \u001b[0mncalls\u001b[0m\u001b[1;33m,\u001b[0m \u001b[0mfunction_wrapper\u001b[0m\u001b[1;33m\u001b[0m\u001b[0m\n",
      "\u001b[1;31mTypeError\u001b[0m: 'matrix' object is not callable"
     ]
    }
   ],
   "source": [
    "nvar = 5\n",
    "var = np.zeros(nvar)\n",
    "var[0] = -15.5\n",
    "var[1] = 19.5\n",
    "var[2] = -1.0\n",
    "var[3] = -1.0\n",
    "var[4] = -1.0\n",
    "\n",
    "#   let's maximize the likelihood (minimize -1*max(likelihood)\n",
    "from scipy.optimize import minimize\n",
    "res = minimize(maxll(b), var, method='BFGS',\n",
    "                options={'disp': True})"
   ]
  },
  {
   "cell_type": "code",
   "execution_count": null,
   "metadata": {
    "collapsed": true
   },
   "outputs": [],
   "source": []
  }
 ],
 "metadata": {
  "kernelspec": {
   "display_name": "Python 3",
   "language": "python",
   "name": "python3"
  },
  "language_info": {
   "codemirror_mode": {
    "name": "ipython",
    "version": 3
   },
   "file_extension": ".py",
   "mimetype": "text/x-python",
   "name": "python",
   "nbconvert_exporter": "python",
   "pygments_lexer": "ipython3",
   "version": "3.6.1"
  }
 },
 "nbformat": 4,
 "nbformat_minor": 2
}
