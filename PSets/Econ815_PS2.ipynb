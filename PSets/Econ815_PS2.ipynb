{
 "cells": [
  {
   "cell_type": "markdown",
   "metadata": {},
   "source": [
    "Problem 1. Write a function that accepts a list of numbers as input and\n",
    "returns a new list with the minimum, maximum, and average of the original\n",
    "list (in that order). Remember to use floating point division to calculate the\n",
    "average. Can you implement this function in a single line?"
   ]
  },
  {
   "cell_type": "code",
   "execution_count": 13,
   "metadata": {
    "collapsed": true
   },
   "outputs": [],
   "source": [
    "def summary(a):\n",
    "    \"We take a list of numbers and return the max, min, and average and return this as a list\"\n",
    "    b = max(a)\n",
    "    c = min(a) \n",
    "    d = float(sum(a))/ max(len(a), 1)\n",
    "    e = [b, c, d]\n",
    "    return e"
   ]
  },
  {
   "cell_type": "code",
   "execution_count": 14,
   "metadata": {},
   "outputs": [
    {
     "data": {
      "text/plain": [
       "[10, 1, 4.428571428571429]"
      ]
     },
     "execution_count": 14,
     "metadata": {},
     "output_type": "execute_result"
    }
   ],
   "source": [
    "summary([1, 2, 3, 4, 5, 6, 10])"
   ]
  },
  {
   "cell_type": "markdown",
   "metadata": {},
   "source": [
    "Problem 2. Python has several methods that seem to change immutable\n",
    "objects. These methods actually work by making copies of objects. We can\n",
    "therefore determine which object types are mutable and which are immutable\n",
    "by using the equal sign and “changing” the objects.\n"
   ]
  },
  {
   "cell_type": "code",
   "execution_count": 16,
   "metadata": {},
   "outputs": [
    {
     "data": {
      "text/plain": [
       "True"
      ]
     },
     "execution_count": 16,
     "metadata": {},
     "output_type": "execute_result"
    }
   ],
   "source": [
    ">>> dict_1 = {1: 'x', 2: 'b'} # Create a dictionary.\n",
    ">>> dict_2 = dict_1 # Assign it a new name.\n",
    ">>> dict_2[1] = 'a' # Change the 'new' dictionary.\n",
    ">>> dict_1 == dict_2 # Compare the two names.\n",
    "True"
   ]
  },
  {
   "cell_type": "markdown",
   "metadata": {},
   "source": [
    "Since altering one name altered the other, we conclude that no copy has\n",
    "been made and that therefore Python dictionaries are mutable. If we repeat\n",
    "this process with a di↵erent type and the two names are di↵erent in the end,\n",
    "we will know that a copy had been made and the type is immutable.\n",
    "Following the example given above, determine which object types are\n",
    "mutable and which are immutable. Use the following operations to modify\n",
    "each of the given types.\n",
    "numbers num += 1\n",
    "strings word += ‘a’\n",
    "lists list.append(1)\n",
    "tuples tuple += (1,)\n",
    "dictionaries dict[1] = ‘a’\n",
    "Print a statement of your conclusions."
   ]
  },
  {
   "cell_type": "code",
   "execution_count": 17,
   "metadata": {},
   "outputs": [
    {
     "data": {
      "text/plain": [
       "False"
      ]
     },
     "execution_count": 17,
     "metadata": {},
     "output_type": "execute_result"
    }
   ],
   "source": [
    "num_1 = 8\n",
    "num_2 = num_1\n",
    "num_2 = 8 + 1\n",
    "num_1 == num_2"
   ]
  },
  {
   "cell_type": "code",
   "execution_count": 18,
   "metadata": {
    "collapsed": true
   },
   "outputs": [],
   "source": [
    "#Thus, numbers are mutable as num_1 =/ num_2"
   ]
  },
  {
   "cell_type": "code",
   "execution_count": 36,
   "metadata": {},
   "outputs": [
    {
     "data": {
      "text/plain": [
       "False"
      ]
     },
     "execution_count": 36,
     "metadata": {},
     "output_type": "execute_result"
    }
   ],
   "source": [
    "word = \"Vanilla Ice\"\n",
    "yo = word\n",
    "yo = yo + \"a\"\n",
    "word == yo\n"
   ]
  },
  {
   "cell_type": "code",
   "execution_count": 21,
   "metadata": {
    "collapsed": true
   },
   "outputs": [],
   "source": [
    "#Thus, strings are also mutable as word =/ yo"
   ]
  },
  {
   "cell_type": "code",
   "execution_count": 44,
   "metadata": {},
   "outputs": [
    {
     "data": {
      "text/plain": [
       "True"
      ]
     },
     "execution_count": 44,
     "metadata": {},
     "output_type": "execute_result"
    }
   ],
   "source": [
    "A = [1, 2, 3]\n",
    "B = A\n",
    "B.append([2, 3])\n",
    "A == B"
   ]
  },
  {
   "cell_type": "code",
   "execution_count": 45,
   "metadata": {
    "collapsed": true
   },
   "outputs": [],
   "source": [
    "#The true value indicates that A and B are immutable objects as they were the same at genesis."
   ]
  },
  {
   "cell_type": "code",
   "execution_count": 51,
   "metadata": {},
   "outputs": [
    {
     "data": {
      "text/plain": [
       "False"
      ]
     },
     "execution_count": 51,
     "metadata": {},
     "output_type": "execute_result"
    }
   ],
   "source": [
    "A = (1, 2, 3)\n",
    "B = A\n",
    "C = (1, 3, 6)\n",
    "B = B + C\n",
    "A == B"
   ]
  },
  {
   "cell_type": "code",
   "execution_count": 52,
   "metadata": {
    "collapsed": true
   },
   "outputs": [],
   "source": [
    "#The false response means that tuples are mutable "
   ]
  },
  {
   "cell_type": "code",
   "execution_count": 53,
   "metadata": {},
   "outputs": [
    {
     "data": {
      "text/plain": [
       "True"
      ]
     },
     "execution_count": 53,
     "metadata": {},
     "output_type": "execute_result"
    }
   ],
   "source": [
    "webster = {1: 'x', 2: 'b'}\n",
    "merriam = webster\n",
    "webster[2] = 'a'\n",
    "dict_1 == dict_2"
   ]
  },
  {
   "cell_type": "code",
   "execution_count": 54,
   "metadata": {
    "collapsed": true
   },
   "outputs": [],
   "source": [
    "#This means that the dictionaries are immutable as they remain the same and were so at genesis."
   ]
  },
  {
   "cell_type": "markdown",
   "metadata": {},
   "source": [
    "Problem 3. Create a module called calculator.py. Write a function that\n",
    "returns the sum of two arguments, a function that returns the product of two\n",
    "arguments, and a function that returns the square root of a single argument.\n",
    "When the file is either run or imported, nothing should be executed.\n",
    "In your main solutions file, import your new calculator module. Using\n",
    "only the functions defined in the module, write a new function that calculates\n",
    "the length of the hypotenuse of a right triangle given the lengths of the other\n",
    "two sides."
   ]
  },
  {
   "cell_type": "code",
   "execution_count": 65,
   "metadata": {},
   "outputs": [
    {
     "name": "stdout",
     "output_type": "stream",
     "text": [
      "/Users/Alexandria/CompEcon_Fall17/PSets\n"
     ]
    }
   ],
   "source": [
    "cd \"/Users/Alexandria/CompEcon_Fall17/PSets\""
   ]
  },
  {
   "cell_type": "code",
   "execution_count": 67,
   "metadata": {
    "collapsed": true
   },
   "outputs": [],
   "source": [
    "import calculator as calc"
   ]
  },
  {
   "cell_type": "code",
   "execution_count": 68,
   "metadata": {
    "collapsed": true
   },
   "outputs": [],
   "source": [
    "#We now create the function that will suffer us to find the hypotenuse of a right triangle"
   ]
  },
  {
   "cell_type": "code",
   "execution_count": 71,
   "metadata": {
    "collapsed": true
   },
   "outputs": [],
   "source": [
    "def hype(val1, val2):\n",
    "    \"This calculator will find the hypotenuse from two legs\"\n",
    "    dont = multiply(val1, val1)\n",
    "    believe = multiply(val2, val2)\n",
    "    the = adding(dont, believe)\n",
    "    c = (the) ** (0.5)\n",
    "    return c"
   ]
  },
  {
   "cell_type": "code",
   "execution_count": 72,
   "metadata": {},
   "outputs": [
    {
     "data": {
      "text/plain": [
       "5.0"
      ]
     },
     "execution_count": 72,
     "metadata": {},
     "output_type": "execute_result"
    }
   ],
   "source": [
    "hype(3, 4)"
   ]
  },
  {
   "cell_type": "markdown",
   "metadata": {},
   "source": [
    "We now move on to Question 2"
   ]
  },
  {
   "cell_type": "markdown",
   "metadata": {},
   "source": [
    "Problem 1. NumPy’s dot() function performs matrix multiplication. Write\n",
    "a function that defines the following matrices as NumPy arrays."
   ]
  },
  {
   "cell_type": "markdown",
   "metadata": {},
   "source": [
    "\n",
    "$$\n",
    "A = \\begin{bmatrix} \n",
    "3 & -1 & 4 \\\\ 1 & 5 & -9 \\\\ \n",
    "\\end{bmatrix} \n",
    "$$\n",
    "\n",
    "$$\n",
    "B = \\begin{bmatrix}\n",
    "2 & 6 & -5 & 3 \\\\\n",
    "5 & -8 & 9 & 7 \\\\\n",
    "9 & -3 & -2 & -3 \\\\\n",
    "\\end{bmatrix}\n",
    "$$\n",
    "Return the matrix product AB. NumPy has excellent documentation. For examples of array initialization and matrix multiplication, use IPython’s object introspection feature to look up the documentation for np.ndarray, np.array() and np.dot()"
   ]
  },
  {
   "cell_type": "code",
   "execution_count": 80,
   "metadata": {},
   "outputs": [
    {
     "name": "stdout",
     "output_type": "stream",
     "text": [
      "\u001b[H\u001b[2J"
     ]
    }
   ],
   "source": [
    "clear"
   ]
  },
  {
   "cell_type": "code",
   "execution_count": 81,
   "metadata": {
    "collapsed": true
   },
   "outputs": [],
   "source": [
    "import numpy as num"
   ]
  },
  {
   "cell_type": "code",
   "execution_count": 98,
   "metadata": {
    "collapsed": true
   },
   "outputs": [],
   "source": [
    "def dproduct(A, B):\n",
    "    \"THIS IS Matrix Multiplication with the above matrices\"\n",
    "    A = num.array([[1,-3, 4], [1, 5, -9]])\n",
    "    B = num.array([[2, 6, -5, 3], [5, 8, 9, 7], [9, -3, -2, -3]])\n",
    "    AB = num.dot(A, B)\n",
    "    return AB"
   ]
  },
  {
   "cell_type": "code",
   "execution_count": 99,
   "metadata": {},
   "outputs": [
    {
     "data": {
      "text/plain": [
       "array([[ 23, -30, -40, -30],\n",
       "       [-54,  73,  58,  65]])"
      ]
     },
     "execution_count": 99,
     "metadata": {},
     "output_type": "execute_result"
    }
   ],
   "source": [
    "dproduct(A, B)"
   ]
  },
  {
   "cell_type": "markdown",
   "metadata": {},
   "source": [
    "Problem 2. Write a function that defines the following matrix as a NumPy\n",
    "array.\n",
    "$$\n",
    "A = \\begin{bmatrix} \n",
    "3 & 1 & 4 \\\\ \n",
    "1 & 5 & 9 \\\\\n",
    "-5 & 3 & 1 \\\\\n",
    "\\end{bmatrix} \n",
    "$$\n",
    "Return the matrix  $-A^3 + 9A^2  - 15A$.\n",
    "In this context, $A^2 = AA$ (the matrix product). The somewhat surprising\n",
    "result is a demonstration of the Cayley-Hamilton theorem."
   ]
  },
  {
   "cell_type": "code",
   "execution_count": 23,
   "metadata": {
    "collapsed": true
   },
   "outputs": [],
   "source": [
    "def CayHam():\n",
    "    \"This reproduces a result of the Cayley-Hamilton Theorem\"\n",
    "    A = num.array([[3, 1, 4], [1, 5, 9], [-5, 3, 1]])\n",
    "    A2 = num.dot(A, A)\n",
    "    A3 = num.dot(A2, A)\n",
    "    final = (-1 * (A3)) + (9 * (A2)) - (15 * A)\n",
    "    return final"
   ]
  },
  {
   "cell_type": "code",
   "execution_count": 24,
   "metadata": {},
   "outputs": [
    {
     "data": {
      "text/plain": [
       "array([[0, 0, 0],\n",
       "       [0, 0, 0],\n",
       "       [0, 0, 0]])"
      ]
     },
     "execution_count": 24,
     "metadata": {},
     "output_type": "execute_result"
    }
   ],
   "source": [
    "CayHam()\n"
   ]
  },
  {
   "cell_type": "markdown",
   "metadata": {},
   "source": [
    "Problem 5. Write a function that defines the following matrices as NumPy\n",
    "arrays.\n",
    "$$\n",
    "A = \\begin{bmatrix} \n",
    "0 & 2 & 4 \\\\ \n",
    "1 & 3 & 5 \\\\ \n",
    "\\end{bmatrix} \n",
    "$$\n",
    "\n",
    "----------------------\n",
    "\n",
    "$$\n",
    "B = \\begin{bmatrix} \n",
    "3 & 0 & 0 \\\\ \n",
    "3 & 3 & 0 \\\\\n",
    "3 & 3 & 3 \\\\\n",
    "\\end{bmatrix} \n",
    "$$\n",
    "\n",
    "----------------------\n",
    "\n",
    "$$\n",
    "C = \\begin{bmatrix} \n",
    "-2 & 0 & 0 \\\\ \n",
    "0 & -2 & 0 \\\\\n",
    "0 & 0 & -2 \\\\\n",
    "\\end{bmatrix} \n",
    "$$\n",
    "----------------------\n",
    "\n",
    "Use NumPy’s stacking functions to create and return the block matrix:\n",
    "\n",
    "$$\n",
    "\\begin{bmatrix} \n",
    "0 & A^T & I \\\\ \n",
    "A & 0 & 0 \\\\\n",
    "B & 0 & C \\\\\n",
    "\\end{bmatrix} \n",
    "$$\n",
    "\n",
    "where I is the identity matrix of the appropriate size and each 0 is a matrix\n",
    "of all zeros, also of appropriate sizes.\n",
    "A block matrix of this form is used in the Interior Point method for linear\n",
    "optimization."
   ]
  },
  {
   "cell_type": "code",
   "execution_count": 5,
   "metadata": {
    "collapsed": true
   },
   "outputs": [],
   "source": [
    "import numpy as num\n",
    "def bigmat():\n",
    "    \"This creates a big matrix out of all the following small matrices\"\n",
    "    A = num.array([[0, 2, 4], [1, 3, 5]])\n",
    "    B = num.array([[3, 0, 0], [3, 3, 0], [3, 3, 3]])\n",
    "    C = num.array([[-2, 0, 0], [0, -2, 0], [0, 0, -2]])\n",
    "    mat1 = num.hstack((num.zeros((3,3)), A.T, num.eye(3)))\n",
    "    mat2 = num.hstack((A, num.zeros((2,2)), num.zeros((2, 3))))\n",
    "    mat3 = num.hstack((B, num.zeros((3, 2)), C))\n",
    "    bmat = num.vstack ((mat1, mat2, mat3))\n",
    "    return bmat"
   ]
  },
  {
   "cell_type": "code",
   "execution_count": 6,
   "metadata": {},
   "outputs": [
    {
     "data": {
      "text/plain": [
       "array([[ 0.,  0.,  0.,  0.,  1.,  1.,  0.,  0.],\n",
       "       [ 0.,  0.,  0.,  2.,  3.,  0.,  1.,  0.],\n",
       "       [ 0.,  0.,  0.,  4.,  5.,  0.,  0.,  1.],\n",
       "       [ 0.,  2.,  4.,  0.,  0.,  0.,  0.,  0.],\n",
       "       [ 1.,  3.,  5.,  0.,  0.,  0.,  0.,  0.],\n",
       "       [ 3.,  0.,  0.,  0.,  0., -2.,  0.,  0.],\n",
       "       [ 3.,  3.,  0.,  0.,  0.,  0., -2.,  0.],\n",
       "       [ 3.,  3.,  3.,  0.,  0.,  0.,  0., -2.]])"
      ]
     },
     "execution_count": 6,
     "metadata": {},
     "output_type": "execute_result"
    }
   ],
   "source": [
    "bigmat()"
   ]
  },
  {
   "cell_type": "markdown",
   "metadata": {
    "collapsed": true
   },
   "source": [
    "Problem 1. Expand the Backpack class to match the following specifications.\n",
    "1. Modify the constructor so that it accepts a name, a color, and a maximum\n",
    "size (in that order). Make max_size a default argument with\n",
    "default value 5. Store each input as an attribute.\n",
    "2. Modify the put() method to ensure that the backpack does not go over\n",
    "capacity. If the user tries to put in more than max_size items, print “No\n",
    "Room!” and do not add the item to the contents list.\n",
    "3. Add a new method called dump() that resets the contents of the backpack\n",
    "to an empty list. This method should not receive any arguments\n",
    "(except self).\n",
    "To ensure that your class works properly, consider writing a test function\n",
    "outside outside of the Backpack class that instantiates and analyzes a Backpack\n",
    "object. Your function may look something like this:"
   ]
  },
  {
   "cell_type": "code",
   "execution_count": 2,
   "metadata": {},
   "outputs": [],
   "source": [
    "class Backpack(object):\n",
    "    \"\"\"A Backpack object class. Has a name and a list of contents.\n",
    "    Attributes:\n",
    "    name (str): the name of the backpack's owner.\n",
    "    contents (list): the contents of the backpack.\n",
    "    \"\"\"\n",
    "    def __init__(self, name, color, max_size = 5): # This function is the constructor.\n",
    "        \"\"\"Set the name and initialize an empty contents list.\n",
    "        Inputs:\n",
    "        name (str): the name of the backpack's owner.\n",
    "        Returns:\n",
    "        A Backpack object wth no contents.\n",
    "        \"\"\"\n",
    "        self.name = name # Initialize some attributes.\n",
    "        self.color = color\n",
    "        self.max_size = max_size\n",
    "        self.contents = []\n",
    "\n",
    "    def put(self, item):\n",
    "        \"\"\"Add 'item' to the backpack's list of contents.\"\"\"\n",
    "        if len(self.contents) < self.max_size:\n",
    "            self.contents.append(item)\n",
    "        if len(self.contents) >= self.max_size:\n",
    "            print(\"No More Room!\")\n",
    "            \n",
    "    def dump(self):\n",
    "        self.contents = []"
   ]
  },
  {
   "cell_type": "code",
   "execution_count": 26,
   "metadata": {},
   "outputs": [],
   "source": [
    "pack = Backpack(\"Zannah\", \"Black\")"
   ]
  },
  {
   "cell_type": "code",
   "execution_count": 28,
   "metadata": {},
   "outputs": [],
   "source": [
    "pack.put(\"Jedi Holocron\")"
   ]
  },
  {
   "cell_type": "code",
   "execution_count": 29,
   "metadata": {},
   "outputs": [
    {
     "name": "stdout",
     "output_type": "stream",
     "text": [
      "No More Room!\n"
     ]
    }
   ],
   "source": [
    "pack.put(\"Bane's Lightsaber\")\n",
    "pack.put(\"Telos Holocron\")\n",
    "pack.put(\"Sith Amulet\")\n",
    "pack.put(\"Naga Sadow's Battle Sword\")"
   ]
  },
  {
   "cell_type": "code",
   "execution_count": 30,
   "metadata": {},
   "outputs": [
    {
     "data": {
      "text/plain": [
       "['Jedi Holocron',\n",
       " \"Bane's Lightsaber\",\n",
       " 'Telos Holocron',\n",
       " 'Sith Amulet',\n",
       " \"Naga Sadow's Battle Sword\"]"
      ]
     },
     "execution_count": 30,
     "metadata": {},
     "output_type": "execute_result"
    }
   ],
   "source": [
    "pack.contents"
   ]
  },
  {
   "cell_type": "code",
   "execution_count": 32,
   "metadata": {},
   "outputs": [],
   "source": [
    "pack.dump()"
   ]
  },
  {
   "cell_type": "code",
   "execution_count": 33,
   "metadata": {},
   "outputs": [
    {
     "data": {
      "text/plain": [
       "[]"
      ]
     },
     "execution_count": 33,
     "metadata": {},
     "output_type": "execute_result"
    }
   ],
   "source": [
    "pack.contents"
   ]
  },
  {
   "cell_type": "markdown",
   "metadata": {},
   "source": [
    "Problem 2. Create a Jetpack class that inherits from the Backpack class.\n",
    "1. Overwrite the constructor so that in addition to a name, color, and\n",
    "maximum size, it also accepts an amount of fuel. Change the default\n",
    "value of max_size to 2, and set the default value of fuel to 10. Store the\n",
    "fuel as an attribute.\n",
    "2. Add a fly() method that accepts an amount of fuel to be burned and\n",
    "decrements the fuel attribute by that amount. If the user tries to burn\n",
    "more fuel than remains, print “Not enough fuel!” and do not decrement\n",
    "the fuel.\n",
    "3. Overwrite the dump() method so that both the contents and the fuel\n",
    "tank are emptied."
   ]
  },
  {
   "cell_type": "code",
   "execution_count": 71,
   "metadata": {},
   "outputs": [],
   "source": [
    "class Jetpack(Backpack):\n",
    "    \"Subclass of Backpack\"\n",
    "    def __init__(self, name, color, max_size = 2, fuel = 10): \n",
    "        \"\"\"Set the name and initialize an empty contents list.\n",
    "        Inputs:\n",
    "        name (str): the name of the backpack's owner.\n",
    "        Returns:\n",
    "        A Backpack object wth no contents.\n",
    "        \"\"\"\n",
    "        self.name = name # Initialize some attributes.\n",
    "        self.color = color\n",
    "        self.max_size = max_size\n",
    "        self.contents = []\n",
    "        self.fuel = fuel\n",
    "    def fly(self, dist):\n",
    "        \"When the user uses the jetpack for locomotion\"\n",
    "        if dist < self.fuel:\n",
    "            self.fuel = self.fuel - dist\n",
    "            print(dist, self.fuel)\n",
    "        else:\n",
    "            print(\"Not enough fuel!\")\n",
    "            \n",
    "    def dump(self):\n",
    "        self.contents = []\n",
    "        self.fuel = []\n",
    "    \n",
    "    def refuel(self):\n",
    "        self.fuel = 10"
   ]
  },
  {
   "cell_type": "code",
   "execution_count": 72,
   "metadata": {
    "collapsed": true
   },
   "outputs": [],
   "source": [
    "jpack = Jetpack(\"Boba Fet\", \"Silver\")"
   ]
  },
  {
   "cell_type": "code",
   "execution_count": 73,
   "metadata": {},
   "outputs": [
    {
     "data": {
      "text/plain": [
       "10"
      ]
     },
     "execution_count": 73,
     "metadata": {},
     "output_type": "execute_result"
    }
   ],
   "source": [
    "jpack.fuel"
   ]
  },
  {
   "cell_type": "code",
   "execution_count": 74,
   "metadata": {},
   "outputs": [
    {
     "name": "stdout",
     "output_type": "stream",
     "text": [
      "7 3\n"
     ]
    }
   ],
   "source": [
    "jpack.fly(7)"
   ]
  },
  {
   "cell_type": "code",
   "execution_count": 75,
   "metadata": {},
   "outputs": [
    {
     "name": "stdout",
     "output_type": "stream",
     "text": [
      "Not enough fuel!\n"
     ]
    }
   ],
   "source": [
    "jpack.fly(4)"
   ]
  },
  {
   "cell_type": "code",
   "execution_count": 76,
   "metadata": {},
   "outputs": [],
   "source": [
    "jpack.dump()"
   ]
  },
  {
   "cell_type": "code",
   "execution_count": 78,
   "metadata": {},
   "outputs": [
    {
     "data": {
      "text/plain": [
       "[]"
      ]
     },
     "execution_count": 78,
     "metadata": {},
     "output_type": "execute_result"
    }
   ],
   "source": [
    "jpack.contents"
   ]
  },
  {
   "cell_type": "code",
   "execution_count": 79,
   "metadata": {},
   "outputs": [
    {
     "data": {
      "text/plain": [
       "[]"
      ]
     },
     "execution_count": 79,
     "metadata": {},
     "output_type": "execute_result"
    }
   ],
   "source": [
    "jpack.fuel"
   ]
  },
  {
   "cell_type": "code",
   "execution_count": null,
   "metadata": {
    "collapsed": true
   },
   "outputs": [],
   "source": []
  }
 ],
 "metadata": {
  "kernelspec": {
   "display_name": "Python 3",
   "language": "python",
   "name": "python3"
  },
  "language_info": {
   "codemirror_mode": {
    "name": "ipython",
    "version": 3
   },
   "file_extension": ".py",
   "mimetype": "text/x-python",
   "name": "python",
   "nbconvert_exporter": "python",
   "pygments_lexer": "ipython3",
   "version": "3.6.1"
  }
 },
 "nbformat": 4,
 "nbformat_minor": 2
}
