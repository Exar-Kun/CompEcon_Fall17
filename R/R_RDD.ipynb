{
 "cells": [
  {
   "cell_type": "markdown",
   "metadata": {},
   "source": [
    "# Implementing Regression Discontinuity Design in R\n",
    "### by [Jason DeBacker](http://jasondebacker.com), October 2017\n",
    "\n",
    "This notebook provides an example of an regression discontinuity design in R.  With this example, the notebook will show some of the plotting capabilties of the `ggplot` library for R.\n",
    "\n",
    "## Example: Lee (*Journal of Econometrics*, 2008)\n",
    "\n",
    "[Lee (2008)](https://www.princeton.edu/~davidlee/wp/RDrand.pdf) seeks to answer an empirical question - how big is the incumbency advantage in the U.S. House? - and provide a methodological contribution - can we use regression discontinuity design to identify causal effects if the running variable is endogenous?\n",
    "\n",
    "Economists and political scientists have studied the incumbency advantage for decades.  The main empirical challenge here is obvious: incumbents are from a selected sample - they were elected to office in the first place!  So simply looking at the rate at which incumbents win elections doesn't tell you anything about the causal impact of incumbency on elections.  Rather, it could just be evidence that good candidates do better than poorer candidates.  There have been a number of interesting approaches to tackle this problem, including [Levitt (*Journal of Political Economy*, 1994)](http://pricetheory.uchicago.edu/levitt/Papers/LevittUsingRepeatChallengers1994.pdf) who uses elections where the challenging candidate is the same.\n",
    "\n",
    "Lee's important idea: let's look at close elections.  These could have gone either way, so the candidates who were running were of similar quality, but one just one.  And that narrow victor of the election at time $t$ now has the advantage of incumbency at $t+1$.  So we should be able to identify the incumbency advantage by looking at how candidates who narrowly won the election at time $t$ perform at time $t+1$.  More specifically, Lee (2008) looks at the incumbency advantage accruing to the party (and not to a specific candidate).  But the idea is the same (and in fact, since most incumbents run again, the effects on the party and the individual and quantitatively similar as well).\n",
    "\n",
    "We'll replicate Lee's analysis here.  To begin, I've downloaded the Election Table data from the the ICPSR's [Database of United States Congressional Historical Statistics](http://www.icpsr.umich.edu/icpsrweb/ICPSR/studies/3371?q=congressional+election) as a Stata datafile, renamed `Election_Data.dta` and placed it in `./data/`.\n",
    "\n",
    "With these data we won't have all the elections considered by Lee (2008) and so won't be able to replicate his analysis exactly, but these are close enough.\n",
    "\n",
    "We'll need to do a bit of cleaning to these data.  Let's load the libraries we neeed and do the cleaning first.\n",
    "\n",
    "### Cleaning data"
   ]
  },
  {
   "cell_type": "code",
<<<<<<< HEAD
   "execution_count": 15,
=======
   "execution_count": 1,
>>>>>>> upstream/master
   "metadata": {},
   "outputs": [
    {
     "name": "stderr",
     "output_type": "stream",
     "text": [
<<<<<<< HEAD
      "Loading required package: data.table\n",
      "Warning message in library(package, lib.loc = lib.loc, character.only = TRUE, logical.return = TRUE, :\n",
      "“there is no package called ‘data.table’”Loading required package: DataCombine\n",
      "Error: package or namespace load failed for ‘DataCombine’ in loadNamespace(i, c(lib.loc, .libPaths()), versionCheck = vI[[i]]):\n",
      " there is no package called ‘data.table’\n",
      "Loading required package: Hmisc\n",
      "Error: package or namespace load failed for ‘Hmisc’ in loadNamespace(j <- i[[1L]], c(lib.loc, .libPaths()), versionCheck = vI[[j]]):\n",
      " there is no package called ‘data.table’\n"
=======
      "Loading required package: haven\n",
      "Loading required package: dplyr\n",
      "Warning message:\n",
      "“package ‘dplyr’ was built under R version 3.4.2”\n",
      "Attaching package: ‘dplyr’\n",
      "\n",
      "The following objects are masked from ‘package:stats’:\n",
      "\n",
      "    filter, lag\n",
      "\n",
      "The following objects are masked from ‘package:base’:\n",
      "\n",
      "    intersect, setdiff, setequal, union\n",
      "\n",
      "Loading required package: reshape2\n",
      "Loading required package: data.table\n",
      "Warning message:\n",
      "“package ‘data.table’ was built under R version 3.4.2”\n",
      "Attaching package: ‘data.table’\n",
      "\n",
      "The following objects are masked from ‘package:reshape2’:\n",
      "\n",
      "    dcast, melt\n",
      "\n",
      "The following objects are masked from ‘package:dplyr’:\n",
      "\n",
      "    between, first, last\n",
      "\n",
      "Loading required package: DataCombine\n",
      "\n",
      "Attaching package: ‘DataCombine’\n",
      "\n",
      "The following object is masked from ‘package:data.table’:\n",
      "\n",
      "    shift\n",
      "\n",
      "Loading required package: Hmisc\n",
      "Loading required package: lattice\n",
      "Loading required package: survival\n",
      "Loading required package: Formula\n",
      "Loading required package: ggplot2\n",
      "\n",
      "Attaching package: ‘Hmisc’\n",
      "\n",
      "The following objects are masked from ‘package:dplyr’:\n",
      "\n",
      "    combine, src, summarize\n",
      "\n",
      "The following objects are masked from ‘package:base’:\n",
      "\n",
      "    format.pval, round.POSIXt, trunc.POSIXt, units\n",
      "\n",
      "Loading required package: rdd\n",
      "Loading required package: sandwich\n",
      "Loading required package: lmtest\n",
      "Loading required package: zoo\n",
      "\n",
      "Attaching package: ‘zoo’\n",
      "\n",
      "The following objects are masked from ‘package:base’:\n",
      "\n",
      "    as.Date, as.Date.numeric\n",
      "\n",
      "Loading required package: AER\n",
      "Loading required package: car\n",
      "\n",
      "Attaching package: ‘car’\n",
      "\n",
      "The following object is masked from ‘package:dplyr’:\n",
      "\n",
      "    recode\n",
      "\n"
>>>>>>> upstream/master
     ]
    },
    {
     "data": {
      "text/html": [
       "<ol>\n",
       "\t<li>TRUE</li>\n",
       "\t<li>TRUE</li>\n",
       "\t<li>TRUE</li>\n",
       "\t<li>FALSE</li>\n",
       "\t<li>FALSE</li>\n",
       "\t<li>FALSE</li>\n",
       "\t<li>TRUE</li>\n",
       "\t<li>TRUE</li>\n",
       "</ol>\n"
      ],
      "text/latex": [
       "\\begin{enumerate}\n",
       "\\item TRUE\n",
       "\\item TRUE\n",
       "\\item TRUE\n",
       "\\item FALSE\n",
       "\\item FALSE\n",
       "\\item FALSE\n",
       "\\item TRUE\n",
       "\\item TRUE\n",
       "\\end{enumerate}\n"
      ],
      "text/markdown": [
       "1. TRUE\n",
       "2. TRUE\n",
       "3. TRUE\n",
       "4. FALSE\n",
       "5. FALSE\n",
       "6. FALSE\n",
       "7. TRUE\n",
       "8. TRUE\n",
       "\n",
       "\n"
      ],
      "text/plain": [
       "[[1]]\n",
       "[1] TRUE\n",
       "\n",
       "[[2]]\n",
       "[1] TRUE\n",
       "\n",
       "[[3]]\n",
       "[1] TRUE\n",
       "\n",
       "[[4]]\n",
       "[1] FALSE\n",
       "\n",
       "[[5]]\n",
       "[1] FALSE\n",
       "\n",
       "[[6]]\n",
       "[1] FALSE\n",
       "\n",
       "[[7]]\n",
       "[1] TRUE\n",
       "\n",
       "[[8]]\n",
       "[1] TRUE\n"
      ]
     },
     "metadata": {},
     "output_type": "display_data"
    }
   ],
   "source": [
    "# install packages we'll use - if not already installed\n",
    "# install.packages(c(\"haven\", \"dplyr\", \"reshape2\", \"data.table\",\n",
    "#                    \"DataCombine\", \"Hmisc\", \"rdd\", \"ggplot2\"))\n",
    "# Import libaries used in this notebook\n",
    "x <- c(\"haven\", \"dplyr\", \"reshape2\", \"data.table\", \"DataCombine\",\n",
    "       \"Hmisc\", \"rdd\", \"ggplot2\")\n",
    "lapply(x, FUN = function(X) {\n",
    "    do.call(\"require\", list(X)) \n",
    "})"
   ]
  },
  {
   "cell_type": "code",
<<<<<<< HEAD
   "execution_count": 16,
=======
   "execution_count": 3,
>>>>>>> upstream/master
   "metadata": {
    "collapsed": true
   },
   "outputs": [],
   "source": [
    "# read in data from ./data/Election_Data.dta\n",
    "df <- read_dta(\"./data/Election_Data.dta\")\n",
    "# make all variable names lower case\n",
    "df <- setNames(df, tolower(names(df)))\n",
    "\n",
    "# clean election data\n",
    "# keep only years 1946+ and House general elections\n",
    "elec_data <- subset(df, year >= 1946 & electype == \"G\" & office == 3)\n",
    "# keep only columns will use\n",
    "elec_data <- elec_data[,c(\"cand_id\",\"year\",\"congress\", \"state\", \"district\", \"candpct\", \"party\", \"outcome\", \"incumb\")]"
   ]
  },
  {
   "cell_type": "markdown",
   "metadata": {},
   "source": [
    "### Setup data for analysis\n",
    "\n",
    "Create dataset on candidates:\n",
    "1. Number of election wins prior to year t\n",
    "2. Number of elections campaigned in prior to year t"
   ]
  },
  {
   "cell_type": "code",
<<<<<<< HEAD
   "execution_count": 17,
=======
   "execution_count": 4,
>>>>>>> upstream/master
   "metadata": {
    "collapsed": true
   },
   "outputs": [],
   "source": [
    "# sort by year\n",
    "df <- df[order(df$year),]\n",
    "# create indicator if ran in election\n",
    "df[\"ran_for_office\"] <- 1\n",
    "# create electoral experience by summing previous times ran for office\n",
    "cand_data <- mutate(group_by(df,cand_id), elec_experience=cumsum(ran_for_office) - 1) # minus 1 so don't count current election\n",
    "# create political experience by number of general elections previously won\n",
    "# Note: we'll just count congress since in these data - if doing this for real might want to include state offices\n",
    "# create political experience by finding number of wins at time t\n",
    "cand_data <- subset(cand_data, electype == \"G\") # wins only in general elections\n",
    "cand_data <- cand_data[order(cand_data$year),]\n",
    "cand_data <- mutate(group_by(cand_data,cand_id), pol_experience=cumsum(outcome))\n",
    "cand_data[\"pol_experience\"] <- cand_data[\"pol_experience\"] - cand_data[\"outcome\"] # so don't count current election outcome\n",
    "# keep only columns of interest\n",
    "cand_data <- cand_data[,c(\"cand_id\",\"year\",\"elec_experience\", \"pol_experience\")]"
   ]
  },
  {
   "cell_type": "markdown",
   "metadata": {},
   "source": [
    "Finally, get candidate and election characteristics together and get in shape for RD.  We want something with one row per election (not per candidate)."
   ]
  },
  {
   "cell_type": "code",
<<<<<<< HEAD
   "execution_count": 18,
=======
   "execution_count": 16,
>>>>>>> upstream/master
   "metadata": {},
   "outputs": [
    {
     "ename": "ERROR",
     "evalue": "Error in setDT(rd_data): could not find function \"setDT\"\n",
     "output_type": "error",
     "traceback": [
      "Error in setDT(rd_data): could not find function \"setDT\"\nTraceback:\n",
      "1. as.data.frame(dcast(setDT(rd_data), congress + year + state + \n .     district ~ ranking, value.var = c(\"candpct\", \"party\", \"outcome\", \n .     \"incumb\", \"elec_experience\", \"pol_experience\")))",
      "2. dcast(setDT(rd_data), congress + year + state + district ~ ranking, \n .     value.var = c(\"candpct\", \"party\", \"outcome\", \"incumb\", \"elec_experience\", \n .         \"pol_experience\"))",
      "3. cast(data, formula, fun.aggregate, ..., subset = subset, fill = fill, \n .     drop = drop, value.var = value.var)",
      "4. value.var %in% names(data)"
     ]
    }
   ],
   "source": [
    "# merge new candidate data to elections data\n",
    "rd_data <- merge(elec_data, cand_data, by.x=c(\"cand_id\", \"year\"), by.y=c(\"cand_id\", \"year\"), all=FALSE)\n",
    "\n",
    "# rank by percent of vote share (with in each race)\n",
    "rd_data <- mutate(group_by(rd_data, .dots=c(\"congress\",\"state\",\"district\")),\n",
    "                  ranking=rank(-candpct, ties.method = 'first'))\n",
    "\n",
    "# keep only top 2 per race\n",
    "rd_data <- subset(rd_data, ranking < 3)\n",
    "\n",
    "# drop cand_id\n",
    "rd_data <- subset(rd_data, select = -c(cand_id))\n",
    "\n",
    "# reshape data to wide - so one row per race\n",
    "rd_wide <- as.data.frame(dcast(setDT(rd_data), congress + year + state + district ~ ranking,\n",
    "                               value.var = c(\"candpct\", \"party\", \"outcome\", \"incumb\",\n",
    "                                             \"elec_experience\", \"pol_experience\")))\n",
    "\n",
    "# create variables for democratic winner and democratic vote share\n",
    "rd_wide$dem_win <- ifelse((rd_wide$party_1 == 100) & (rd_wide$outcome_1 == 1), 1, 0)\n",
    "rd_wide$dem_share <- ifelse((rd_wide$party_1 == 100), rd_wide$candpct_1,\n",
    "                            ifelse(rd_wide$party_2 == 100, rd_wide$candpct_2, 0))\n",
    "\n",
    "# Create variable for Democratic margin of victory.  This will be running variable in RDD\n",
    "# set to missing if dem if isn't one of two parties in top 2\n",
    "rd_wide$margin <- ifelse((rd_wide$party_1 == 100), rd_wide$candpct_1 - rd_wide$candpct_2,\n",
    "                         ifelse(rd_wide$party_2 == 100, rd_wide$candpct_2 - rd_wide$candpct_1, NA))\n",
    "\n",
    "# Create variables for Democratic candidate experience\n",
    "rd_wide$dem_elec_exp <- ifelse((rd_wide$party_1 == 100), rd_wide$elec_experience_1,\n",
    "                         ifelse(rd_wide$party_2 == 100, rd_wide$elec_experience_2, NA))\n",
    "rd_wide$dem_pol_exp <- ifelse((rd_wide$party_1 == 100), rd_wide$pol_experience_1,\n",
    "                         ifelse(rd_wide$party_2 == 100, rd_wide$pol_experience_2, NA))\n",
    "\n",
    "# drop obs with missing values for margin\n",
    "rd_wide <- rd_wide[!(is.na(rd_wide$margin) | rd_wide$margin==\"\"), ]\n",
    "# drop those where margin is 0, but candidate shares are above 51 pct\n",
    "# I don't know what such a case could be but there are about 400 in the data\n",
    "rd_wide <- rd_wide[!(rd_wide$margin==0 & rd_wide$candpct_1 > 51), ]\n",
    "\n",
    "# Create leads and lags of vote share and wins\n",
    "rd_wide <- rd_wide[with(rd_wide, order(state, district, congress)), ]\n",
    "# create leads for dem win and dem vote share\n",
    "rd_wide <- slide(rd_wide, Var = \"dem_win\",  NewVar = 'dem_win_p1', GroupVar = c(\"state\", \"district\"),\n",
    "                    slideBy = 1)\n",
    "rd_wide <- slide(rd_wide, Var = \"dem_share\", NewVar = 'dem_share_p1', GroupVar = c(\"state\", \"district\"),\n",
    "                    slideBy = 1)\n",
    "rd_wide <- slide(rd_wide, Var = \"dem_win\", NewVar = 'dem_win_m1', GroupVar = c(\"state\", \"district\"),\n",
    "                    slideBy = -1)\n",
    "rd_wide <- slide(rd_wide, Var = \"dem_share\", NewVar = 'dem_share_m1', GroupVar = c(\"state\", \"district\"),\n",
    "                    slideBy = -1)\n",
    "rd_wide <- rd_wide[with(rd_wide, order(state, district, congress)), ]\n",
    "\n",
    "# drop if missing values for leads (e.g. if year > 1986)\n",
    "rd_wide <- subset(rd_wide, year < 1987)"
   ]
  },
  {
   "cell_type": "markdown",
   "metadata": {},
   "source": [
    "Now our data is all in order and ready for analysis.  \n",
    "\n",
    "Regression discontinuity design is an approach that is well represented with visuals.  So before we even discuss the econometics, let's just take a look at the data to see if we notice anything near those close elections.\n",
    "\n",
    "We have a few thousand election in our dataset, so just plotting the results of all of them will be a bit noisy.  Instead, we'll group our data into bins based on the margin of victory for the Democrat candidate in the election at time $t$.  We can then compute the probability that a Democrat wins the district at time $t+1$ and the vote share of the Democrat candidate at time $t+1$ for each of these bins.\n",
    "\n",
    "In the block of code that follows, we create bins for every 2 percentage points of the margin of victory for the Democrat at time $t$ and then compute means for several variables within these groups.  We put these \"bin-level\" observations in a new data frame called `binned_data`. "
   ]
  },
  {
   "cell_type": "code",
<<<<<<< HEAD
   "execution_count": 19,
   "metadata": {},
   "outputs": [
    {
     "ename": "ERROR",
     "evalue": "Error in cut2(rd_wide$margin, cuts = seq(-100, 100, by = 2)): could not find function \"cut2\"\n",
     "output_type": "error",
     "traceback": [
      "Error in cut2(rd_wide$margin, cuts = seq(-100, 100, by = 2)): could not find function \"cut2\"\nTraceback:\n"
     ]
=======
   "execution_count": 6,
   "metadata": {},
   "outputs": [
    {
     "data": {
      "text/html": [
       "<table>\n",
       "<thead><tr><th scope=col>margin_bin</th><th scope=col>mean_dem_p1</th><th scope=col>prob_dem_win_p1</th><th scope=col>mean_dem_m1</th><th scope=col>prob_dem_win_m1</th><th scope=col>mean_margin</th><th scope=col>mean_dem_elec_exp</th><th scope=col>mean_dem_pol_exp</th><th scope=col>gt0</th></tr></thead>\n",
       "<tbody>\n",
       "\t<tr><td> 2        </td><td>36.00000  </td><td>0.00000000</td><td>36.00000  </td><td>0.00000000</td><td>-100.00000</td><td>0.00000000</td><td>0         </td><td>FALSE     </td></tr>\n",
       "\t<tr><td> 9        </td><td>25.00000  </td><td>0.00000000</td><td>19.00000  </td><td>0.00000000</td><td> -85.00000</td><td>0.00000000</td><td>0         </td><td>FALSE     </td></tr>\n",
       "\t<tr><td>12        </td><td>68.00000  </td><td>0.50000000</td><td>37.50000  </td><td>0.50000000</td><td> -80.00000</td><td>0.00000000</td><td>0         </td><td>FALSE     </td></tr>\n",
       "\t<tr><td>13        </td><td>69.00000  </td><td>1.00000000</td><td>53.00000  </td><td>1.00000000</td><td> -77.00000</td><td>0.00000000</td><td>0         </td><td>FALSE     </td></tr>\n",
       "\t<tr><td>14        </td><td>21.00000  </td><td>0.00000000</td><td>13.00000  </td><td>0.00000000</td><td> -75.00000</td><td>0.00000000</td><td>0         </td><td>FALSE     </td></tr>\n",
       "\t<tr><td>15        </td><td>22.00000  </td><td>0.00000000</td><td>22.50000  </td><td>0.00000000</td><td> -74.00000</td><td>0.00000000</td><td>0         </td><td>FALSE     </td></tr>\n",
       "\t<tr><td>16        </td><td>13.00000  </td><td>0.00000000</td><td>16.00000  </td><td>0.00000000</td><td> -71.00000</td><td>0.00000000</td><td>0         </td><td>FALSE     </td></tr>\n",
       "\t<tr><td>17        </td><td>25.00000  </td><td>0.00000000</td><td>28.50000  </td><td>0.00000000</td><td> -70.00000</td><td>0.00000000</td><td>0         </td><td>FALSE     </td></tr>\n",
       "\t<tr><td>18        </td><td>21.50000  </td><td>0.00000000</td><td>20.50000  </td><td>0.00000000</td><td> -67.50000</td><td>0.00000000</td><td>0         </td><td>FALSE     </td></tr>\n",
       "\t<tr><td>19        </td><td>20.66667  </td><td>0.00000000</td><td>17.66667  </td><td>0.00000000</td><td> -66.00000</td><td>0.00000000</td><td>0         </td><td>FALSE     </td></tr>\n",
       "\t<tr><td>20        </td><td>29.66667  </td><td>0.00000000</td><td>29.00000  </td><td>0.00000000</td><td> -64.00000</td><td>0.00000000</td><td>0         </td><td>FALSE     </td></tr>\n",
       "\t<tr><td>21        </td><td>28.42857  </td><td>0.14285714</td><td>35.71429  </td><td>0.14285714</td><td> -61.71429</td><td>0.00000000</td><td>0         </td><td>FALSE     </td></tr>\n",
       "\t<tr><td>22        </td><td>28.81250  </td><td>0.00000000</td><td>39.06250  </td><td>0.12500000</td><td> -59.68750</td><td>0.06250000</td><td>0         </td><td>FALSE     </td></tr>\n",
       "\t<tr><td>23        </td><td>32.21053  </td><td>0.05263158</td><td>33.42105  </td><td>0.00000000</td><td> -57.84211</td><td>0.00000000</td><td>0         </td><td>FALSE     </td></tr>\n",
       "\t<tr><td>24        </td><td>30.29167  </td><td>0.08333333</td><td>31.79167  </td><td>0.04166667</td><td> -55.79167</td><td>0.00000000</td><td>0         </td><td>FALSE     </td></tr>\n",
       "\t<tr><td>25        </td><td>29.70833  </td><td>0.00000000</td><td>      NA  </td><td>        NA</td><td> -53.79167</td><td>0.04166667</td><td>0         </td><td>FALSE     </td></tr>\n",
       "\t<tr><td>26        </td><td>32.25000  </td><td>0.11111111</td><td>31.00000  </td><td>0.02777778</td><td> -51.72222</td><td>0.02777778</td><td>0         </td><td>FALSE     </td></tr>\n",
       "\t<tr><td>27        </td><td>33.30769  </td><td>0.07692308</td><td>35.69231  </td><td>0.12820513</td><td> -49.74359</td><td>0.00000000</td><td>0         </td><td>FALSE     </td></tr>\n",
       "\t<tr><td>28        </td><td>32.25424  </td><td>0.06779661</td><td>      NA  </td><td>        NA</td><td> -47.71186</td><td>0.03389831</td><td>0         </td><td>FALSE     </td></tr>\n",
       "\t<tr><td>29        </td><td>34.26923  </td><td>0.05128205</td><td>      NA  </td><td>        NA</td><td> -45.80769</td><td>0.05128205</td><td>0         </td><td>FALSE     </td></tr>\n",
       "\t<tr><td>30        </td><td>32.75385  </td><td>0.01538462</td><td>      NA  </td><td>        NA</td><td> -43.80000</td><td>0.01538462</td><td>0         </td><td>FALSE     </td></tr>\n",
       "\t<tr><td>31        </td><td>34.53012  </td><td>0.06024096</td><td>      NA  </td><td>        NA</td><td> -41.81928</td><td>0.06024096</td><td>0         </td><td>FALSE     </td></tr>\n",
       "\t<tr><td>32        </td><td>36.00000  </td><td>0.05714286</td><td>34.90000  </td><td>0.05714286</td><td> -39.80000</td><td>0.07142857</td><td>0         </td><td>FALSE     </td></tr>\n",
       "\t<tr><td>33        </td><td>35.34524  </td><td>0.07142857</td><td>38.84524  </td><td>0.08333333</td><td> -37.78571</td><td>0.05952381</td><td>0         </td><td>FALSE     </td></tr>\n",
       "\t<tr><td>34        </td><td>35.68224  </td><td>0.09345794</td><td>      NA  </td><td>        NA</td><td> -35.81308</td><td>0.03738318</td><td>0         </td><td>FALSE     </td></tr>\n",
       "\t<tr><td>35        </td><td>37.22535  </td><td>0.07746479</td><td>37.30986  </td><td>0.03521127</td><td> -33.83803</td><td>0.05633803</td><td>0         </td><td>FALSE     </td></tr>\n",
       "\t<tr><td>36        </td><td>36.91667  </td><td>0.10000000</td><td>37.52500  </td><td>0.06666667</td><td> -31.85833</td><td>0.05833333</td><td>0         </td><td>FALSE     </td></tr>\n",
       "\t<tr><td>37        </td><td>38.24667  </td><td>0.08666667</td><td>      NA  </td><td>        NA</td><td> -29.84667</td><td>0.06666667</td><td>0         </td><td>FALSE     </td></tr>\n",
       "\t<tr><td>38        </td><td>38.48175  </td><td>0.08029197</td><td>      NA  </td><td>        NA</td><td> -27.87591</td><td>0.03649635</td><td>0         </td><td>FALSE     </td></tr>\n",
       "\t<tr><td>39        </td><td>38.87730  </td><td>0.06748466</td><td>40.25767  </td><td>0.08588957</td><td> -25.82209</td><td>0.04294479</td><td>0         </td><td>FALSE     </td></tr>\n",
       "\t<tr><td>⋮</td><td>⋮</td><td>⋮</td><td>⋮</td><td>⋮</td><td>⋮</td><td>⋮</td><td>⋮</td><td>⋮</td></tr>\n",
       "\t<tr><td> 72        </td><td>68.75000   </td><td>0.9038462  </td><td>66.36538   </td><td>0.9615385  </td><td>40.15385   </td><td>0.000000000</td><td>0          </td><td>TRUE       </td></tr>\n",
       "\t<tr><td> 73        </td><td>67.85455   </td><td>0.9454545  </td><td>66.52727   </td><td>0.9636364  </td><td>42.19091   </td><td>0.000000000</td><td>0          </td><td>TRUE       </td></tr>\n",
       "\t<tr><td> 74        </td><td>70.32174   </td><td>0.9652174  </td><td>      NA   </td><td>       NA  </td><td>44.09565   </td><td>0.000000000</td><td>0          </td><td>TRUE       </td></tr>\n",
       "\t<tr><td> 75        </td><td>70.39535   </td><td>0.9534884  </td><td>69.03488   </td><td>0.9534884  </td><td>46.27907   </td><td>0.000000000</td><td>0          </td><td>TRUE       </td></tr>\n",
       "\t<tr><td> 76        </td><td>      NA   </td><td>       NA  </td><td>71.09434   </td><td>0.9622642  </td><td>48.17925   </td><td>0.009433962</td><td>0          </td><td>TRUE       </td></tr>\n",
       "\t<tr><td> 77        </td><td>73.82143   </td><td>0.9642857  </td><td>70.98810   </td><td>0.9523810  </td><td>50.04762   </td><td>0.000000000</td><td>0          </td><td>TRUE       </td></tr>\n",
       "\t<tr><td> 78        </td><td>75.87692   </td><td>1.0000000  </td><td>71.44615   </td><td>0.9846154  </td><td>52.23077   </td><td>0.000000000</td><td>0          </td><td>TRUE       </td></tr>\n",
       "\t<tr><td> 79        </td><td>74.20370   </td><td>0.9814815  </td><td>73.92593   </td><td>0.9814815  </td><td>54.22222   </td><td>0.000000000</td><td>0          </td><td>TRUE       </td></tr>\n",
       "\t<tr><td> 80        </td><td>76.51020   </td><td>0.9795918  </td><td>77.48980   </td><td>1.0000000  </td><td>56.20408   </td><td>0.000000000</td><td>0          </td><td>TRUE       </td></tr>\n",
       "\t<tr><td> 81        </td><td>72.21154   </td><td>0.8846154  </td><td>72.80769   </td><td>0.9807692  </td><td>58.19231   </td><td>0.000000000</td><td>0          </td><td>TRUE       </td></tr>\n",
       "\t<tr><td> 82        </td><td>76.20930   </td><td>0.9767442  </td><td>77.67442   </td><td>0.9767442  </td><td>60.13953   </td><td>0.000000000</td><td>0          </td><td>TRUE       </td></tr>\n",
       "\t<tr><td> 83        </td><td>78.33333   </td><td>0.9666667  </td><td>76.90000   </td><td>0.9333333  </td><td>62.20000   </td><td>0.000000000</td><td>0          </td><td>TRUE       </td></tr>\n",
       "\t<tr><td> 84        </td><td>73.86957   </td><td>0.8478261  </td><td>80.67391   </td><td>0.9782609  </td><td>64.19565   </td><td>0.000000000</td><td>0          </td><td>TRUE       </td></tr>\n",
       "\t<tr><td> 85        </td><td>77.00000   </td><td>0.9705882  </td><td>78.26471   </td><td>0.9411765  </td><td>66.29412   </td><td>0.000000000</td><td>0          </td><td>TRUE       </td></tr>\n",
       "\t<tr><td> 86        </td><td>79.22727   </td><td>0.9090909  </td><td>78.72727   </td><td>0.9545455  </td><td>68.09091   </td><td>0.000000000</td><td>0          </td><td>TRUE       </td></tr>\n",
       "\t<tr><td> 87        </td><td>80.25714   </td><td>0.9714286  </td><td>79.00000   </td><td>0.9714286  </td><td>70.11429   </td><td>0.028571429</td><td>0          </td><td>TRUE       </td></tr>\n",
       "\t<tr><td> 88        </td><td>78.83333   </td><td>0.9666667  </td><td>79.50000   </td><td>0.9333333  </td><td>72.13333   </td><td>0.000000000</td><td>0          </td><td>TRUE       </td></tr>\n",
       "\t<tr><td> 89        </td><td>81.36000   </td><td>0.9600000  </td><td>82.24000   </td><td>0.9600000  </td><td>74.24000   </td><td>0.000000000</td><td>0          </td><td>TRUE       </td></tr>\n",
       "\t<tr><td> 90        </td><td>81.14286   </td><td>0.9642857  </td><td>80.67857   </td><td>0.9642857  </td><td>76.21429   </td><td>0.000000000</td><td>0          </td><td>TRUE       </td></tr>\n",
       "\t<tr><td> 91        </td><td>82.65217   </td><td>1.0000000  </td><td>82.65217   </td><td>0.9130435  </td><td>78.26087   </td><td>0.000000000</td><td>0          </td><td>TRUE       </td></tr>\n",
       "\t<tr><td> 92        </td><td>74.26667   </td><td>0.9333333  </td><td>75.46667   </td><td>0.9333333  </td><td>80.13333   </td><td>0.000000000</td><td>0          </td><td>TRUE       </td></tr>\n",
       "\t<tr><td> 93        </td><td>78.38095   </td><td>1.0000000  </td><td>73.33333   </td><td>1.0000000  </td><td>82.23810   </td><td>0.000000000</td><td>0          </td><td>TRUE       </td></tr>\n",
       "\t<tr><td> 94        </td><td>81.00000   </td><td>1.0000000  </td><td>75.28571   </td><td>0.9523810  </td><td>84.28571   </td><td>0.000000000</td><td>0          </td><td>TRUE       </td></tr>\n",
       "\t<tr><td> 95        </td><td>83.07143   </td><td>0.9285714  </td><td>84.57143   </td><td>1.0000000  </td><td>86.00000   </td><td>0.000000000</td><td>0          </td><td>TRUE       </td></tr>\n",
       "\t<tr><td> 96        </td><td>77.03846   </td><td>0.9615385  </td><td>83.26923   </td><td>1.0000000  </td><td>88.03846   </td><td>0.000000000</td><td>0          </td><td>TRUE       </td></tr>\n",
       "\t<tr><td> 97        </td><td>76.69231   </td><td>0.9230769  </td><td>81.46154   </td><td>1.0000000  </td><td>90.00000   </td><td>0.000000000</td><td>0          </td><td>TRUE       </td></tr>\n",
       "\t<tr><td> 98        </td><td>88.15000   </td><td>1.0000000  </td><td>81.30000   </td><td>0.9500000  </td><td>92.05000   </td><td>0.000000000</td><td>0          </td><td>TRUE       </td></tr>\n",
       "\t<tr><td> 99        </td><td>84.55556   </td><td>1.0000000  </td><td>81.44444   </td><td>0.9444444  </td><td>94.11111   </td><td>0.000000000</td><td>0          </td><td>TRUE       </td></tr>\n",
       "\t<tr><td>100        </td><td>83.75000   </td><td>0.9000000  </td><td>74.60000   </td><td>0.8500000  </td><td>96.15000   </td><td>0.000000000</td><td>0          </td><td>TRUE       </td></tr>\n",
       "\t<tr><td>101        </td><td>84.42857   </td><td>0.9665653  </td><td>      NA   </td><td>       NA  </td><td>99.88450   </td><td>0.000000000</td><td>0          </td><td>TRUE       </td></tr>\n",
       "</tbody>\n",
       "</table>\n"
      ],
      "text/latex": [
       "\\begin{tabular}{r|lllllllll}\n",
       " margin\\_bin & mean\\_dem\\_p1 & prob\\_dem\\_win\\_p1 & mean\\_dem\\_m1 & prob\\_dem\\_win\\_m1 & mean\\_margin & mean\\_dem\\_elec\\_exp & mean\\_dem\\_pol\\_exp & gt0\\\\\n",
       "\\hline\n",
       "\t  2         & 36.00000   & 0.00000000 & 36.00000   & 0.00000000 & -100.00000 & 0.00000000 & 0          & FALSE     \\\\\n",
       "\t  9         & 25.00000   & 0.00000000 & 19.00000   & 0.00000000 &  -85.00000 & 0.00000000 & 0          & FALSE     \\\\\n",
       "\t 12         & 68.00000   & 0.50000000 & 37.50000   & 0.50000000 &  -80.00000 & 0.00000000 & 0          & FALSE     \\\\\n",
       "\t 13         & 69.00000   & 1.00000000 & 53.00000   & 1.00000000 &  -77.00000 & 0.00000000 & 0          & FALSE     \\\\\n",
       "\t 14         & 21.00000   & 0.00000000 & 13.00000   & 0.00000000 &  -75.00000 & 0.00000000 & 0          & FALSE     \\\\\n",
       "\t 15         & 22.00000   & 0.00000000 & 22.50000   & 0.00000000 &  -74.00000 & 0.00000000 & 0          & FALSE     \\\\\n",
       "\t 16         & 13.00000   & 0.00000000 & 16.00000   & 0.00000000 &  -71.00000 & 0.00000000 & 0          & FALSE     \\\\\n",
       "\t 17         & 25.00000   & 0.00000000 & 28.50000   & 0.00000000 &  -70.00000 & 0.00000000 & 0          & FALSE     \\\\\n",
       "\t 18         & 21.50000   & 0.00000000 & 20.50000   & 0.00000000 &  -67.50000 & 0.00000000 & 0          & FALSE     \\\\\n",
       "\t 19         & 20.66667   & 0.00000000 & 17.66667   & 0.00000000 &  -66.00000 & 0.00000000 & 0          & FALSE     \\\\\n",
       "\t 20         & 29.66667   & 0.00000000 & 29.00000   & 0.00000000 &  -64.00000 & 0.00000000 & 0          & FALSE     \\\\\n",
       "\t 21         & 28.42857   & 0.14285714 & 35.71429   & 0.14285714 &  -61.71429 & 0.00000000 & 0          & FALSE     \\\\\n",
       "\t 22         & 28.81250   & 0.00000000 & 39.06250   & 0.12500000 &  -59.68750 & 0.06250000 & 0          & FALSE     \\\\\n",
       "\t 23         & 32.21053   & 0.05263158 & 33.42105   & 0.00000000 &  -57.84211 & 0.00000000 & 0          & FALSE     \\\\\n",
       "\t 24         & 30.29167   & 0.08333333 & 31.79167   & 0.04166667 &  -55.79167 & 0.00000000 & 0          & FALSE     \\\\\n",
       "\t 25         & 29.70833   & 0.00000000 &       NA   &         NA &  -53.79167 & 0.04166667 & 0          & FALSE     \\\\\n",
       "\t 26         & 32.25000   & 0.11111111 & 31.00000   & 0.02777778 &  -51.72222 & 0.02777778 & 0          & FALSE     \\\\\n",
       "\t 27         & 33.30769   & 0.07692308 & 35.69231   & 0.12820513 &  -49.74359 & 0.00000000 & 0          & FALSE     \\\\\n",
       "\t 28         & 32.25424   & 0.06779661 &       NA   &         NA &  -47.71186 & 0.03389831 & 0          & FALSE     \\\\\n",
       "\t 29         & 34.26923   & 0.05128205 &       NA   &         NA &  -45.80769 & 0.05128205 & 0          & FALSE     \\\\\n",
       "\t 30         & 32.75385   & 0.01538462 &       NA   &         NA &  -43.80000 & 0.01538462 & 0          & FALSE     \\\\\n",
       "\t 31         & 34.53012   & 0.06024096 &       NA   &         NA &  -41.81928 & 0.06024096 & 0          & FALSE     \\\\\n",
       "\t 32         & 36.00000   & 0.05714286 & 34.90000   & 0.05714286 &  -39.80000 & 0.07142857 & 0          & FALSE     \\\\\n",
       "\t 33         & 35.34524   & 0.07142857 & 38.84524   & 0.08333333 &  -37.78571 & 0.05952381 & 0          & FALSE     \\\\\n",
       "\t 34         & 35.68224   & 0.09345794 &       NA   &         NA &  -35.81308 & 0.03738318 & 0          & FALSE     \\\\\n",
       "\t 35         & 37.22535   & 0.07746479 & 37.30986   & 0.03521127 &  -33.83803 & 0.05633803 & 0          & FALSE     \\\\\n",
       "\t 36         & 36.91667   & 0.10000000 & 37.52500   & 0.06666667 &  -31.85833 & 0.05833333 & 0          & FALSE     \\\\\n",
       "\t 37         & 38.24667   & 0.08666667 &       NA   &         NA &  -29.84667 & 0.06666667 & 0          & FALSE     \\\\\n",
       "\t 38         & 38.48175   & 0.08029197 &       NA   &         NA &  -27.87591 & 0.03649635 & 0          & FALSE     \\\\\n",
       "\t 39         & 38.87730   & 0.06748466 & 40.25767   & 0.08588957 &  -25.82209 & 0.04294479 & 0          & FALSE     \\\\\n",
       "\t ⋮ & ⋮ & ⋮ & ⋮ & ⋮ & ⋮ & ⋮ & ⋮ & ⋮\\\\\n",
       "\t  72         & 68.75000    & 0.9038462   & 66.36538    & 0.9615385   & 40.15385    & 0.000000000 & 0           & TRUE       \\\\\n",
       "\t  73         & 67.85455    & 0.9454545   & 66.52727    & 0.9636364   & 42.19091    & 0.000000000 & 0           & TRUE       \\\\\n",
       "\t  74         & 70.32174    & 0.9652174   &       NA    &        NA   & 44.09565    & 0.000000000 & 0           & TRUE       \\\\\n",
       "\t  75         & 70.39535    & 0.9534884   & 69.03488    & 0.9534884   & 46.27907    & 0.000000000 & 0           & TRUE       \\\\\n",
       "\t  76         &       NA    &        NA   & 71.09434    & 0.9622642   & 48.17925    & 0.009433962 & 0           & TRUE       \\\\\n",
       "\t  77         & 73.82143    & 0.9642857   & 70.98810    & 0.9523810   & 50.04762    & 0.000000000 & 0           & TRUE       \\\\\n",
       "\t  78         & 75.87692    & 1.0000000   & 71.44615    & 0.9846154   & 52.23077    & 0.000000000 & 0           & TRUE       \\\\\n",
       "\t  79         & 74.20370    & 0.9814815   & 73.92593    & 0.9814815   & 54.22222    & 0.000000000 & 0           & TRUE       \\\\\n",
       "\t  80         & 76.51020    & 0.9795918   & 77.48980    & 1.0000000   & 56.20408    & 0.000000000 & 0           & TRUE       \\\\\n",
       "\t  81         & 72.21154    & 0.8846154   & 72.80769    & 0.9807692   & 58.19231    & 0.000000000 & 0           & TRUE       \\\\\n",
       "\t  82         & 76.20930    & 0.9767442   & 77.67442    & 0.9767442   & 60.13953    & 0.000000000 & 0           & TRUE       \\\\\n",
       "\t  83         & 78.33333    & 0.9666667   & 76.90000    & 0.9333333   & 62.20000    & 0.000000000 & 0           & TRUE       \\\\\n",
       "\t  84         & 73.86957    & 0.8478261   & 80.67391    & 0.9782609   & 64.19565    & 0.000000000 & 0           & TRUE       \\\\\n",
       "\t  85         & 77.00000    & 0.9705882   & 78.26471    & 0.9411765   & 66.29412    & 0.000000000 & 0           & TRUE       \\\\\n",
       "\t  86         & 79.22727    & 0.9090909   & 78.72727    & 0.9545455   & 68.09091    & 0.000000000 & 0           & TRUE       \\\\\n",
       "\t  87         & 80.25714    & 0.9714286   & 79.00000    & 0.9714286   & 70.11429    & 0.028571429 & 0           & TRUE       \\\\\n",
       "\t  88         & 78.83333    & 0.9666667   & 79.50000    & 0.9333333   & 72.13333    & 0.000000000 & 0           & TRUE       \\\\\n",
       "\t  89         & 81.36000    & 0.9600000   & 82.24000    & 0.9600000   & 74.24000    & 0.000000000 & 0           & TRUE       \\\\\n",
       "\t  90         & 81.14286    & 0.9642857   & 80.67857    & 0.9642857   & 76.21429    & 0.000000000 & 0           & TRUE       \\\\\n",
       "\t  91         & 82.65217    & 1.0000000   & 82.65217    & 0.9130435   & 78.26087    & 0.000000000 & 0           & TRUE       \\\\\n",
       "\t  92         & 74.26667    & 0.9333333   & 75.46667    & 0.9333333   & 80.13333    & 0.000000000 & 0           & TRUE       \\\\\n",
       "\t  93         & 78.38095    & 1.0000000   & 73.33333    & 1.0000000   & 82.23810    & 0.000000000 & 0           & TRUE       \\\\\n",
       "\t  94         & 81.00000    & 1.0000000   & 75.28571    & 0.9523810   & 84.28571    & 0.000000000 & 0           & TRUE       \\\\\n",
       "\t  95         & 83.07143    & 0.9285714   & 84.57143    & 1.0000000   & 86.00000    & 0.000000000 & 0           & TRUE       \\\\\n",
       "\t  96         & 77.03846    & 0.9615385   & 83.26923    & 1.0000000   & 88.03846    & 0.000000000 & 0           & TRUE       \\\\\n",
       "\t  97         & 76.69231    & 0.9230769   & 81.46154    & 1.0000000   & 90.00000    & 0.000000000 & 0           & TRUE       \\\\\n",
       "\t  98         & 88.15000    & 1.0000000   & 81.30000    & 0.9500000   & 92.05000    & 0.000000000 & 0           & TRUE       \\\\\n",
       "\t  99         & 84.55556    & 1.0000000   & 81.44444    & 0.9444444   & 94.11111    & 0.000000000 & 0           & TRUE       \\\\\n",
       "\t 100         & 83.75000    & 0.9000000   & 74.60000    & 0.8500000   & 96.15000    & 0.000000000 & 0           & TRUE       \\\\\n",
       "\t 101         & 84.42857    & 0.9665653   &       NA    &        NA   & 99.88450    & 0.000000000 & 0           & TRUE       \\\\\n",
       "\\end{tabular}\n"
      ],
      "text/markdown": [
       "\n",
       "margin_bin | mean_dem_p1 | prob_dem_win_p1 | mean_dem_m1 | prob_dem_win_m1 | mean_margin | mean_dem_elec_exp | mean_dem_pol_exp | gt0 | \n",
       "|---|---|---|---|---|---|---|---|---|---|---|---|---|---|---|---|---|---|---|---|---|---|---|---|---|---|---|---|---|---|---|---|---|---|---|---|---|---|---|---|---|---|---|---|---|---|---|---|---|---|---|---|---|---|---|---|---|---|---|---|---|\n",
       "|  2         | 36.00000   | 0.00000000 | 36.00000   | 0.00000000 | -100.00000 | 0.00000000 | 0          | FALSE      | \n",
       "|  9         | 25.00000   | 0.00000000 | 19.00000   | 0.00000000 |  -85.00000 | 0.00000000 | 0          | FALSE      | \n",
       "| 12         | 68.00000   | 0.50000000 | 37.50000   | 0.50000000 |  -80.00000 | 0.00000000 | 0          | FALSE      | \n",
       "| 13         | 69.00000   | 1.00000000 | 53.00000   | 1.00000000 |  -77.00000 | 0.00000000 | 0          | FALSE      | \n",
       "| 14         | 21.00000   | 0.00000000 | 13.00000   | 0.00000000 |  -75.00000 | 0.00000000 | 0          | FALSE      | \n",
       "| 15         | 22.00000   | 0.00000000 | 22.50000   | 0.00000000 |  -74.00000 | 0.00000000 | 0          | FALSE      | \n",
       "| 16         | 13.00000   | 0.00000000 | 16.00000   | 0.00000000 |  -71.00000 | 0.00000000 | 0          | FALSE      | \n",
       "| 17         | 25.00000   | 0.00000000 | 28.50000   | 0.00000000 |  -70.00000 | 0.00000000 | 0          | FALSE      | \n",
       "| 18         | 21.50000   | 0.00000000 | 20.50000   | 0.00000000 |  -67.50000 | 0.00000000 | 0          | FALSE      | \n",
       "| 19         | 20.66667   | 0.00000000 | 17.66667   | 0.00000000 |  -66.00000 | 0.00000000 | 0          | FALSE      | \n",
       "| 20         | 29.66667   | 0.00000000 | 29.00000   | 0.00000000 |  -64.00000 | 0.00000000 | 0          | FALSE      | \n",
       "| 21         | 28.42857   | 0.14285714 | 35.71429   | 0.14285714 |  -61.71429 | 0.00000000 | 0          | FALSE      | \n",
       "| 22         | 28.81250   | 0.00000000 | 39.06250   | 0.12500000 |  -59.68750 | 0.06250000 | 0          | FALSE      | \n",
       "| 23         | 32.21053   | 0.05263158 | 33.42105   | 0.00000000 |  -57.84211 | 0.00000000 | 0          | FALSE      | \n",
       "| 24         | 30.29167   | 0.08333333 | 31.79167   | 0.04166667 |  -55.79167 | 0.00000000 | 0          | FALSE      | \n",
       "| 25         | 29.70833   | 0.00000000 |       NA   |         NA |  -53.79167 | 0.04166667 | 0          | FALSE      | \n",
       "| 26         | 32.25000   | 0.11111111 | 31.00000   | 0.02777778 |  -51.72222 | 0.02777778 | 0          | FALSE      | \n",
       "| 27         | 33.30769   | 0.07692308 | 35.69231   | 0.12820513 |  -49.74359 | 0.00000000 | 0          | FALSE      | \n",
       "| 28         | 32.25424   | 0.06779661 |       NA   |         NA |  -47.71186 | 0.03389831 | 0          | FALSE      | \n",
       "| 29         | 34.26923   | 0.05128205 |       NA   |         NA |  -45.80769 | 0.05128205 | 0          | FALSE      | \n",
       "| 30         | 32.75385   | 0.01538462 |       NA   |         NA |  -43.80000 | 0.01538462 | 0          | FALSE      | \n",
       "| 31         | 34.53012   | 0.06024096 |       NA   |         NA |  -41.81928 | 0.06024096 | 0          | FALSE      | \n",
       "| 32         | 36.00000   | 0.05714286 | 34.90000   | 0.05714286 |  -39.80000 | 0.07142857 | 0          | FALSE      | \n",
       "| 33         | 35.34524   | 0.07142857 | 38.84524   | 0.08333333 |  -37.78571 | 0.05952381 | 0          | FALSE      | \n",
       "| 34         | 35.68224   | 0.09345794 |       NA   |         NA |  -35.81308 | 0.03738318 | 0          | FALSE      | \n",
       "| 35         | 37.22535   | 0.07746479 | 37.30986   | 0.03521127 |  -33.83803 | 0.05633803 | 0          | FALSE      | \n",
       "| 36         | 36.91667   | 0.10000000 | 37.52500   | 0.06666667 |  -31.85833 | 0.05833333 | 0          | FALSE      | \n",
       "| 37         | 38.24667   | 0.08666667 |       NA   |         NA |  -29.84667 | 0.06666667 | 0          | FALSE      | \n",
       "| 38         | 38.48175   | 0.08029197 |       NA   |         NA |  -27.87591 | 0.03649635 | 0          | FALSE      | \n",
       "| 39         | 38.87730   | 0.06748466 | 40.25767   | 0.08588957 |  -25.82209 | 0.04294479 | 0          | FALSE      | \n",
       "| ⋮ | ⋮ | ⋮ | ⋮ | ⋮ | ⋮ | ⋮ | ⋮ | ⋮ | \n",
       "|  72         | 68.75000    | 0.9038462   | 66.36538    | 0.9615385   | 40.15385    | 0.000000000 | 0           | TRUE        | \n",
       "|  73         | 67.85455    | 0.9454545   | 66.52727    | 0.9636364   | 42.19091    | 0.000000000 | 0           | TRUE        | \n",
       "|  74         | 70.32174    | 0.9652174   |       NA    |        NA   | 44.09565    | 0.000000000 | 0           | TRUE        | \n",
       "|  75         | 70.39535    | 0.9534884   | 69.03488    | 0.9534884   | 46.27907    | 0.000000000 | 0           | TRUE        | \n",
       "|  76         |       NA    |        NA   | 71.09434    | 0.9622642   | 48.17925    | 0.009433962 | 0           | TRUE        | \n",
       "|  77         | 73.82143    | 0.9642857   | 70.98810    | 0.9523810   | 50.04762    | 0.000000000 | 0           | TRUE        | \n",
       "|  78         | 75.87692    | 1.0000000   | 71.44615    | 0.9846154   | 52.23077    | 0.000000000 | 0           | TRUE        | \n",
       "|  79         | 74.20370    | 0.9814815   | 73.92593    | 0.9814815   | 54.22222    | 0.000000000 | 0           | TRUE        | \n",
       "|  80         | 76.51020    | 0.9795918   | 77.48980    | 1.0000000   | 56.20408    | 0.000000000 | 0           | TRUE        | \n",
       "|  81         | 72.21154    | 0.8846154   | 72.80769    | 0.9807692   | 58.19231    | 0.000000000 | 0           | TRUE        | \n",
       "|  82         | 76.20930    | 0.9767442   | 77.67442    | 0.9767442   | 60.13953    | 0.000000000 | 0           | TRUE        | \n",
       "|  83         | 78.33333    | 0.9666667   | 76.90000    | 0.9333333   | 62.20000    | 0.000000000 | 0           | TRUE        | \n",
       "|  84         | 73.86957    | 0.8478261   | 80.67391    | 0.9782609   | 64.19565    | 0.000000000 | 0           | TRUE        | \n",
       "|  85         | 77.00000    | 0.9705882   | 78.26471    | 0.9411765   | 66.29412    | 0.000000000 | 0           | TRUE        | \n",
       "|  86         | 79.22727    | 0.9090909   | 78.72727    | 0.9545455   | 68.09091    | 0.000000000 | 0           | TRUE        | \n",
       "|  87         | 80.25714    | 0.9714286   | 79.00000    | 0.9714286   | 70.11429    | 0.028571429 | 0           | TRUE        | \n",
       "|  88         | 78.83333    | 0.9666667   | 79.50000    | 0.9333333   | 72.13333    | 0.000000000 | 0           | TRUE        | \n",
       "|  89         | 81.36000    | 0.9600000   | 82.24000    | 0.9600000   | 74.24000    | 0.000000000 | 0           | TRUE        | \n",
       "|  90         | 81.14286    | 0.9642857   | 80.67857    | 0.9642857   | 76.21429    | 0.000000000 | 0           | TRUE        | \n",
       "|  91         | 82.65217    | 1.0000000   | 82.65217    | 0.9130435   | 78.26087    | 0.000000000 | 0           | TRUE        | \n",
       "|  92         | 74.26667    | 0.9333333   | 75.46667    | 0.9333333   | 80.13333    | 0.000000000 | 0           | TRUE        | \n",
       "|  93         | 78.38095    | 1.0000000   | 73.33333    | 1.0000000   | 82.23810    | 0.000000000 | 0           | TRUE        | \n",
       "|  94         | 81.00000    | 1.0000000   | 75.28571    | 0.9523810   | 84.28571    | 0.000000000 | 0           | TRUE        | \n",
       "|  95         | 83.07143    | 0.9285714   | 84.57143    | 1.0000000   | 86.00000    | 0.000000000 | 0           | TRUE        | \n",
       "|  96         | 77.03846    | 0.9615385   | 83.26923    | 1.0000000   | 88.03846    | 0.000000000 | 0           | TRUE        | \n",
       "|  97         | 76.69231    | 0.9230769   | 81.46154    | 1.0000000   | 90.00000    | 0.000000000 | 0           | TRUE        | \n",
       "|  98         | 88.15000    | 1.0000000   | 81.30000    | 0.9500000   | 92.05000    | 0.000000000 | 0           | TRUE        | \n",
       "|  99         | 84.55556    | 1.0000000   | 81.44444    | 0.9444444   | 94.11111    | 0.000000000 | 0           | TRUE        | \n",
       "| 100         | 83.75000    | 0.9000000   | 74.60000    | 0.8500000   | 96.15000    | 0.000000000 | 0           | TRUE        | \n",
       "| 101         | 84.42857    | 0.9665653   |       NA    |        NA   | 99.88450    | 0.000000000 | 0           | TRUE        | \n",
       "\n",
       "\n"
      ],
      "text/plain": [
       "   margin_bin mean_dem_p1 prob_dem_win_p1 mean_dem_m1 prob_dem_win_m1\n",
       "1   2         36.00000    0.00000000      36.00000    0.00000000     \n",
       "2   9         25.00000    0.00000000      19.00000    0.00000000     \n",
       "3  12         68.00000    0.50000000      37.50000    0.50000000     \n",
       "4  13         69.00000    1.00000000      53.00000    1.00000000     \n",
       "5  14         21.00000    0.00000000      13.00000    0.00000000     \n",
       "6  15         22.00000    0.00000000      22.50000    0.00000000     \n",
       "7  16         13.00000    0.00000000      16.00000    0.00000000     \n",
       "8  17         25.00000    0.00000000      28.50000    0.00000000     \n",
       "9  18         21.50000    0.00000000      20.50000    0.00000000     \n",
       "10 19         20.66667    0.00000000      17.66667    0.00000000     \n",
       "11 20         29.66667    0.00000000      29.00000    0.00000000     \n",
       "12 21         28.42857    0.14285714      35.71429    0.14285714     \n",
       "13 22         28.81250    0.00000000      39.06250    0.12500000     \n",
       "14 23         32.21053    0.05263158      33.42105    0.00000000     \n",
       "15 24         30.29167    0.08333333      31.79167    0.04166667     \n",
       "16 25         29.70833    0.00000000            NA            NA     \n",
       "17 26         32.25000    0.11111111      31.00000    0.02777778     \n",
       "18 27         33.30769    0.07692308      35.69231    0.12820513     \n",
       "19 28         32.25424    0.06779661            NA            NA     \n",
       "20 29         34.26923    0.05128205            NA            NA     \n",
       "21 30         32.75385    0.01538462            NA            NA     \n",
       "22 31         34.53012    0.06024096            NA            NA     \n",
       "23 32         36.00000    0.05714286      34.90000    0.05714286     \n",
       "24 33         35.34524    0.07142857      38.84524    0.08333333     \n",
       "25 34         35.68224    0.09345794            NA            NA     \n",
       "26 35         37.22535    0.07746479      37.30986    0.03521127     \n",
       "27 36         36.91667    0.10000000      37.52500    0.06666667     \n",
       "28 37         38.24667    0.08666667            NA            NA     \n",
       "29 38         38.48175    0.08029197            NA            NA     \n",
       "30 39         38.87730    0.06748466      40.25767    0.08588957     \n",
       "⋮  ⋮          ⋮           ⋮               ⋮           ⋮              \n",
       "63  72        68.75000    0.9038462       66.36538    0.9615385      \n",
       "64  73        67.85455    0.9454545       66.52727    0.9636364      \n",
       "65  74        70.32174    0.9652174             NA           NA      \n",
       "66  75        70.39535    0.9534884       69.03488    0.9534884      \n",
       "67  76              NA           NA       71.09434    0.9622642      \n",
       "68  77        73.82143    0.9642857       70.98810    0.9523810      \n",
       "69  78        75.87692    1.0000000       71.44615    0.9846154      \n",
       "70  79        74.20370    0.9814815       73.92593    0.9814815      \n",
       "71  80        76.51020    0.9795918       77.48980    1.0000000      \n",
       "72  81        72.21154    0.8846154       72.80769    0.9807692      \n",
       "73  82        76.20930    0.9767442       77.67442    0.9767442      \n",
       "74  83        78.33333    0.9666667       76.90000    0.9333333      \n",
       "75  84        73.86957    0.8478261       80.67391    0.9782609      \n",
       "76  85        77.00000    0.9705882       78.26471    0.9411765      \n",
       "77  86        79.22727    0.9090909       78.72727    0.9545455      \n",
       "78  87        80.25714    0.9714286       79.00000    0.9714286      \n",
       "79  88        78.83333    0.9666667       79.50000    0.9333333      \n",
       "80  89        81.36000    0.9600000       82.24000    0.9600000      \n",
       "81  90        81.14286    0.9642857       80.67857    0.9642857      \n",
       "82  91        82.65217    1.0000000       82.65217    0.9130435      \n",
       "83  92        74.26667    0.9333333       75.46667    0.9333333      \n",
       "84  93        78.38095    1.0000000       73.33333    1.0000000      \n",
       "85  94        81.00000    1.0000000       75.28571    0.9523810      \n",
       "86  95        83.07143    0.9285714       84.57143    1.0000000      \n",
       "87  96        77.03846    0.9615385       83.26923    1.0000000      \n",
       "88  97        76.69231    0.9230769       81.46154    1.0000000      \n",
       "89  98        88.15000    1.0000000       81.30000    0.9500000      \n",
       "90  99        84.55556    1.0000000       81.44444    0.9444444      \n",
       "91 100        83.75000    0.9000000       74.60000    0.8500000      \n",
       "92 101        84.42857    0.9665653             NA           NA      \n",
       "   mean_margin mean_dem_elec_exp mean_dem_pol_exp gt0  \n",
       "1  -100.00000  0.00000000        0                FALSE\n",
       "2   -85.00000  0.00000000        0                FALSE\n",
       "3   -80.00000  0.00000000        0                FALSE\n",
       "4   -77.00000  0.00000000        0                FALSE\n",
       "5   -75.00000  0.00000000        0                FALSE\n",
       "6   -74.00000  0.00000000        0                FALSE\n",
       "7   -71.00000  0.00000000        0                FALSE\n",
       "8   -70.00000  0.00000000        0                FALSE\n",
       "9   -67.50000  0.00000000        0                FALSE\n",
       "10  -66.00000  0.00000000        0                FALSE\n",
       "11  -64.00000  0.00000000        0                FALSE\n",
       "12  -61.71429  0.00000000        0                FALSE\n",
       "13  -59.68750  0.06250000        0                FALSE\n",
       "14  -57.84211  0.00000000        0                FALSE\n",
       "15  -55.79167  0.00000000        0                FALSE\n",
       "16  -53.79167  0.04166667        0                FALSE\n",
       "17  -51.72222  0.02777778        0                FALSE\n",
       "18  -49.74359  0.00000000        0                FALSE\n",
       "19  -47.71186  0.03389831        0                FALSE\n",
       "20  -45.80769  0.05128205        0                FALSE\n",
       "21  -43.80000  0.01538462        0                FALSE\n",
       "22  -41.81928  0.06024096        0                FALSE\n",
       "23  -39.80000  0.07142857        0                FALSE\n",
       "24  -37.78571  0.05952381        0                FALSE\n",
       "25  -35.81308  0.03738318        0                FALSE\n",
       "26  -33.83803  0.05633803        0                FALSE\n",
       "27  -31.85833  0.05833333        0                FALSE\n",
       "28  -29.84667  0.06666667        0                FALSE\n",
       "29  -27.87591  0.03649635        0                FALSE\n",
       "30  -25.82209  0.04294479        0                FALSE\n",
       "⋮  ⋮           ⋮                 ⋮                ⋮    \n",
       "63 40.15385    0.000000000       0                TRUE \n",
       "64 42.19091    0.000000000       0                TRUE \n",
       "65 44.09565    0.000000000       0                TRUE \n",
       "66 46.27907    0.000000000       0                TRUE \n",
       "67 48.17925    0.009433962       0                TRUE \n",
       "68 50.04762    0.000000000       0                TRUE \n",
       "69 52.23077    0.000000000       0                TRUE \n",
       "70 54.22222    0.000000000       0                TRUE \n",
       "71 56.20408    0.000000000       0                TRUE \n",
       "72 58.19231    0.000000000       0                TRUE \n",
       "73 60.13953    0.000000000       0                TRUE \n",
       "74 62.20000    0.000000000       0                TRUE \n",
       "75 64.19565    0.000000000       0                TRUE \n",
       "76 66.29412    0.000000000       0                TRUE \n",
       "77 68.09091    0.000000000       0                TRUE \n",
       "78 70.11429    0.028571429       0                TRUE \n",
       "79 72.13333    0.000000000       0                TRUE \n",
       "80 74.24000    0.000000000       0                TRUE \n",
       "81 76.21429    0.000000000       0                TRUE \n",
       "82 78.26087    0.000000000       0                TRUE \n",
       "83 80.13333    0.000000000       0                TRUE \n",
       "84 82.23810    0.000000000       0                TRUE \n",
       "85 84.28571    0.000000000       0                TRUE \n",
       "86 86.00000    0.000000000       0                TRUE \n",
       "87 88.03846    0.000000000       0                TRUE \n",
       "88 90.00000    0.000000000       0                TRUE \n",
       "89 92.05000    0.000000000       0                TRUE \n",
       "90 94.11111    0.000000000       0                TRUE \n",
       "91 96.15000    0.000000000       0                TRUE \n",
       "92 99.88450    0.000000000       0                TRUE "
      ]
     },
     "metadata": {},
     "output_type": "display_data"
>>>>>>> upstream/master
    }
   ],
   "source": [
    "# create bins for running variable (margin)\n",
    "rd_wide$margin_bin <- as.numeric(cut2(rd_wide$margin, cuts = seq(-100, 100, by = 2)))\n",
    "\n",
    "# collapse data so have means by bin\n",
    "binned_data <- rd_wide %>%\n",
    "    group_by(margin_bin) %>%\n",
    "    summarise(mean_dem_p1 = mean(dem_share_p1),\n",
    "              prob_dem_win_p1 = mean(dem_win_p1),\n",
    "              mean_dem_m1 = mean(dem_share_m1),\n",
    "              prob_dem_win_m1 = mean(dem_win_m1),\n",
    "              mean_margin = mean(margin),\n",
    "              mean_dem_elec_exp = mean(dem_elec_exp),\n",
    "              mean_dem_pol_exp = mean(dem_pol_exp))\n",
    "binned_data <- subset(binned_data, margin_bin > 1) # first one outliers?\n",
    "# create variable for over 50%\n",
    "binned_data$gt0 <- binned_data$margin_bin > 51\n",
    "binned_data"
   ]
  },
  {
   "cell_type": "code",
<<<<<<< HEAD
   "execution_count": 20,
=======
   "execution_count": 7,
>>>>>>> upstream/master
   "metadata": {},
   "outputs": [
    {
     "ename": "ERROR",
     "evalue": "Error in ggplot(binned_data, aes(x = mean_margin, y = mean_dem_p1)): object 'binned_data' not found\n",
     "output_type": "error",
     "traceback": [
      "Error in ggplot(binned_data, aes(x = mean_margin, y = mean_dem_p1)): object 'binned_data' not found\nTraceback:\n",
      "1. ggplot(binned_data, aes(x = mean_margin, y = mean_dem_p1))"
     ]
    }
   ],
   "source": [
    "# Plot Democratic share at t+1 over Dem margin at t\n",
    "ggplot(binned_data, aes(x = mean_margin, y = mean_dem_p1)) + geom_point() +\n",
    "    ggtitle(\"Visual Evidence of a Discontinuity \\nin Vote Share\") +\n",
    "  labs(x=\"Democrat's margin of victory at time t\",y=\"Democrat's vote share at time t+1\") +\n",
    " theme(plot.title = element_text(face=\"bold\", size=24, hjust=0.5)) + theme(legend.position=\"none\")"
   ]
  },
  {
   "cell_type": "code",
<<<<<<< HEAD
   "execution_count": 21,
=======
   "execution_count": 8,
>>>>>>> upstream/master
   "metadata": {},
   "outputs": [
    {
     "ename": "ERROR",
     "evalue": "Error in ggplot(binned_data, aes(x = mean_margin, y = prob_dem_win_p1)): object 'binned_data' not found\n",
     "output_type": "error",
     "traceback": [
      "Error in ggplot(binned_data, aes(x = mean_margin, y = prob_dem_win_p1)): object 'binned_data' not found\nTraceback:\n",
      "1. ggplot(binned_data, aes(x = mean_margin, y = prob_dem_win_p1))"
     ]
    }
   ],
   "source": [
    "# Plot Democratic prob of victory at t+1 over Dem margin at t\n",
    "ggplot(binned_data, aes(x = mean_margin, y = prob_dem_win_p1)) + geom_point() +\n",
    "    ggtitle(\"Visual Evidence of a Discontinuity \\nin Electoral Victory\") +\n",
    "  labs(x=\"Democrat's margin of victory at time t\",y=\"Democrat's probability of victory time t+1\") +\n",
    " theme(plot.title = element_text(face=\"bold\", size=24, hjust=0.5)) + theme(legend.position=\"none\")"
   ]
  },
  {
   "cell_type": "markdown",
   "metadata": {},
   "source": [
    "### Regression Discontinuity Design\n",
    "\n",
    "The two plots above give us a pretty clear picture of the incumbency advantage.  RDD is built around this discontinuity at zero and we can essentailly measure the effect here by the jump in the level of the point on the scatter plot at the cut point (i.e., a margin of victory of 0).\n",
    "\n",
    "But if we want to be more precise, find the confidence intervals around this estimate, and control for covariates, we want to use regression analysis here.\n",
    "\n",
    "Some notation to help describe what we are going to do:\n",
    "* $Y$ is our outcome variable of interest (e.g., the probability a democrat wins the election at $t+1$). $Y(0)$ represents the outcome with no treatment and $Y(1)$ represents the outcome with treatment.\n",
    "* $X$ is our running variable.  That is, this is the variable in which there is a discontinuity in the treatment (e.g., the margin of victory for a Democrat in election $t$)\n",
    "* $c$ is the cut-point.  This is the point of the discontinuity in $X$ (e.g., just winning a margin of victory of 0)\n",
    "\n",
    "In the data, we never observe $E[Y(0)|X=c]$, that is there are no units at the cutoff that don't get the treatment, but in principle it can be approximated arbitrarily well by $E[Y(0)|X=c-\\varepsilon]$.  Therefore we estimate: $E[Y|X=c+\\varepsilon]-E[Y|X=c-\\varepsilon]$\n",
    "\n",
    "We now need a functional form for $E[Y|X]$.  Suppose that $Y=\\alpha+\\tau T+ \\beta f(X) +\\eta$ and that $f(X)$ is a smooth function of $X$. A flexible way to do this is to modeling $f(X)$ with a pth-order polynomial in this way leads to \n",
    "$$Y=\\alpha + \\beta_{01}X + \\beta_{02}X^{2}+...+\\beta_{0p}X^{p}+\\tau T + \\beta_{1}TX + \\beta_{2}TX^{2} + ... + \\beta_{p}TX^{p}+\\eta$$\n",
    "\n",
    "We still have some choices here.  First off, what order is the polynomial we use?  Second, and relatedly, how far from the cut point do we look at the data?  \n",
    "\n",
    "As with everything, this is a trade off.  If you look closer to the cut point, the data is more likely to be well approximated by a linear function, so you can use a lower order polynomial.  If you consider data farther from the cut point, a higher order polynomial may be necessary to fit the data better.  The distance from the cutpoint that you use in estimating the model is termed the \"bandwidth\" of the estimator.\n",
    "\n",
    "There are a few formal ways to find that you have an appropriately flexible polynomial.  A couple of these are:\n",
    "1. Use the Akaike information criterion (AIC) for model selection: $AIC = N ln(\\hat{\\sigma}^{2}) + 2p$, where $\\hat{\\sigma}^{2}$ is the mean squared error of the regression and $p$ is the number of model parameters (want to pick model with lowest AIC - i.e., lowest info loss)\n",
    "2. Select a natural set of bins (as you would for an RD graph) and add bin dummies to the model and test their joint significance. Add higher order terms to the polynomial until the bin dummies are no longer jointly significant. (FYI, This also turns out to be a test for the presence of discontinuities in the regression function at points other then the cutoff, which you'll want to do anyway.)\n",
    "\n",
    "There are also ways to determine that the bandwidth chosen is appropriate.  Again, this will depend on the functional form of your model.  There are two general methods for selecting bandwidth:\n",
    "1. Ad hoc (e.g., elections between 48-52\\% are \"close\") or substantively derived (Data driven)\n",
    "2. Optimal bandwidth methods (Imbens and Kalyanaraman (*The Review of Economic Studies*, 2012))\n",
    "\n",
    "A rule of thumb seems to be to use a 4th degree polynomial for $f(X)$.  But here, to make it simpler, let's start by estimating the RDD on our binned data that we just plotted using a 2nd degree polynomial and the full bandwidth (i.e., all the data)."
   ]
  },
  {
   "cell_type": "code",
<<<<<<< HEAD
   "execution_count": 22,
=======
   "execution_count": 9,
>>>>>>> upstream/master
   "metadata": {},
   "outputs": [
    {
     "ename": "ERROR",
     "evalue": "Error in is.data.frame(data): object 'binned_data' not found\n",
     "output_type": "error",
     "traceback": [
      "Error in is.data.frame(data): object 'binned_data' not found\nTraceback:\n",
      "1. lm(mean_dem_p1 ~ mean_margin + I(mean_margin^2) + gt0 + gt0 * \n .     mean_margin + gt0 * I(mean_margin^2), data = binned_data)",
      "2. eval(mf, parent.frame())",
      "3. eval(mf, parent.frame())",
      "4. stats::model.frame(formula = mean_dem_p1 ~ mean_margin + I(mean_margin^2) + \n .     gt0 + gt0 * mean_margin + gt0 * I(mean_margin^2), data = binned_data, \n .     drop.unused.levels = TRUE)",
      "5. model.frame.default(formula = mean_dem_p1 ~ mean_margin + I(mean_margin^2) + \n .     gt0 + gt0 * mean_margin + gt0 * I(mean_margin^2), data = binned_data, \n .     drop.unused.levels = TRUE)",
      "6. is.data.frame(data)"
     ]
    }
   ],
   "source": [
    "# In this RD use polynomial of order 2 that varies on either side of cut point\n",
    "rdd1 = lm(mean_dem_p1~mean_margin+I(mean_margin^2)+ gt0+ gt0*mean_margin+ gt0*I(mean_margin^2), data=binned_data)\n",
    "summary(rdd1)"
   ]
  },
  {
   "cell_type": "markdown",
   "metadata": {},
   "source": [
    "The coefficient on the dummy variable for the cut point is the causal effect of treatment.  In this case this is the coefficient on the `gt0` variable, which denotes a more than 50% of the vote share.  We can do the same for the probability of victory."
   ]
  },
  {
   "cell_type": "code",
<<<<<<< HEAD
   "execution_count": 23,
=======
   "execution_count": 10,
>>>>>>> upstream/master
   "metadata": {},
   "outputs": [
    {
     "ename": "ERROR",
     "evalue": "Error in is.data.frame(data): object 'binned_data' not found\n",
     "output_type": "error",
     "traceback": [
      "Error in is.data.frame(data): object 'binned_data' not found\nTraceback:\n",
      "1. lm(prob_dem_win_p1 ~ mean_margin + I(mean_margin^2) + gt0 + gt0 * \n .     mean_margin + gt0 * I(mean_margin^2), data = binned_data)",
      "2. eval(mf, parent.frame())",
      "3. eval(mf, parent.frame())",
      "4. stats::model.frame(formula = prob_dem_win_p1 ~ mean_margin + \n .     I(mean_margin^2) + gt0 + gt0 * mean_margin + gt0 * I(mean_margin^2), \n .     data = binned_data, drop.unused.levels = TRUE)",
      "5. model.frame.default(formula = prob_dem_win_p1 ~ mean_margin + \n .     I(mean_margin^2) + gt0 + gt0 * mean_margin + gt0 * I(mean_margin^2), \n .     data = binned_data, drop.unused.levels = TRUE)",
      "6. is.data.frame(data)"
     ]
    }
   ],
   "source": [
    "# In this RD use polynomial of order 2 that varies on either side of cut point\n",
    "rdd2 = lm(prob_dem_win_p1~mean_margin+I(mean_margin^2)+ gt0+ gt0*mean_margin+ gt0*I(mean_margin^2), data=binned_data)\n",
    "summary(rdd2)"
   ]
  },
  {
   "cell_type": "markdown",
   "metadata": {},
   "source": [
    "We can also use `ggplot` to plot our fitted values along with the data."
   ]
  },
  {
   "cell_type": "code",
<<<<<<< HEAD
   "execution_count": 24,
=======
   "execution_count": 11,
>>>>>>> upstream/master
   "metadata": {},
   "outputs": [
    {
     "ename": "ERROR",
     "evalue": "Error in predict(rdd2, binned_data): object 'rdd2' not found\n",
     "output_type": "error",
     "traceback": [
      "Error in predict(rdd2, binned_data): object 'rdd2' not found\nTraceback:\n",
      "1. predict(rdd2, binned_data)"
     ]
<<<<<<< HEAD
=======
    },
    {
     "data": {},
     "metadata": {},
     "output_type": "display_data"
    },
    {
     "data": {
      "image/png": "iVBORw0KGgoAAAANSUhEUgAAA0gAAANICAYAAAD958/bAAAEDWlDQ1BJQ0MgUHJvZmlsZQAA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\n/B+hWkzjK2HblQAAAABJRU5ErkJggg==",
      "text/plain": [
       "plot without title"
      ]
     },
     "metadata": {},
     "output_type": "display_data"
>>>>>>> upstream/master
    }
   ],
   "source": [
    "binned_data$myPredict <- predict(rdd2, binned_data) \n",
    "ix <- sort(binned_data$mean_margin,index.return=T)$ix\n",
    "\n",
    "ggplot(binned_data, aes(x = mean_margin, y = prob_dem_win_p1)) + geom_point() + ggtitle(\"The Incumbency Advantage\") +\n",
    "  labs(x=\"Democrat's margin of victory at time t\",y=\"Democrat's probability of winning at time t+1\") +\n",
    " theme(plot.title = element_text(face=\"bold\", size=24, hjust=0.5)) + theme(legend.position=\"none\") +\n",
    "    geom_line(color='black',data = binned_data, aes(x=mean_margin, y=myPredict, group = gt0))"
   ]
  },
  {
   "cell_type": "markdown",
   "metadata": {},
   "source": [
    "### The Role of Covariates\n",
    "\n",
    "Notice that we didn't include any other controls in the models above, such as candidate experience.  In principle, covariates are not needed for identification in RD, but they can help reduce sampling variability in the estimator and improve precision if they are correlated with the potential outcomes.  Note that this is a standard argument which also supports inclusion of covariates in analyses of randomized trials.\n",
    "\n",
    "Adding covariates should not affect the point estimate of the effect (very much). If it does, there is likely a problem.  The wider the bandwidth the more important it may be to include covariates -  including additional covariates may eliminate some bias that is the result of the inclusion of these additional observations far from the cutoff point.\n",
    "\n",
    "The first and most important point is that the presence of these covariates rarely changes the identification strategy. Typically, the conditional distribution of the covariates $Z$ given $X$ is continuous at $x = c$. If such discontinuities in other covariates are found, the justification of the identification strategy may be questionable. If the conditional distribution of $Z$ given $X$ is continuous at $x = c$, then including Z in the regression. \n",
    "\n",
    "### Threats to the Validity of the RDD\n",
    "\n",
    "It is impossible to test the continuity assumption directly, but we can test some implications of it.  Namely, all observed predetermined characteristics should have identical distributions on either side of the cutoff, in the limit, as we approach smaller and smaller bandwidths. That is, there should be no discontinuities in the observables.\n",
    "\n",
    "Again there is an analogy to an experiment: we cannot test whether unobserved characteristics are balanced, but we can test the observables. Rejection calls the randomization into question.\n",
    "\n",
    "A subtle point in the RD context is that a finding a discontinuity in observable covariates indicates a violation of the continuity assumption, not a violation of unconfoundedness, which is satisfied by definition.\n",
    "\n",
    "To make sure that our RDD is valid, we'll want to have evidence that there are not discontinuities in the covariates at the cut point - or with any pre-determined variables  E.g., we can test for discontinuities in the Democrates vote share at t-1."
   ]
  },
  {
   "cell_type": "code",
<<<<<<< HEAD
   "execution_count": 25,
=======
   "execution_count": 12,
>>>>>>> upstream/master
   "metadata": {},
   "outputs": [
    {
     "ename": "ERROR",
     "evalue": "Error in ggplot(binned_data, aes(x = mean_margin, y = mean_dem_m1)): object 'binned_data' not found\n",
     "output_type": "error",
     "traceback": [
      "Error in ggplot(binned_data, aes(x = mean_margin, y = mean_dem_m1)): object 'binned_data' not found\nTraceback:\n",
      "1. ggplot(binned_data, aes(x = mean_margin, y = mean_dem_m1))"
     ]
    }
   ],
   "source": [
    "## Now test if other covariates smooth through cut point\n",
    "ggplot(binned_data, aes(x = mean_margin, y =  mean_dem_m1)) + geom_point() +\n",
    "    ggtitle(\"Validity Test - Pre-determined Variables\") +\n",
    "  labs(x=\"Democrat's margin of victory at time t\",y=\"Democrat's margin of victory at time t-1\") +\n",
    " theme(plot.title = element_text(face=\"bold\", size=24, hjust=0.5)) + theme(legend.position=\"none\") +\n",
    "    stat_smooth(method = loess)"
   ]
  },
  {
   "cell_type": "markdown",
   "metadata": {},
   "source": [
    "### The rdd Package\n",
    "\n",
    "For RDD in R, on might consider the [`rdd` package](https://cran.r-project.org/web/packages/rdd/rdd.pdf).  It supports a number of different RDD estimators, will compute optimal bandwith (Imbens and Kalyanaraman (2012)), test for manipulation of the running variable (McCrary (2008)), and provides other features.\n",
    "\n",
    "As an example, let's use the `rdd` package to find the RD estimate of the incumbency advantage on or full data:"
   ]
  },
  {
   "cell_type": "code",
<<<<<<< HEAD
   "execution_count": 26,
   "metadata": {},
   "outputs": [
    {
     "ename": "ERROR",
     "evalue": "Error in terms.formula(form, ...): object 'rd_wide3' not found\n",
     "output_type": "error",
     "traceback": [
      "Error in terms.formula(form, ...): object 'rd_wide3' not found\nTraceback:\n",
      "1. RDestimate(dem_win1 ~ margin, data = rd_wide3, cutpoint = 0)",
      "2. model.frame(formula, rhs = 1, lhs = 0, data = data, na.action = na.pass)",
      "3. model.frame.Formula(formula, rhs = 1, lhs = 0, data = data, na.action = na.pass)",
      "4. model.frame(terms(formula, lhs = lhs, rhs = rhs, data = data, \n .     dot = dot), data = data, ...)",
      "5. terms(formula, lhs = lhs, rhs = rhs, data = data, dot = dot)",
      "6. terms.Formula(formula, lhs = lhs, rhs = rhs, data = data, dot = dot)",
      "7. terms(form, ...)",
      "8. terms.formula(form, ...)"
=======
   "execution_count": 18,
   "metadata": {},
   "outputs": [
    {
     "name": "stdout",
     "output_type": "stream",
     "text": [
      "\n",
      "Call:\n",
      "RDestimate(formula = dem_win_p1 ~ margin, data = rd_wide, cutpoint = 0)\n",
      "\n",
      "Type:\n",
      "sharp \n",
      "\n",
      "Estimates:\n",
      "           Bandwidth  Observations  Estimate  Std. Error  z value  Pr(>|z|) \n",
      "LATE       2.116      476           0.4146    0.17446     2.377    0.0174767\n",
      "Half-BW    1.058      226           0.3407    0.09131     3.731    0.0001909\n",
      "Double-BW  4.232      798           0.2882    0.09080     3.174    0.0015014\n",
      "              \n",
      "LATE       *  \n",
      "Half-BW    ***\n",
      "Double-BW  ** \n",
      "---\n",
      "Signif. codes:  0 '***' 0.001 '**' 0.01 '*' 0.05 '.' 0.1 ' ' 1\n",
      "\n",
      "F-statistics:\n",
      "           F        Num. DoF  Denom. DoF  p        \n",
      "LATE        7.7371  3         472         9.406e-05\n",
      "Half-BW     0.6089  2         223         9.103e-01\n",
      "Double-BW  29.4608  3         794         0.000e+00\n"
>>>>>>> upstream/master
     ]
    }
   ],
   "source": [
    "# call rdd() function\n",
    "library(rdd)\n",
    "# default is to use IK optimal bandwidth\n",
    "# In way written, using local linear regression\n",
    "elec_rdd <- RDestimate(dem_win_p1~margin, data = rd_wide, cutpoint = 0)\n",
    "summary(elec_rdd)"
   ]
  },
  {
   "cell_type": "code",
<<<<<<< HEAD
   "execution_count": 27,
=======
   "execution_count": 19,
>>>>>>> upstream/master
   "metadata": {},
   "outputs": [
    {
     "ename": "ERROR",
     "evalue": "Error in plot(elec_rdd, gran = 400, range = c(-40, 40)): object 'elec_rdd' not found\n",
     "output_type": "error",
     "traceback": [
      "Error in plot(elec_rdd, gran = 400, range = c(-40, 40)): object 'elec_rdd' not found\nTraceback:\n",
      "1. plot(elec_rdd, gran = 400, range = c(-40, 40))"
     ]
    }
   ],
   "source": [
    "# quickly plot results\n",
    "plot(elec_rdd, gran = 400, range = c(-40, 40))"
   ]
  },
  {
   "cell_type": "markdown",
   "metadata": {},
   "source": [
    "### Summary\n",
    "\n",
    "Lee (2008) finds incumbency advantage of 7-8% of vote share (if party won last time, this is effect), which translates to 35\\% increase in prob winning.  We find effects of similar magnitude with these data - about 4-5% and 40%, repsectively.  Of course a weakness of the design (and any non-structural approach) is that it doesn't tell us anything about what drives incumbency advantage.\n",
    "\n",
    "Also, recall that one of the main points of this paper is that RD is value even if the running variable can be endogenous - as long as it can not be perfectly chosen.  The means we can use RDD not just with elections, but also things like thresholds for test scores, etc.\n"
   ]
  },
  {
   "cell_type": "code",
   "execution_count": null,
   "metadata": {
    "collapsed": true
   },
   "outputs": [],
   "source": []
  }
 ],
 "metadata": {
  "kernelspec": {
   "display_name": "R",
   "language": "R",
   "name": "ir"
  },
  "language_info": {
   "codemirror_mode": "r",
   "file_extension": ".r",
   "mimetype": "text/x-r-source",
   "name": "R",
   "pygments_lexer": "r",
   "version": "3.4.2"
  }
 },
 "nbformat": 4,
 "nbformat_minor": 2
}
