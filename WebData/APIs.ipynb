{
 "cells": [
  {
   "cell_type": "markdown",
   "metadata": {},
   "source": [
    "# Using APIs to Gather Data\n",
    "### by [Jason DeBacker](http://jasondebacker.com), October 2017\n",
    "\n",
    "This notebook provides a tutorial and examples showing how to use APIs and Python in order to gather data relevant for economic research.\n",
    "\n",
    "## What is an API?\n",
    "\n",
    "API stands for \"Application Programming Interface\".  APIs provide a way for one piece of software to interact with another by sharing data.  As such, APIs are very general and have many uses.  For example, APIs are used when you copy something from your internet browser and paste it into your word processor.  Here, we are going to focus on a relatively narrow application of APIs.  Specifically, we'll focus on using APIs to help use compile data that we can use for research.\n",
    "\n",
    "## Why use an API?\n",
    "\n",
    "A relevant question is why one would want to use an API rather than downloading a static datafile.  There are a few reasons for using APIs over static data:\n",
    "1. Static datasets may not be available for the particular data source you are interesting in.\n",
    "2. Static datasets may be too large to want to deal with - and your research involves just a selection of these data.\n",
    "3. The data is changing quickly.\n",
    "\n",
    "The last may be less relevant to academic research given our timelines, but the first two are certainly applicable.\n",
    "\n",
    "## The JSON file format\n",
    "\n",
    "Before we get started using APIs, lets discuss the [JSON (JavaScript Object Notation)](http://www.json.org) file format. JSON has become a standard data foramt and many APIs pass data as JSON files.  The JSON format is human-readable, but also easy for machines to parse and generate.  JSON is based on key-value pairs (like a Python dictionary) and ordered lists.  Here's an example of what JSON data look like:\n",
    "\n",
    "```\n",
    "{\n",
    "     \"firstName\": \"John\",\n",
    "     \"lastName\": \"Smith\",\n",
    "     \"address\": {\n",
    "         \"streetAddress\": \"21 2nd Street\",\n",
    "         \"city\": \"New York\",\n",
    "         \"state\": \"NY\",\n",
    "         \"postalCode\": 10021\n",
    "     },\n",
    "     \"phoneNumbers\": [\n",
    "         \"212 555-1234\",\n",
    "         \"646 555-4567\"\n",
    "     ]\n",
    " }\n",
    "```\n",
    "\n",
    "You can see some similarities between the what JSON is written and the way one writes data to a Python dictioinary.  They contain similar structures.  Another thing to notice about the JSON format - you can clearly understand the data that are being represented here and what they mean.\n",
    "\n",
    "## Example 1: Using `pandas-datareader`\n",
    "\n",
    "One of the easiest ways to use an API is Python is to use the `pandas-datareader` package.  Fortunately for our purposes, this package also provides us the ability to connect to APIs for a number of datasources that are commonly used in economics such as:\n",
    "\n",
    "* Quandl\n",
    "* St.Louis FED (FRED)\n",
    "* Kenneth French’s data library\n",
    "* World Bank\n",
    "* OECD\n",
    "* Yahoo! Finance\n",
    "* Google Finance\n",
    "* Eurostat\n",
    "* Enigma\n",
    "\n",
    "For the example that follows, we will gather some data from FRED and plot it.  `pandas-datareader` provides a wrapper for the [FRED API](https://research.stlouisfed.org/docs/api/fred/).\n"
   ]
  },
  {
   "cell_type": "code",
   "execution_count": 2,
   "metadata": {},
   "outputs": [
    {
     "data": {
      "text/html": [
       "<div>\n",
       "<style>\n",
       "    .dataframe thead tr:only-child th {\n",
       "        text-align: right;\n",
       "    }\n",
       "\n",
       "    .dataframe thead th {\n",
       "        text-align: left;\n",
       "    }\n",
       "\n",
       "    .dataframe tbody tr th {\n",
       "        vertical-align: top;\n",
       "    }\n",
       "</style>\n",
       "<table border=\"1\" class=\"dataframe\">\n",
       "  <thead>\n",
       "    <tr style=\"text-align: right;\">\n",
       "      <th></th>\n",
       "      <th>USREC</th>\n",
       "      <th>GDPC1</th>\n",
       "      <th>GPDIC96</th>\n",
       "    </tr>\n",
       "    <tr>\n",
       "      <th>DATE</th>\n",
       "      <th></th>\n",
       "      <th></th>\n",
       "      <th></th>\n",
       "    </tr>\n",
       "  </thead>\n",
       "  <tbody>\n",
       "    <tr>\n",
       "      <th>1947-01-01</th>\n",
       "      <td>0</td>\n",
       "      <td>1934.5</td>\n",
       "      <td>222.679</td>\n",
       "    </tr>\n",
       "    <tr>\n",
       "      <th>1947-02-01</th>\n",
       "      <td>0</td>\n",
       "      <td>NaN</td>\n",
       "      <td>NaN</td>\n",
       "    </tr>\n",
       "    <tr>\n",
       "      <th>1947-03-01</th>\n",
       "      <td>0</td>\n",
       "      <td>NaN</td>\n",
       "      <td>NaN</td>\n",
       "    </tr>\n",
       "    <tr>\n",
       "      <th>1947-04-01</th>\n",
       "      <td>0</td>\n",
       "      <td>1932.3</td>\n",
       "      <td>205.623</td>\n",
       "    </tr>\n",
       "    <tr>\n",
       "      <th>1947-05-01</th>\n",
       "      <td>0</td>\n",
       "      <td>NaN</td>\n",
       "      <td>NaN</td>\n",
       "    </tr>\n",
       "    <tr>\n",
       "      <th>1947-06-01</th>\n",
       "      <td>0</td>\n",
       "      <td>NaN</td>\n",
       "      <td>NaN</td>\n",
       "    </tr>\n",
       "    <tr>\n",
       "      <th>1947-07-01</th>\n",
       "      <td>0</td>\n",
       "      <td>1930.3</td>\n",
       "      <td>199.573</td>\n",
       "    </tr>\n",
       "    <tr>\n",
       "      <th>1947-08-01</th>\n",
       "      <td>0</td>\n",
       "      <td>NaN</td>\n",
       "      <td>NaN</td>\n",
       "    </tr>\n",
       "    <tr>\n",
       "      <th>1947-09-01</th>\n",
       "      <td>0</td>\n",
       "      <td>NaN</td>\n",
       "      <td>NaN</td>\n",
       "    </tr>\n",
       "    <tr>\n",
       "      <th>1947-10-01</th>\n",
       "      <td>0</td>\n",
       "      <td>1960.7</td>\n",
       "      <td>238.192</td>\n",
       "    </tr>\n",
       "  </tbody>\n",
       "</table>\n",
       "</div>"
      ],
      "text/plain": [
       "            USREC   GDPC1  GPDIC96\n",
       "DATE                              \n",
       "1947-01-01      0  1934.5  222.679\n",
       "1947-02-01      0     NaN      NaN\n",
       "1947-03-01      0     NaN      NaN\n",
       "1947-04-01      0  1932.3  205.623\n",
       "1947-05-01      0     NaN      NaN\n",
       "1947-06-01      0     NaN      NaN\n",
       "1947-07-01      0  1930.3  199.573\n",
       "1947-08-01      0     NaN      NaN\n",
       "1947-09-01      0     NaN      NaN\n",
       "1947-10-01      0  1960.7  238.192"
      ]
     },
     "execution_count": 2,
     "metadata": {},
     "output_type": "execute_result"
    }
   ],
   "source": [
    "# import pandas-datareader and other packages\n",
    "import pandas_datareader.data as web\n",
    "import pandas as pd\n",
    "import numpy as np\n",
    "import datetime\n",
    "import matplotlib.pyplot as plt\n",
    "%matplotlib inline  \n",
    "\n",
    "# set beginning and end dates for data\n",
    "start = datetime.datetime(1947, 1, 1) # format is year (1947), month (1), day (1)\n",
    "end = datetime.date.today() # go through today\n",
    "\n",
    "# pull series of interest using pandas_datareader\n",
    "fred_data=web.DataReader([\"USREC\", \"GDPC1\", \"GPDIC96\"], \"fred\", start, end)\n",
    "fred_data.head(n=10)"
   ]
  },
  {
   "cell_type": "code",
   "execution_count": 3,
   "metadata": {},
   "outputs": [
    {
     "data": {
      "text/plain": [
       "<matplotlib.collections.PolyCollection at 0x10f4e8128>"
      ]
     },
     "execution_count": 3,
     "metadata": {},
     "output_type": "execute_result"
    },
    {
     "data": {
      "image/png": "[encoded data removed]",
      "text/plain": [
       "<matplotlib.figure.Figure at 0x10b825da0>"
      ]
     },
     "metadata": {},
     "output_type": "display_data"
    }
   ],
   "source": [
    "# some data are monthly - put everything into quartely by averaging over months\n",
    "fred_data = fred_data.resample('Q').mean()\n",
    "fred_data = fred_data[:-1] # drop last quarter since not all data available\n",
    "\n",
    "# First-difference and detrend the data\n",
    "# Note: probably a better way to do this\n",
    "fred_data['dt_gdp']=fred_data['GDPC1'].pct_change(freq='Q') - np.mean(fred_data['GDPC1'].pct_change(freq='Q'))\n",
    "fred_data['dt_inv']=fred_data['GPDIC96'].pct_change(freq='Q') - np.mean(fred_data['GPDIC96'].pct_change(freq='Q'))\n",
    "\n",
    "# plot GDP and investment series\n",
    "ax = fred_data.plot(y=['dt_gdp', 'dt_inv'], title=\"Volatility of GDP and Investment\",\n",
    "               grid=True, lw=1, color = ['blue', 'red'])\n",
    "# Label y-axis\n",
    "ax.set_ylabel(\"Percent Change from Previous Quarter\")\n",
    "# rename column vars for legend\n",
    "ax.legend(['GDP', 'Investment'])\n",
    "# add a zero line\n",
    "ax.axhline(0, color='k', linestyle='-', linewidth=1)\n",
    "# shade recessions\n",
    "ax.fill_between(fred_data.index, ax.get_ylim()[0], ax.get_ylim()[1], where=fred_data['USREC'].values, color='gray', alpha=0.2)"
   ]
  },
  {
   "cell_type": "markdown",
   "metadata": {},
   "source": [
    "This is pretty neat.  We can, with few line of code, gather and plot any data that FRED has.  `pandas-datareader` is doing a lot behind the scenes.  It is contacting the web address of the FRED servers which store these data, making a request to get these data, downloading those JSON files, and then creating the `fred_data` dataframe object from those JSON files. \n",
    "\n",
    "## Example 2:  Accessing Trade Data\n",
    "\n",
    "Now we'll use an API for which there is not a Python wrapper.  In particular, we'll download trade data from the Observatory of Economic Complexity (OEC).  The OEC has compiled trade data from sources such as the United Nations Statistical Division (COMTRADE) and put them in one place.  These databases are large - trade flows by very dissaggregated levels of goods between all most country pairs from 1962-2015.\n",
    "\n",
    "Fortunately, the OEC has an API we can use to access these data.  Details on how to use the API are [here](http://atlas.media.mit.edu/api/).  Let's use this and look at some trends in trade flows between the U.S. and China."
   ]
  },
  {
   "cell_type": "code",
   "execution_count": 4,
   "metadata": {},
   "outputs": [
    {
     "name": "stderr",
     "output_type": "stream",
     "text": [
      "IOPub data rate exceeded.\n",
      "The notebook server will temporarily stop sending output\n",
      "to the client in order to avoid crashing it.\n",
      "To change this limit, set the config variable\n",
      "`--NotebookApp.iopub_data_rate_limit`.\n"
     ]
    }
   ],
   "source": [
    "import requests\n",
    "import json\n",
    "\n",
    "# Format for URL: / CLASSIFICATION / TRADE_FLOW / YEAR / ORIGIN / DESTINATION / PRODUCT /\n",
    "url = \"http://atlas.media.mit.edu/sitc/export/1962.2015/chn/usa/all/\"\n",
    "response = requests.get(url)\n",
    "trade_data = response.text\n",
    "trade_data"
   ]
  },
  {
   "cell_type": "code",
   "execution_count": 5,
   "metadata": {
    "collapsed": true
   },
   "outputs": [],
   "source": [
    "df = pd.read_json(trade_data, orient='split')"
   ]
  },
  {
   "cell_type": "code",
   "execution_count": 6,
   "metadata": {},
   "outputs": [
    {
     "data": {
      "text/html": [
       "<div>\n",
       "<style>\n",
       "    .dataframe thead tr:only-child th {\n",
       "        text-align: right;\n",
       "    }\n",
       "\n",
       "    .dataframe thead th {\n",
       "        text-align: left;\n",
       "    }\n",
       "\n",
       "    .dataframe tbody tr th {\n",
       "        vertical-align: top;\n",
       "    }\n",
       "</style>\n",
       "<table border=\"1\" class=\"dataframe\">\n",
       "  <thead>\n",
       "    <tr style=\"text-align: right;\">\n",
       "      <th></th>\n",
       "      <th>export_val</th>\n",
       "      <th>export_val_growth_pct</th>\n",
       "      <th>export_val_growth_pct_5</th>\n",
       "      <th>export_val_growth_val</th>\n",
       "      <th>export_val_growth_val_5</th>\n",
       "      <th>import_val</th>\n",
       "      <th>import_val_growth_pct</th>\n",
       "      <th>import_val_growth_pct_5</th>\n",
       "      <th>import_val_growth_val</th>\n",
       "      <th>import_val_growth_val_5</th>\n",
       "      <th>sitc_id</th>\n",
       "      <th>sitc_id_len</th>\n",
       "      <th>year</th>\n",
       "    </tr>\n",
       "  </thead>\n",
       "  <tbody>\n",
       "    <tr>\n",
       "      <th>count</th>\n",
       "      <td>2.640900e+04</td>\n",
       "      <td>19960.000000</td>\n",
       "      <td>17162.000000</td>\n",
       "      <td>2.274700e+04</td>\n",
       "      <td>1.982800e+04</td>\n",
       "      <td>2.667100e+04</td>\n",
       "      <td>2.064800e+04</td>\n",
       "      <td>1.768300e+04</td>\n",
       "      <td>2.286100e+04</td>\n",
       "      <td>1.993900e+04</td>\n",
       "      <td>26740.000000</td>\n",
       "      <td>26740.0</td>\n",
       "      <td>26740.000000</td>\n",
       "    </tr>\n",
       "    <tr>\n",
       "      <th>mean</th>\n",
       "      <td>1.755299e+08</td>\n",
       "      <td>5.138533</td>\n",
       "      <td>0.403667</td>\n",
       "      <td>1.637223e+07</td>\n",
       "      <td>8.918930e+07</td>\n",
       "      <td>5.278059e+07</td>\n",
       "      <td>1.230195e+02</td>\n",
       "      <td>4.265944e+02</td>\n",
       "      <td>3.802195e+06</td>\n",
       "      <td>2.312802e+07</td>\n",
       "      <td>416858.844577</td>\n",
       "      <td>6.0</td>\n",
       "      <td>1997.168138</td>\n",
       "    </tr>\n",
       "    <tr>\n",
       "      <th>std</th>\n",
       "      <td>1.021788e+09</td>\n",
       "      <td>146.380937</td>\n",
       "      <td>3.531233</td>\n",
       "      <td>1.600377e+08</td>\n",
       "      <td>5.392408e+08</td>\n",
       "      <td>3.931690e+08</td>\n",
       "      <td>1.181163e+04</td>\n",
       "      <td>5.666209e+04</td>\n",
       "      <td>8.259172e+07</td>\n",
       "      <td>2.225723e+08</td>\n",
       "      <td>265011.797504</td>\n",
       "      <td>0.0</td>\n",
       "      <td>11.004220</td>\n",
       "    </tr>\n",
       "    <tr>\n",
       "      <th>min</th>\n",
       "      <td>0.000000e+00</td>\n",
       "      <td>-1.000000</td>\n",
       "      <td>-1.000000</td>\n",
       "      <td>-5.529963e+09</td>\n",
       "      <td>-5.497337e+09</td>\n",
       "      <td>0.000000e+00</td>\n",
       "      <td>-1.000000e+00</td>\n",
       "      <td>-1.000000e+00</td>\n",
       "      <td>-3.895364e+09</td>\n",
       "      <td>-1.548365e+09</td>\n",
       "      <td>105722.000000</td>\n",
       "      <td>6.0</td>\n",
       "      <td>1962.000000</td>\n",
       "    </tr>\n",
       "    <tr>\n",
       "      <th>25%</th>\n",
       "      <td>8.082900e+04</td>\n",
       "      <td>-0.111515</td>\n",
       "      <td>0.049065</td>\n",
       "      <td>-1.786300e+04</td>\n",
       "      <td>1.401550e+04</td>\n",
       "      <td>7.458450e+04</td>\n",
       "      <td>-2.721480e-01</td>\n",
       "      <td>-3.137670e-02</td>\n",
       "      <td>-1.162180e+05</td>\n",
       "      <td>0.000000e+00</td>\n",
       "      <td>127924.000000</td>\n",
       "      <td>6.0</td>\n",
       "      <td>1989.000000</td>\n",
       "    </tr>\n",
       "    <tr>\n",
       "      <th>50%</th>\n",
       "      <td>2.497000e+06</td>\n",
       "      <td>0.161091</td>\n",
       "      <td>0.211556</td>\n",
       "      <td>9.045600e+04</td>\n",
       "      <td>1.813711e+06</td>\n",
       "      <td>1.318726e+06</td>\n",
       "      <td>1.144840e-01</td>\n",
       "      <td>1.627230e-01</td>\n",
       "      <td>1.335400e+04</td>\n",
       "      <td>4.195130e+05</td>\n",
       "      <td>430712.000000</td>\n",
       "      <td>6.0</td>\n",
       "      <td>1998.000000</td>\n",
       "    </tr>\n",
       "    <tr>\n",
       "      <th>75%</th>\n",
       "      <td>4.085238e+07</td>\n",
       "      <td>0.638823</td>\n",
       "      <td>0.454965</td>\n",
       "      <td>3.731809e+06</td>\n",
       "      <td>2.598628e+07</td>\n",
       "      <td>1.284663e+07</td>\n",
       "      <td>7.696618e-01</td>\n",
       "      <td>4.059090e-01</td>\n",
       "      <td>1.244418e+06</td>\n",
       "      <td>6.386857e+06</td>\n",
       "      <td>618434.000000</td>\n",
       "      <td>6.0</td>\n",
       "      <td>2006.000000</td>\n",
       "    </tr>\n",
       "    <tr>\n",
       "      <th>max</th>\n",
       "      <td>3.855838e+10</td>\n",
       "      <td>13259.000000</td>\n",
       "      <td>248.825000</td>\n",
       "      <td>8.517509e+09</td>\n",
       "      <td>1.988833e+10</td>\n",
       "      <td>1.649505e+10</td>\n",
       "      <td>1.665890e+06</td>\n",
       "      <td>7.534780e+06</td>\n",
       "      <td>3.689362e+09</td>\n",
       "      <td>1.146957e+10</td>\n",
       "      <td>909610.000000</td>\n",
       "      <td>6.0</td>\n",
       "      <td>2015.000000</td>\n",
       "    </tr>\n",
       "  </tbody>\n",
       "</table>\n",
       "</div>"
      ],
      "text/plain": [
       "         export_val  export_val_growth_pct  export_val_growth_pct_5  \\\n",
       "count  2.640900e+04           19960.000000             17162.000000   \n",
       "mean   1.755299e+08               5.138533                 0.403667   \n",
       "std    1.021788e+09             146.380937                 3.531233   \n",
       "min    0.000000e+00              -1.000000                -1.000000   \n",
       "25%    8.082900e+04              -0.111515                 0.049065   \n",
       "50%    2.497000e+06               0.161091                 0.211556   \n",
       "75%    4.085238e+07               0.638823                 0.454965   \n",
       "max    3.855838e+10           13259.000000               248.825000   \n",
       "\n",
       "       export_val_growth_val  export_val_growth_val_5    import_val  \\\n",
       "count           2.274700e+04             1.982800e+04  2.667100e+04   \n",
       "mean            1.637223e+07             8.918930e+07  5.278059e+07   \n",
       "std             1.600377e+08             5.392408e+08  3.931690e+08   \n",
       "min            -5.529963e+09            -5.497337e+09  0.000000e+00   \n",
       "25%            -1.786300e+04             1.401550e+04  7.458450e+04   \n",
       "50%             9.045600e+04             1.813711e+06  1.318726e+06   \n",
       "75%             3.731809e+06             2.598628e+07  1.284663e+07   \n",
       "max             8.517509e+09             1.988833e+10  1.649505e+10   \n",
       "\n",
       "       import_val_growth_pct  import_val_growth_pct_5  import_val_growth_val  \\\n",
       "count           2.064800e+04             1.768300e+04           2.286100e+04   \n",
       "mean            1.230195e+02             4.265944e+02           3.802195e+06   \n",
       "std             1.181163e+04             5.666209e+04           8.259172e+07   \n",
       "min            -1.000000e+00            -1.000000e+00          -3.895364e+09   \n",
       "25%            -2.721480e-01            -3.137670e-02          -1.162180e+05   \n",
       "50%             1.144840e-01             1.627230e-01           1.335400e+04   \n",
       "75%             7.696618e-01             4.059090e-01           1.244418e+06   \n",
       "max             1.665890e+06             7.534780e+06           3.689362e+09   \n",
       "\n",
       "       import_val_growth_val_5        sitc_id  sitc_id_len          year  \n",
       "count             1.993900e+04   26740.000000      26740.0  26740.000000  \n",
       "mean              2.312802e+07  416858.844577          6.0   1997.168138  \n",
       "std               2.225723e+08  265011.797504          0.0     11.004220  \n",
       "min              -1.548365e+09  105722.000000          6.0   1962.000000  \n",
       "25%               0.000000e+00  127924.000000          6.0   1989.000000  \n",
       "50%               4.195130e+05  430712.000000          6.0   1998.000000  \n",
       "75%               6.386857e+06  618434.000000          6.0   2006.000000  \n",
       "max               1.146957e+10  909610.000000          6.0   2015.000000  "
      ]
     },
     "execution_count": 6,
     "metadata": {},
     "output_type": "execute_result"
    }
   ],
   "source": [
    "df.describe()"
   ]
  },
  {
   "cell_type": "code",
   "execution_count": 7,
   "metadata": {},
   "outputs": [
    {
     "data": {
      "text/plain": [
       "<matplotlib.axes._subplots.AxesSubplot at 0x10f4f6780>"
      ]
     },
     "execution_count": 7,
     "metadata": {},
     "output_type": "execute_result"
    },
    {
     "data": {
      "image/png": "[encoded data removed]",
      "text/plain": [
       "<matplotlib.figure.Figure at 0x10f5eaba8>"
      ]
     },
     "metadata": {},
     "output_type": "display_data"
    }
   ],
   "source": [
    "# plot data\n",
    "plt.style.use('seaborn')\n",
    "# use data just for one SITC category - Rubber tires, SITC code 106251\n",
    "df[df['sitc_id']==106251].plot(x='year', y=['import_val','export_val'], kind='bar',\n",
    "                              title='Chinese imports and exports by year - Rubber tires')"
   ]
  },
  {
   "cell_type": "markdown",
   "metadata": {},
   "source": [
    "## Example 3: Twitter data\n",
    "\n",
    "### Setting up\n",
    "\n",
    "To use the Twitter API, you will need to have some credentials to authenticate yourself.  You can set these up by going to [https://apps.twitter.com](https://apps.twitter.com) and creating a new app.  This will allow you to get the credentials you need: `Consumer Key` and `Consumer Secret`. Depending on what you are doing, you might also need the `Access Token Key` and the `Access Token Secret`.  Grab all of these and store them in a file THAT YOU DO NOT SHARE (these are private).  I put these in a JSON file called `credentials.json`.  It contains the follwing (with my credentials removed):\n",
    "\n",
    "```\n",
    "{\n",
    "  \"consumer_key\" : \"...\",\n",
    "  \"consumer_secret\" : \"...\",\n",
    "  \"access_token_key\" : \"...\",\n",
    "  \"access_token_secret\" : \"...\"\n",
    "}\n",
    "\n",
    "```\n",
    "\n",
    "The Twitter API has some notable limitations.  For example, the twitter API limits your search results to 100 tweets (in many circumstances, some times you can get more, but still not many thousands).  You can get more tweets by opening up a streaming API to gather tweets in realtime.  This can be done with they `TwythonStreaming` module - or with other packages that interface with the Twitter API.  \n",
    "\n",
    "Note there are also Twitter APIs for enterprise use that allow you to gather more data, but they cost $$.\n",
    "\n",
    "### Searching for tweets with a specific query\n",
    "\n",
    "First, let's see how to grab tweets with a query.  E.g., we can try to grab tweets with a certain phrase in them.  There are seveal Python packages that provide wrappers or the Twitter API.  We'll use [Twython](https://twython.readthedocs.io/en/latest/).  [Tweepy](https://github.com/tweepy/tweepy) seems to also be popular.  But they all have similar structure, so once you get the handle on one, you can probably use others without much of a learning curve."
   ]
  },
  {
   "cell_type": "code",
   "execution_count": null,
   "metadata": {
    "collapsed": true
   },
   "outputs": [],
   "source": [
    "# import packages\n",
    "from twython import Twython\n",
    "from twython.exceptions import TwythonError\n",
    "import json\n",
    "\n",
    "# import credentials to connect to Twitter API\n",
    "with open('credentials.json') as f:\n",
    "    creds = json.loads(f.read())\n",
    "\n",
    "# Initiate the client\n",
    "client = Twython(\n",
    "    creds['consumer_key'],\n",
    "    creds['consumer_secret'],\n",
    "    creds['access_token_key'],\n",
    "    creds['access_token_secret']\n",
    ")"
   ]
  },
  {
   "cell_type": "code",
   "execution_count": null,
   "metadata": {
    "collapsed": true
   },
   "outputs": [],
   "source": [
    "# specify the search terms - and filter out retweets\n",
    "query = '#MAGA -filter:retweets'\n",
    "\n",
    "# use the client to run a search\n",
    "# geocode = '25.032341,55.385557,100000mi' # latitude,longitude,distance(mi/km)\n",
    "\n",
    "results = client.search(q=query, count=100)\n",
    "# results = client.search(q=query, count=100, geocode=geocode)"
   ]
  },
  {
   "cell_type": "code",
   "execution_count": null,
   "metadata": {
    "collapsed": true
   },
   "outputs": [],
   "source": [
    "# Look at how the results are structured\n",
    "results.keys()"
   ]
  },
  {
   "cell_type": "code",
   "execution_count": null,
   "metadata": {
    "collapsed": true
   },
   "outputs": [],
   "source": [
    "len(results['statuses'])"
   ]
  },
  {
   "cell_type": "code",
   "execution_count": null,
   "metadata": {
    "collapsed": true
   },
   "outputs": [],
   "source": [
    "# take a loot at data from a single tweet\n",
    "results['statuses'][0]"
   ]
  },
  {
   "cell_type": "code",
   "execution_count": null,
   "metadata": {
    "collapsed": true
   },
   "outputs": [],
   "source": [
    "# put results in a DataFrame\n",
    "df = pd.DataFrame(results['statuses'])"
   ]
  },
  {
   "cell_type": "markdown",
   "metadata": {},
   "source": [
    "### Searching for tweets from a specific user\n",
    "\n",
    "Another option we have with Twython is to search for results from a specific user.  Here we need to provide a screen name or user id.  We can return up to about the 200 most recent tweets from the user."
   ]
  },
  {
   "cell_type": "code",
   "execution_count": null,
   "metadata": {
    "collapsed": true
   },
   "outputs": [],
   "source": [
    "tweets = []\n",
    "tweet_loc = []\n",
    "try:\n",
    "    user_timeline = client.get_user_timeline(screen_name='realdonaldtrump',count=200)\n",
    "except TwythonError as e:\n",
    "    print(e)\n",
    "print(len(user_timeline))\n",
    "for tweet in user_timeline:\n",
    "    # Add whatever you want from the tweet, here we just add the text\n",
    "    tweets.append(tweet['text'])\n",
    "    tweet_loc.append(tweet['geo'])\n",
    "# Count could be less than 200, see:\n",
    "# https://dev.twitter.com/discussions/7513\n",
    "while len(user_timeline) != 0: \n",
    "    try:\n",
    "        user_timeline = client.get_user_timeline(screen_name='realdonaltrump',\n",
    "                                                 count=500,max_id=user_timeline[len(user_timeline)-1]['id']-1)\n",
    "    except TwythonError as e:\n",
    "        print(e)\n",
    "    print(len(user_timeline))\n",
    "    for tweet in user_timeline:\n",
    "        # Add whatever you want from the tweet, here we just add the text\n",
    "        tweets.append(tweet['text'])\n",
    "        tweet_loc.append(tweet['geo'])\n",
    "# Number of tweets the user has made\n",
    "print(len(tweets))"
   ]
  },
  {
   "cell_type": "code",
   "execution_count": null,
   "metadata": {
    "collapsed": true
   },
   "outputs": [],
   "source": [
    "# Looking at what is in the tweets we've compiled\n",
    "tweets[0]"
   ]
  },
  {
   "cell_type": "code",
   "execution_count": null,
   "metadata": {
    "collapsed": true
   },
   "outputs": [],
   "source": [
    "# Each tweet has much more infor than just the text we saved\n",
    "tweet.keys()"
   ]
  },
  {
   "cell_type": "code",
   "execution_count": null,
   "metadata": {
    "collapsed": true
   },
   "outputs": [],
   "source": [
    "tweet"
   ]
  },
  {
   "cell_type": "code",
   "execution_count": null,
   "metadata": {
    "collapsed": true
   },
   "outputs": [],
   "source": [
    "# Put the tweets in a dataframe\n",
    "trump_df = pd.DataFrame(tweets)\n",
    "trump_df"
   ]
  },
  {
   "cell_type": "code",
   "execution_count": null,
   "metadata": {
    "collapsed": true
   },
   "outputs": [],
   "source": [
    "# Plot the frequency of certain text\n",
    "trump_df['Great'] = trump_df[0].str.contains('Great', case=False)\n",
    "trump_df['Trump'] = trump_df[0].str.contains('Trump')\n",
    "trump_df['America'] = trump_df[0].str.contains('America')\n",
    "trump_df['Tax'] = trump_df[0].str.contains('Tax', case=False)\n",
    "trump_df[[\"Great\", \"NFL\", \"Trump\", \"America\", \"Tax\"]].sum().plot(kind = \"bar\", title='Trump Tweet Topics')"
   ]
  },
  {
   "cell_type": "code",
   "execution_count": null,
   "metadata": {
    "collapsed": true
   },
   "outputs": [],
   "source": []
  }
 ],
 "metadata": {
  "kernelspec": {
   "display_name": "Python 3",
   "language": "python",
   "name": "python3"
  },
  "language_info": {
   "codemirror_mode": {
    "name": "ipython",
    "version": 3
   },
   "file_extension": ".py",
   "mimetype": "text/x-python",
   "name": "python",
   "nbconvert_exporter": "python",
   "pygments_lexer": "ipython3",
   "version": "3.6.1"
  }
 },
 "nbformat": 4,
 "nbformat_minor": 2
}
